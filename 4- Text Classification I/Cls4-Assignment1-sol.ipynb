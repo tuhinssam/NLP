{
 "cells": [
  {
   "cell_type": "markdown",
   "metadata": {},
   "source": [
    "1. Write a program to input three sentences from user and creates the corpus\n",
    "Example:\n",
    "Let’s say these 3 are your strings:\n",
    "S1=” India won the match”\n",
    "S2=” England won the cricket match”\n",
    "S3=” Australia won the final match”\n",
    "Then Corpus (list of union of all words from all strings) is:\n",
    "[India, England, Australia, won, the, match, cricket, final]\n",
    "Create a function named “MakeCorpus” which will take list of string as an input and will return a list having union of all words. Save this function in a python file named “Corpus”. This can be used for future applications"
   ]
  },
  {
   "cell_type": "code",
   "execution_count": 4,
   "metadata": {},
   "outputs": [],
   "source": [
    "from nltk import word_tokenize"
   ]
  },
  {
   "cell_type": "code",
   "execution_count": 13,
   "metadata": {},
   "outputs": [],
   "source": [
    "\n",
    "s1 = \"India won the match\"\n",
    "s2 = \" England won the cricket match\"\n",
    "s3 = \"Australia won the final match\"\n",
    "\n",
    "def MakeCorpus(strlist):\n",
    "    tokens = set()\n",
    "    for strval in strlist:\n",
    "        tokens = tokens.union(set(word_tokenize(strval)))\n",
    "    return tokens\n",
    "\n",
    "strlist = [s1,s2,s3]\n",
    "values = MakeCorpus(strlist)"
   ]
  },
  {
   "cell_type": "markdown",
   "metadata": {},
   "source": [
    "2. Write a program to input three sentences from user and convert them into vectors. Use presence and absence of words to build the vectors.\n",
    "Example:\n",
    "Let’s say these 3 are your strings:\n",
    "S1=” India won the match”\n",
    "S2=” England won the cricket match”\n",
    "S3=” Australia won the final match”\n",
    "Then Corpus (list of union of all words from all strings) is:\n",
    "[India, England, Australia, won, the, match, cricket, final]\n",
    "So, S1 will be [1,0,0,1,1,1,0,0] S2 will be [0,1,0,1,1,1,1,0] S3 will be [0,0,1,1,1,1,0,1]\n",
    "Create a function named “PresenceAbsenceVectorization” which will take list of string as an input and will return a list of vectors. Save this function in a python file named “Vectorization”. This can be used for future applications"
   ]
  },
  {
   "cell_type": "code",
   "execution_count": 22,
   "metadata": {},
   "outputs": [
    {
     "data": {
      "text/html": [
       "<div>\n",
       "<style scoped>\n",
       "    .dataframe tbody tr th:only-of-type {\n",
       "        vertical-align: middle;\n",
       "    }\n",
       "\n",
       "    .dataframe tbody tr th {\n",
       "        vertical-align: top;\n",
       "    }\n",
       "\n",
       "    .dataframe thead th {\n",
       "        text-align: right;\n",
       "    }\n",
       "</style>\n",
       "<table border=\"1\" class=\"dataframe\">\n",
       "  <thead>\n",
       "    <tr style=\"text-align: right;\">\n",
       "      <th></th>\n",
       "      <th>Australia</th>\n",
       "      <th>won</th>\n",
       "      <th>final</th>\n",
       "      <th>the</th>\n",
       "      <th>England</th>\n",
       "      <th>cricket</th>\n",
       "      <th>India</th>\n",
       "      <th>match</th>\n",
       "    </tr>\n",
       "  </thead>\n",
       "  <tbody>\n",
       "    <tr>\n",
       "      <th>0</th>\n",
       "      <td>0</td>\n",
       "      <td>1</td>\n",
       "      <td>0</td>\n",
       "      <td>1</td>\n",
       "      <td>0</td>\n",
       "      <td>0</td>\n",
       "      <td>1</td>\n",
       "      <td>1</td>\n",
       "    </tr>\n",
       "    <tr>\n",
       "      <th>1</th>\n",
       "      <td>0</td>\n",
       "      <td>1</td>\n",
       "      <td>0</td>\n",
       "      <td>1</td>\n",
       "      <td>1</td>\n",
       "      <td>1</td>\n",
       "      <td>0</td>\n",
       "      <td>1</td>\n",
       "    </tr>\n",
       "    <tr>\n",
       "      <th>2</th>\n",
       "      <td>1</td>\n",
       "      <td>1</td>\n",
       "      <td>1</td>\n",
       "      <td>1</td>\n",
       "      <td>0</td>\n",
       "      <td>0</td>\n",
       "      <td>0</td>\n",
       "      <td>1</td>\n",
       "    </tr>\n",
       "  </tbody>\n",
       "</table>\n",
       "</div>"
      ],
      "text/plain": [
       "   Australia  won  final  the  England  cricket  India  match\n",
       "0          0    1      0    1        0        0      1      1\n",
       "1          0    1      0    1        1        1      0      1\n",
       "2          1    1      1    1        0        0      0      1"
      ]
     },
     "execution_count": 22,
     "metadata": {},
     "output_type": "execute_result"
    }
   ],
   "source": [
    "import pandas as pd\n",
    "import numpy as np\n",
    "\n",
    "str1_dict = dict.fromkeys(values,0)\n",
    "str2_dict = dict.fromkeys(values,0)\n",
    "str3_dict = dict.fromkeys(values,0)\n",
    "for token in word_tokenize(s1):\n",
    "    str1_dict[token] +=1\n",
    "for token in word_tokenize(s2):\n",
    "    str2_dict[token] +=1\n",
    "for token in word_tokenize(s3):\n",
    "    str3_dict[token] +=1\n",
    "    \n",
    "dict_df = pd.DataFrame([str1_dict,str2_dict,str3_dict])\n",
    "dict_df"
   ]
  },
  {
   "cell_type": "code",
   "execution_count": 29,
   "metadata": {},
   "outputs": [
    {
     "data": {
      "text/html": [
       "<div>\n",
       "<style scoped>\n",
       "    .dataframe tbody tr th:only-of-type {\n",
       "        vertical-align: middle;\n",
       "    }\n",
       "\n",
       "    .dataframe tbody tr th {\n",
       "        vertical-align: top;\n",
       "    }\n",
       "\n",
       "    .dataframe thead th {\n",
       "        text-align: right;\n",
       "    }\n",
       "</style>\n",
       "<table border=\"1\" class=\"dataframe\">\n",
       "  <thead>\n",
       "    <tr style=\"text-align: right;\">\n",
       "      <th></th>\n",
       "      <th>australia</th>\n",
       "      <th>cricket</th>\n",
       "      <th>england</th>\n",
       "      <th>final</th>\n",
       "      <th>india</th>\n",
       "      <th>match</th>\n",
       "      <th>the</th>\n",
       "      <th>won</th>\n",
       "    </tr>\n",
       "  </thead>\n",
       "  <tbody>\n",
       "    <tr>\n",
       "      <th>0</th>\n",
       "      <td>0</td>\n",
       "      <td>0</td>\n",
       "      <td>0</td>\n",
       "      <td>0</td>\n",
       "      <td>1</td>\n",
       "      <td>1</td>\n",
       "      <td>1</td>\n",
       "      <td>1</td>\n",
       "    </tr>\n",
       "    <tr>\n",
       "      <th>1</th>\n",
       "      <td>0</td>\n",
       "      <td>1</td>\n",
       "      <td>1</td>\n",
       "      <td>0</td>\n",
       "      <td>0</td>\n",
       "      <td>1</td>\n",
       "      <td>1</td>\n",
       "      <td>1</td>\n",
       "    </tr>\n",
       "    <tr>\n",
       "      <th>2</th>\n",
       "      <td>1</td>\n",
       "      <td>0</td>\n",
       "      <td>0</td>\n",
       "      <td>1</td>\n",
       "      <td>0</td>\n",
       "      <td>1</td>\n",
       "      <td>1</td>\n",
       "      <td>1</td>\n",
       "    </tr>\n",
       "  </tbody>\n",
       "</table>\n",
       "</div>"
      ],
      "text/plain": [
       "   australia  cricket  england  final  india  match  the  won\n",
       "0          0        0        0      0      1      1    1    1\n",
       "1          0        1        1      0      0      1    1    1\n",
       "2          1        0        0      1      0      1    1    1"
      ]
     },
     "execution_count": 29,
     "metadata": {},
     "output_type": "execute_result"
    }
   ],
   "source": [
    "from sklearn.feature_extraction.text import CountVectorizer\n",
    "def Vectorization(strlist):\n",
    "    count_vect = CountVectorizer()\n",
    "    x_counts = count_vect.fit_transform(strlist)\n",
    "    x_names = count_vect.get_feature_names()\n",
    "    df = pd.DataFrame(x_counts.toarray(), columns = x_names)\n",
    "    return df\n",
    "Vectorization(strlist)"
   ]
  },
  {
   "cell_type": "markdown",
   "metadata": {},
   "source": [
    "3. Write a program to enter 3 strings from a user and vectorise them on basis of their counts.\n",
    "Example:\n",
    "Let’s say these 3 are your strings:\n",
    "S1=” A lives with B. A plays with C. “\n",
    "S2=” B lives with C. B plays with D”\n",
    "S3=” C lives with D. C plays with A”\n",
    "Then Corpus (list of union of all words from all strings) is:\n",
    "[A, B, C, D, lives, with, plays]\n",
    "So, S1 will be [2,1,1,0,1,2,1] S2 will be [0,2,1,1,1,2,1] S3 will be [1,0,2,1,1,2,1]\n",
    "Create a function named “CountVectorization” which will take list of string as an input and will return a list of vectors. Save this function in a python file named “Vectorization”. This can be used for future applications"
   ]
  },
  {
   "cell_type": "code",
   "execution_count": null,
   "metadata": {},
   "outputs": [],
   "source": []
  },
  {
   "cell_type": "markdown",
   "metadata": {},
   "source": [
    "4. Write a program to input 3 strings but vectorise them using TF-IDF (Term Frequency and Inverse Document Frequency) and print the strings along with the vectors.\n",
    "You can use already available python TF-IDF Vectorizer (Refer : http://scikit-learn.org/stable/modules/generated/sklearn.feature_extraction.text.TfidfVectorizer.html )\n",
    "Create a function named “TFIDFVectorization” which will take list of string as an input and will return a list of vectors. Save this function in a python file named “Vectorization”. This can be used for future applications"
   ]
  },
  {
   "cell_type": "code",
   "execution_count": 30,
   "metadata": {},
   "outputs": [
    {
     "data": {
      "text/html": [
       "<div>\n",
       "<style scoped>\n",
       "    .dataframe tbody tr th:only-of-type {\n",
       "        vertical-align: middle;\n",
       "    }\n",
       "\n",
       "    .dataframe tbody tr th {\n",
       "        vertical-align: top;\n",
       "    }\n",
       "\n",
       "    .dataframe thead th {\n",
       "        text-align: right;\n",
       "    }\n",
       "</style>\n",
       "<table border=\"1\" class=\"dataframe\">\n",
       "  <thead>\n",
       "    <tr style=\"text-align: right;\">\n",
       "      <th></th>\n",
       "      <th>australia</th>\n",
       "      <th>cricket</th>\n",
       "      <th>england</th>\n",
       "      <th>final</th>\n",
       "      <th>india</th>\n",
       "      <th>match</th>\n",
       "      <th>won</th>\n",
       "    </tr>\n",
       "  </thead>\n",
       "  <tbody>\n",
       "    <tr>\n",
       "      <th>0</th>\n",
       "      <td>0.000000</td>\n",
       "      <td>0.000000</td>\n",
       "      <td>0.000000</td>\n",
       "      <td>0.000000</td>\n",
       "      <td>0.767495</td>\n",
       "      <td>0.453295</td>\n",
       "      <td>0.453295</td>\n",
       "    </tr>\n",
       "    <tr>\n",
       "      <th>1</th>\n",
       "      <td>0.000000</td>\n",
       "      <td>0.608845</td>\n",
       "      <td>0.608845</td>\n",
       "      <td>0.000000</td>\n",
       "      <td>0.000000</td>\n",
       "      <td>0.359594</td>\n",
       "      <td>0.359594</td>\n",
       "    </tr>\n",
       "    <tr>\n",
       "      <th>2</th>\n",
       "      <td>0.608845</td>\n",
       "      <td>0.000000</td>\n",
       "      <td>0.000000</td>\n",
       "      <td>0.608845</td>\n",
       "      <td>0.000000</td>\n",
       "      <td>0.359594</td>\n",
       "      <td>0.359594</td>\n",
       "    </tr>\n",
       "  </tbody>\n",
       "</table>\n",
       "</div>"
      ],
      "text/plain": [
       "   australia   cricket   england     final     india     match       won\n",
       "0   0.000000  0.000000  0.000000  0.000000  0.767495  0.453295  0.453295\n",
       "1   0.000000  0.608845  0.608845  0.000000  0.000000  0.359594  0.359594\n",
       "2   0.608845  0.000000  0.000000  0.608845  0.000000  0.359594  0.359594"
      ]
     },
     "execution_count": 30,
     "metadata": {},
     "output_type": "execute_result"
    }
   ],
   "source": [
    "from sklearn.feature_extraction.text import TfidfVectorizer\n",
    "def TFIDFVectorization(strlist):\n",
    "    tf_vect = TfidfVectorizer(min_df=1, lowercase=True, stop_words='english')\n",
    "    tf_matrix = tf_vect.fit_transform(strlist)\n",
    "    col_names = tf_vect.get_feature_names()\n",
    "    df = pd.DataFrame(tf_matrix.toarray(), columns = col_names)\n",
    "    return df\n",
    "TFIDFVectorization(strlist)"
   ]
  },
  {
   "cell_type": "code",
   "execution_count": null,
   "metadata": {},
   "outputs": [],
   "source": []
  }
 ],
 "metadata": {
  "kernelspec": {
   "display_name": "Python 3",
   "language": "python",
   "name": "python3"
  },
  "language_info": {
   "codemirror_mode": {
    "name": "ipython",
    "version": 3
   },
   "file_extension": ".py",
   "mimetype": "text/x-python",
   "name": "python",
   "nbconvert_exporter": "python",
   "pygments_lexer": "ipython3",
   "version": "3.7.1"
  }
 },
 "nbformat": 4,
 "nbformat_minor": 2
}
