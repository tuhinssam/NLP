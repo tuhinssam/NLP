{
 "cells": [
  {
   "cell_type": "markdown",
   "metadata": {},
   "source": [
    "### Question 1"
   ]
  },
  {
   "cell_type": "raw",
   "metadata": {},
   "source": [
    "Write a program to enter a string from user and perform following tasks\n",
    "•\tWrite a python function named “Tokenize” which returns the tokenized string\n",
    "•\tPrint tokens along with the frequency of each token using the above function\n",
    "•\tPrint the 5 least occurring tokens "
   ]
  },
  {
   "cell_type": "code",
   "execution_count": 4,
   "metadata": {},
   "outputs": [
    {
     "name": "stdout",
     "output_type": "stream",
     "text": [
      "Welcome to Natural Language Processing course. It has many Natural language processing techniques and also includes text mining . It will show various examples on text processing.\n"
     ]
    }
   ],
   "source": [
    "#Inputting string from user \n",
    "inputted_string=raw_input()"
   ]
  },
  {
   "cell_type": "code",
   "execution_count": 89,
   "metadata": {},
   "outputs": [],
   "source": [
    "#Write a python function named “Tokenize” which returns the tokenized string\n",
    "import nltk\n",
    "def Tokenize(string):\n",
    "    tokens=nltk.tokenize.word_tokenize(string)\n",
    "    return \" \".join(tokens)"
   ]
  },
  {
   "cell_type": "code",
   "execution_count": 90,
   "metadata": {},
   "outputs": [
    {
     "name": "stdout",
     "output_type": "stream",
     "text": [
      "{'and': 1, 'mining': 1, 'Welcome': 1, 'Natural': 2, 'Language': 1, 'show': 1, 'text': 2, 'processing': 2, 'includes': 1, 'course': 1, 'examples': 1, 'techniques': 1, 'on': 1, 'language': 1, 'also': 1, 'many': 1, 'Processing': 1, 'It': 2, '.': 3, 'will': 1, 'to': 1, 'various': 1, 'has': 1}\n"
     ]
    }
   ],
   "source": [
    "#Print tokens along with the frequency of each token using the above function\n",
    "inputted_string_tokens=Tokenize(inputted_string).split(\" \")\n",
    "from collections import Counter\n",
    "count_of_all_tokens=dict(Counter(inputted_string_tokens))\n",
    "print count_of_all_tokens"
   ]
  },
  {
   "cell_type": "code",
   "execution_count": 91,
   "metadata": {},
   "outputs": [
    {
     "name": "stdout",
     "output_type": "stream",
     "text": [
      ".: 3\n",
      "text: 2\n",
      "processing: 2\n",
      "Natural: 2\n",
      "It: 2\n"
     ]
    }
   ],
   "source": [
    "#Print the 5 least occurring tokens \n",
    "for key, value in sorted(count_of_all_tokens.iteritems(), key=lambda (k,v): (v,k),reverse=True)[:5]:\n",
    "    print \"%s: %s\" % (key, value)"
   ]
  },
  {
   "cell_type": "markdown",
   "metadata": {},
   "source": [
    "### Question 2"
   ]
  },
  {
   "cell_type": "raw",
   "metadata": {},
   "source": [
    "2. Write a program to enter a string from user and perform following tasks.\n",
    "•\tWrite a python function named “RemoveStopWords” which returns the string after removing stop words\n",
    "•\tCount frequency of each stop word present in a string using the above function\n",
    "•\tPlot a bar graph depicting stop words and their frequencies \n",
    "\n"
   ]
  },
  {
   "cell_type": "code",
   "execution_count": 94,
   "metadata": {},
   "outputs": [
    {
     "name": "stdout",
     "output_type": "stream",
     "text": [
      "Welcome to Natural Language Processing course. It has many Natural language processing techniques and also includes text mining . It will show various examples on text processing.\n"
     ]
    }
   ],
   "source": [
    "#Inputting string from user \n",
    "inputted_string=raw_input()"
   ]
  },
  {
   "cell_type": "code",
   "execution_count": 95,
   "metadata": {},
   "outputs": [],
   "source": [
    "#Write a python function named “RemoveStopWords” which returns the string after removing stop words\n",
    "from nltk.corpus import stopwords\n",
    "from string import punctuation\n",
    "\n",
    "def RemoveStopWords(string):\n",
    "    #Removing Punctuations\n",
    "    for each in punctuation:\n",
    "        string=string.replace(each,\"\")\n",
    "    \n",
    "    #Removing Stopwords\n",
    "    english_stopwords=stopwords.words('english')\n",
    "    stopwords_removed_tokens=[]\n",
    "    words=string.split(\" \")\n",
    "    \n",
    "    for each in words:\n",
    "        if each not in english_stopwords:\n",
    "            stopwords_removed_tokens.append(each)\n",
    "    return \" \".join(stopwords_removed_tokens)   \n",
    "   "
   ]
  },
  {
   "cell_type": "code",
   "execution_count": 96,
   "metadata": {},
   "outputs": [
    {
     "name": "stdout",
     "output_type": "stream",
     "text": [
      "[('and', 1), ('on', 1), ('It', 2), ('will', 1), ('to', 1), ('has', 1)]\n"
     ]
    }
   ],
   "source": [
    "#Count frequency of each stop word present in a string using the above function\n",
    "english_stopwords=stopwords.words('english')\n",
    "stopwords_in_string=[]\n",
    "tokens=nltk.tokenize.word_tokenize(inputted_string) \n",
    "for each in tokens:\n",
    "    if each.lower() in english_stopwords:\n",
    "        stopwords_in_string.append(each)\n",
    "stopwords_in_string=list(set(stopwords_in_string))\n",
    "\n",
    "count_of_stopwords=map(lambda x:inputted_string.count(x),stopwords_in_string)\n",
    "print zip(stopwords_in_string,count_of_stopwords)"
   ]
  },
  {
   "cell_type": "code",
   "execution_count": 97,
   "metadata": {},
   "outputs": [
    {
     "data": {
      "image/png": "[encoded data removed]",
      "text/plain": [
       "<matplotlib.figure.Figure at 0x11f19a20>"
      ]
     },
     "metadata": {},
     "output_type": "display_data"
    }
   ],
   "source": [
    "#Plot a bar graph depicting stop words and their frequencies\n",
    "import matplotlib.pyplot as plt\n",
    "plt.bar(range(len(stopwords_in_string)),count_of_stopwords)\n",
    "plt.xticks(range(len(stopwords_in_string)),stopwords_in_string)\n",
    "plt.show()"
   ]
  },
  {
   "cell_type": "markdown",
   "metadata": {},
   "source": [
    "### Question 3"
   ]
  },
  {
   "cell_type": "raw",
   "metadata": {},
   "source": [
    "Write a program to enter a string from user and perform following tasks \n",
    "•\tWrite a python function named “Lemmatize” which returns a string after lemmatizing the string.\n",
    "•\tWrite a python function named “Stemmed” which returns a string after stemming the string. \n",
    "(Use any stemmer of your preference)\n",
    "•\tPrint all the words along with their lemmatized and stemmed form using the above functions\n",
    "•\tSave these results in a csv file having 3 columns:\n"
   ]
  },
  {
   "cell_type": "code",
   "execution_count": null,
   "metadata": {
    "collapsed": true
   },
   "outputs": [],
   "source": [
    "#Inputting string from user \n",
    "inputted_string=raw_input()"
   ]
  },
  {
   "cell_type": "code",
   "execution_count": 98,
   "metadata": {},
   "outputs": [],
   "source": [
    "#Write a python function named “Lemmatize” which returns a string after lemmatizing the string.\n",
    "from nltk.stem import  wordnet\n",
    "from nltk.stem import WordNetLemmatizer\n",
    "def Lemmatize(string):\n",
    "    word_lem=WordNetLemmatizer()\n",
    "    words=string.split() \n",
    "    lemmatizeWords=[]\n",
    "    for each in words:\n",
    "        lemmatizeWords.append(word_lem.lemmatize(each))\n",
    "    return \" \".join(lemmatizeWords)\n"
   ]
  },
  {
   "cell_type": "code",
   "execution_count": 99,
   "metadata": {},
   "outputs": [],
   "source": [
    "#Write a python function named “Stemmed” which returns a string after stemming the string.\n",
    "from nltk.stem import PorterStemmer\n",
    "def Stemmed(string):\n",
    "    pst=PorterStemmer()\n",
    "    words=string.split() \n",
    "    stemmedWords=[]\n",
    "    for each in words:\n",
    "        stemmedWords.append(pst.stem(each))\n",
    "    return \" \".join(stemmedWords)"
   ]
  },
  {
   "cell_type": "code",
   "execution_count": 100,
   "metadata": {},
   "outputs": [
    {
     "name": "stdout",
     "output_type": "stream",
     "text": [
      "Lemmatized Form:\n",
      "Welcome to Natural Language Processing course. It ha many Natural language processing technique and also includes text mining . It will show various example on text processing.\n",
      "\n",
      "Stemmed Form:\n",
      "welcom to natur languag process course. It ha mani natur languag process techniqu and also includ text mine . It will show variou exampl on text processing.\n"
     ]
    }
   ],
   "source": [
    "#Print all the words along with their lemmatized and stemmed form using the above functions\n",
    "\n",
    "#Lemmatization Results\n",
    "print (\"Lemmatized Form:\")\n",
    "print Lemmatize(inputted_string)\n",
    "\n",
    "print \n",
    "#Stemming Results\n",
    "\n",
    "print (\"Stemmed Form:\")\n",
    "print Stemmed(inputted_string)"
   ]
  },
  {
   "cell_type": "code",
   "execution_count": 101,
   "metadata": {},
   "outputs": [],
   "source": [
    "#Save these results in a csv file having 3 columns:\n",
    "lemmatize_words=Lemmatize(inputted_string).split(\" \")\n",
    "stem_words=Stemmed(inputted_string).split(\" \")\n",
    "original_words=inputted_string.split(\" \")\n",
    "result=[]\n",
    "for each in zip(original_words,lemmatize_words,stem_words):\n",
    "    result.append(each)\n",
    "    \n",
    "import pandas as pd\n",
    "df=pd.DataFrame(result,columns=['Original Form','Lemmatized Form','Stemmed Form'])"
   ]
  },
  {
   "cell_type": "code",
   "execution_count": 102,
   "metadata": {},
   "outputs": [],
   "source": [
    "df.to_csv('WordsWithLemmatizedAndStemmedForm.csv',index=False)"
   ]
  },
  {
   "cell_type": "markdown",
   "metadata": {},
   "source": [
    "### Question 4"
   ]
  },
  {
   "cell_type": "raw",
   "metadata": {},
   "source": [
    "Create a python file named “PreProcess” and perform the following tasks.\n",
    "•\tCopy the function “Tokenize” in this file from question 1\n",
    "•\tCopy the function “RemoveStopWords” in this file from question 2\n",
    "•\tCopy the function “Lemmatize” in this file from question 3\n",
    "Create a function named “Refine” which accepts a string and call the above 3 functions in the same order i.e. first Tokenize then RemoveStopWords then Lemmatize.\n"
   ]
  },
  {
   "cell_type": "code",
   "execution_count": 103,
   "metadata": {
    "collapsed": true
   },
   "outputs": [],
   "source": [
    "import nltk\n",
    "from nltk.corpus import stopwords\n",
    "from string import punctuation\n",
    "from nltk.stem import  wordnet\n",
    "from nltk.stem import WordNetLemmatizer\n",
    "\n",
    "#Tokenize Function\n",
    "def Tokenize(string):\n",
    "    tokens=nltk.tokenize.word_tokenize(string)\n",
    "    return \" \".join(tokens)\n",
    "\n",
    "#RemoveStopWordsFunction\n",
    "def RemoveStopWords(string):\n",
    "    #Removing Punctuations\n",
    "    for each in punctuation:\n",
    "        string=string.replace(each,\"\")\n",
    "    \n",
    "    #Removing Stopwords\n",
    "    english_stopwords=stopwords.words('english')\n",
    "    stopwords_removed_tokens=[]\n",
    "    words=string.split(\" \")\n",
    "    \n",
    "    for each in words:\n",
    "        if each not in english_stopwords:\n",
    "            stopwords_removed_tokens.append(each)\n",
    "    return \" \".join(stopwords_removed_tokens) \n",
    "\n",
    "\n",
    "#LemmatizeFunction\n",
    "def Lemmatize(string):\n",
    "    word_lem=WordNetLemmatizer()\n",
    "    words=string.split() \n",
    "    lemmatizeWords=[]\n",
    "    for each in words:\n",
    "        lemmatizeWords.append(word_lem.lemmatize(each))\n",
    "    return \" \".join(lemmatizeWords)\n",
    "\n",
    "def Refine(string):\n",
    "    return Lemmatize(RemoveStopWords(Tokenize(string)))\n",
    "\n",
    "#Save the above functions in a file called PreProcess.py "
   ]
  }
 ],
 "metadata": {
  "kernelspec": {
   "display_name": "Python 2",
   "language": "python",
   "name": "python2"
  },
  "language_info": {
   "codemirror_mode": {
    "name": "ipython",
    "version": 2
   },
   "file_extension": ".py",
   "mimetype": "text/x-python",
   "name": "python",
   "nbconvert_exporter": "python",
   "pygments_lexer": "ipython2",
   "version": "2.7.12"
  }
 },
 "nbformat": 4,
 "nbformat_minor": 2
}
