{
 "cells": [
  {
   "cell_type": "markdown",
   "metadata": {},
   "source": [
    "1.Write code snippets in python to perform the following tasks\n",
    "• Print your current working directory\n",
    "• Create a new directory on your desktop named: “Text Mining and NLP”\n",
    "• Make “Text Mining and NLP” your current working directory"
   ]
  },
  {
   "cell_type": "code",
   "execution_count": 1,
   "metadata": {},
   "outputs": [],
   "source": [
    "import os"
   ]
  },
  {
   "cell_type": "code",
   "execution_count": 2,
   "metadata": {},
   "outputs": [
    {
     "data": {
      "text/plain": [
       "'C:\\\\Users\\\\tuhin.samanta\\\\Desktop\\\\Personal\\\\Personal POC\\\\Edureka ML Engineer Course\\\\5_NLP\\\\cls1-Inyroduction\\\\cls1_dataset'"
      ]
     },
     "execution_count": 2,
     "metadata": {},
     "output_type": "execute_result"
    }
   ],
   "source": [
    "os.getcwd()"
   ]
  },
  {
   "cell_type": "code",
   "execution_count": 4,
   "metadata": {},
   "outputs": [],
   "source": [
    "path = \"C:\\\\Users\\\\tuhin.samanta\\\\Desktop\\\\Text Mining and NLP\"\n",
    "os.chdir(path)"
   ]
  },
  {
   "cell_type": "code",
   "execution_count": 5,
   "metadata": {},
   "outputs": [
    {
     "data": {
      "text/plain": [
       "'C:\\\\Users\\\\tuhin.samanta\\\\Desktop\\\\Text Mining and NLP'"
      ]
     },
     "execution_count": 5,
     "metadata": {},
     "output_type": "execute_result"
    }
   ],
   "source": [
    "os.getcwd()"
   ]
  },
  {
   "cell_type": "markdown",
   "metadata": {},
   "source": [
    "2. Write code snippets in python to perform the following tasks:\n",
    "• Create a text file named “Greetings.txt” and write “Welcome to Text Mining and Natural Language Processing”\n",
    "• Move this file to the folder “Text Mining and NLP” which you created in ques 1\n",
    "• Rename this file to “Welcome.txt”"
   ]
  },
  {
   "cell_type": "code",
   "execution_count": 10,
   "metadata": {},
   "outputs": [],
   "source": [
    "file1 = open('Greetings.txt','w+')"
   ]
  },
  {
   "cell_type": "code",
   "execution_count": 13,
   "metadata": {},
   "outputs": [
    {
     "data": {
      "text/plain": [
       "54"
      ]
     },
     "execution_count": 13,
     "metadata": {},
     "output_type": "execute_result"
    }
   ],
   "source": [
    "file1.write('Welcome to Text Mining and Natural Language Processing')"
   ]
  },
  {
   "cell_type": "code",
   "execution_count": 14,
   "metadata": {},
   "outputs": [],
   "source": [
    "file1.close()"
   ]
  },
  {
   "cell_type": "code",
   "execution_count": 15,
   "metadata": {},
   "outputs": [],
   "source": [
    "os.rename('Greetings.txt','Welcome.txt')"
   ]
  },
  {
   "cell_type": "markdown",
   "metadata": {},
   "source": [
    "3.You are given a docx file named “NLP.docx”. Perform the following tasks:\n",
    "• Use DOCX module to open the file and perform the following tasks:\n",
    "• How many paragraphs are there in the file?\n",
    "• For each paragraph, print the number of words it contains\n",
    "• Read the content from “Welcome.txt” file which you created in question number 2 and make that content the first paragraph in “NLP.docx” file"
   ]
  },
  {
   "cell_type": "code",
   "execution_count": 16,
   "metadata": {},
   "outputs": [],
   "source": [
    "import docx"
   ]
  },
  {
   "cell_type": "code",
   "execution_count": 18,
   "metadata": {},
   "outputs": [],
   "source": [
    "path1 = \"C:\\\\Users\\\\tuhin.samanta\\\\Desktop\\\\Personal\\\\Personal POC\\\\Edureka ML Engineer Course\\\\5_NLP\\\\cls1-Inyroduction\\\\cls1_dataset\\\\698_m1_datasets_v1.0\""
   ]
  },
  {
   "cell_type": "code",
   "execution_count": 19,
   "metadata": {},
   "outputs": [],
   "source": [
    "os.chdir(path1)"
   ]
  },
  {
   "cell_type": "code",
   "execution_count": 61,
   "metadata": {},
   "outputs": [],
   "source": [
    "doc = docx.Document('NLP.docx')"
   ]
  },
  {
   "cell_type": "code",
   "execution_count": 62,
   "metadata": {},
   "outputs": [
    {
     "data": {
      "text/plain": [
       "27"
      ]
     },
     "execution_count": 62,
     "metadata": {},
     "output_type": "execute_result"
    }
   ],
   "source": [
    "paranums = len(doc.paragraphs)\n",
    "paranums"
   ]
  },
  {
   "cell_type": "code",
   "execution_count": 63,
   "metadata": {},
   "outputs": [
    {
     "data": {
      "text/plain": [
       "'To the outside observer, Natural Language Processing (NLP) may seem futuristic.\\xa0\\xa0a third of smartphone owners use their personal assistants regularly (a hallmark of NLP technologies), even though 95 percent have tried them at some point, according to Creative Strategies, a consultancy. However, Natural Language Processing advances continue in leaps and bounds, as Digital Neural Networks (DNN) and Machine Learning become more intricate. Both technologies enhance NLP technologies up to 30 percent.'"
      ]
     },
     "execution_count": 63,
     "metadata": {},
     "output_type": "execute_result"
    }
   ],
   "source": [
    "doc.paragraphs[0].text"
   ]
  },
  {
   "cell_type": "code",
   "execution_count": 72,
   "metadata": {},
   "outputs": [
    {
     "name": "stdout",
     "output_type": "stream",
     "text": [
      "Paragraph 1 : words: 72\n",
      "Paragraph 2 : words: 58\n",
      "Paragraph 3 : words: 133\n",
      "Paragraph 4 : words: 26\n",
      "Paragraph 5 : words: 6\n",
      "Paragraph 6 : words: 71\n",
      "Paragraph 7 : words: 38\n",
      "Paragraph 8 : words: 61\n",
      "Paragraph 9 : words: 47\n",
      "Paragraph 10 : words: 50\n",
      "Paragraph 11 : words: 9\n",
      "Paragraph 12 : words: 65\n",
      "Paragraph 13 : words: 37\n",
      "Paragraph 14 : words: 82\n",
      "Paragraph 15 : words: 102\n",
      "Paragraph 16 : words: 8\n",
      "Paragraph 17 : words: 43\n",
      "Paragraph 18 : words: 113\n",
      "Paragraph 19 : words: 33\n",
      "Paragraph 20 : words: 56\n",
      "Paragraph 21 : words: 66\n",
      "Paragraph 22 : words: 6\n",
      "Paragraph 23 : words: 80\n",
      "Paragraph 24 : words: 90\n",
      "Paragraph 25 : words: 70\n",
      "Paragraph 26 : words: 65\n",
      "Paragraph 27 : words: 8\n"
     ]
    }
   ],
   "source": [
    "loopvar = 0\n",
    "for para in doc.paragraphs:\n",
    "    words = 0\n",
    "    loopvar = loopvar + 1\n",
    "    for var in para.runs:\n",
    "        words = words + len(var.text.split(' '))\n",
    "    print('Paragraph {} : words: {}'.format(loopvar, words))"
   ]
  },
  {
   "cell_type": "code",
   "execution_count": 79,
   "metadata": {},
   "outputs": [],
   "source": [
    "file2 = open('C:\\\\Users\\\\tuhin.samanta\\\\Desktop\\\\Text Mining and NLP\\\\Welcome.txt','r')"
   ]
  },
  {
   "cell_type": "code",
   "execution_count": 80,
   "metadata": {},
   "outputs": [
    {
     "name": "stdout",
     "output_type": "stream",
     "text": [
      "Welcome to Text Mining and Natural Language ProcessingWelcome to Text Mining and Natural Language Processing\n"
     ]
    }
   ],
   "source": [
    "print(file2.read())"
   ]
  },
  {
   "cell_type": "code",
   "execution_count": 81,
   "metadata": {},
   "outputs": [
    {
     "data": {
      "text/plain": [
       "<docx.text.paragraph.Paragraph at 0x21250de75f8>"
      ]
     },
     "execution_count": 81,
     "metadata": {},
     "output_type": "execute_result"
    }
   ],
   "source": [
    "doc.add_paragraph(file2.read())"
   ]
  },
  {
   "cell_type": "code",
   "execution_count": 84,
   "metadata": {},
   "outputs": [
    {
     "data": {
      "text/plain": [
       "<bound method Document.save of <docx.document.Document object at 0x0000021250144558>>"
      ]
     },
     "execution_count": 84,
     "metadata": {},
     "output_type": "execute_result"
    }
   ],
   "source": [
    "doc.save"
   ]
  },
  {
   "cell_type": "code",
   "execution_count": 85,
   "metadata": {},
   "outputs": [
    {
     "data": {
      "text/plain": [
       "28"
      ]
     },
     "execution_count": 85,
     "metadata": {},
     "output_type": "execute_result"
    }
   ],
   "source": [
    "len(doc.paragraphs)"
   ]
  },
  {
   "cell_type": "markdown",
   "metadata": {},
   "source": [
    "4.You are given a csv file named “EmployeeDetails.csv”. Perform the following tasks:\n",
    "• Use pandas module to read the csv file\n",
    "• Split the name as first name and last name and make two separate columns as shown\n",
    "• Delete “Name” Column\n",
    "• Increment the “Salary” Column by 10% of the existing value and save changes in same column only as shown\n",
    "• Save changes to a new file named “Employee_Data.csv”"
   ]
  },
  {
   "cell_type": "code",
   "execution_count": 86,
   "metadata": {},
   "outputs": [],
   "source": [
    "import pandas as pd\n",
    "import numpy as np"
   ]
  },
  {
   "cell_type": "code",
   "execution_count": 87,
   "metadata": {},
   "outputs": [
    {
     "data": {
      "text/plain": [
       "'C:\\\\Users\\\\tuhin.samanta\\\\Desktop\\\\Personal\\\\Personal POC\\\\Edureka ML Engineer Course\\\\5_NLP\\\\cls1-Inyroduction\\\\cls1_dataset\\\\698_m1_datasets_v1.0'"
      ]
     },
     "execution_count": 87,
     "metadata": {},
     "output_type": "execute_result"
    }
   ],
   "source": [
    "os.getcwd()"
   ]
  },
  {
   "cell_type": "code",
   "execution_count": 88,
   "metadata": {},
   "outputs": [],
   "source": [
    "df = pd.read_csv('EmployeeDetails.csv')"
   ]
  },
  {
   "cell_type": "code",
   "execution_count": 89,
   "metadata": {},
   "outputs": [
    {
     "data": {
      "text/html": [
       "<div>\n",
       "<style scoped>\n",
       "    .dataframe tbody tr th:only-of-type {\n",
       "        vertical-align: middle;\n",
       "    }\n",
       "\n",
       "    .dataframe tbody tr th {\n",
       "        vertical-align: top;\n",
       "    }\n",
       "\n",
       "    .dataframe thead th {\n",
       "        text-align: right;\n",
       "    }\n",
       "</style>\n",
       "<table border=\"1\" class=\"dataframe\">\n",
       "  <thead>\n",
       "    <tr style=\"text-align: right;\">\n",
       "      <th></th>\n",
       "      <th>Name</th>\n",
       "      <th>Age</th>\n",
       "      <th>Salary</th>\n",
       "    </tr>\n",
       "  </thead>\n",
       "  <tbody>\n",
       "    <tr>\n",
       "      <th>0</th>\n",
       "      <td>Arjun singh</td>\n",
       "      <td>24</td>\n",
       "      <td>10000</td>\n",
       "    </tr>\n",
       "    <tr>\n",
       "      <th>1</th>\n",
       "      <td>Vibhor Jha</td>\n",
       "      <td>26</td>\n",
       "      <td>25000</td>\n",
       "    </tr>\n",
       "    <tr>\n",
       "      <th>2</th>\n",
       "      <td>Yoshita Debnath</td>\n",
       "      <td>23</td>\n",
       "      <td>15000</td>\n",
       "    </tr>\n",
       "    <tr>\n",
       "      <th>3</th>\n",
       "      <td>Abhitesh Setia</td>\n",
       "      <td>25</td>\n",
       "      <td>18000</td>\n",
       "    </tr>\n",
       "    <tr>\n",
       "      <th>4</th>\n",
       "      <td>Shaurya Nayar</td>\n",
       "      <td>26</td>\n",
       "      <td>30000</td>\n",
       "    </tr>\n",
       "    <tr>\n",
       "      <th>5</th>\n",
       "      <td>Disha Gupta</td>\n",
       "      <td>27</td>\n",
       "      <td>23000</td>\n",
       "    </tr>\n",
       "  </tbody>\n",
       "</table>\n",
       "</div>"
      ],
      "text/plain": [
       "             Name   Age  Salary\n",
       "0     Arjun singh    24   10000\n",
       "1       Vibhor Jha   26   25000\n",
       "2  Yoshita Debnath   23   15000\n",
       "3   Abhitesh Setia   25   18000\n",
       "4    Shaurya Nayar   26   30000\n",
       "5      Disha Gupta   27   23000"
      ]
     },
     "execution_count": 89,
     "metadata": {},
     "output_type": "execute_result"
    }
   ],
   "source": [
    "df"
   ]
  },
  {
   "cell_type": "code",
   "execution_count": 90,
   "metadata": {},
   "outputs": [
    {
     "data": {
      "text/plain": [
       "Index(['Name ', 'Age', 'Salary'], dtype='object')"
      ]
     },
     "execution_count": 90,
     "metadata": {},
     "output_type": "execute_result"
    }
   ],
   "source": [
    "df.columns"
   ]
  },
  {
   "cell_type": "code",
   "execution_count": 91,
   "metadata": {},
   "outputs": [],
   "source": [
    "df['FName'] = df['Name '].str.split(' ').str[0] "
   ]
  },
  {
   "cell_type": "code",
   "execution_count": 92,
   "metadata": {},
   "outputs": [],
   "source": [
    "df['LName'] = df['Name '].str.split(' ').str[1] "
   ]
  },
  {
   "cell_type": "code",
   "execution_count": 95,
   "metadata": {},
   "outputs": [],
   "source": [
    "df.drop(\"Name \", axis = 1, inplace = True)"
   ]
  },
  {
   "cell_type": "code",
   "execution_count": 96,
   "metadata": {},
   "outputs": [
    {
     "data": {
      "text/html": [
       "<div>\n",
       "<style scoped>\n",
       "    .dataframe tbody tr th:only-of-type {\n",
       "        vertical-align: middle;\n",
       "    }\n",
       "\n",
       "    .dataframe tbody tr th {\n",
       "        vertical-align: top;\n",
       "    }\n",
       "\n",
       "    .dataframe thead th {\n",
       "        text-align: right;\n",
       "    }\n",
       "</style>\n",
       "<table border=\"1\" class=\"dataframe\">\n",
       "  <thead>\n",
       "    <tr style=\"text-align: right;\">\n",
       "      <th></th>\n",
       "      <th>Age</th>\n",
       "      <th>Salary</th>\n",
       "      <th>FName</th>\n",
       "      <th>LName</th>\n",
       "    </tr>\n",
       "  </thead>\n",
       "  <tbody>\n",
       "    <tr>\n",
       "      <th>0</th>\n",
       "      <td>24</td>\n",
       "      <td>10000</td>\n",
       "      <td>Arjun</td>\n",
       "      <td>singh</td>\n",
       "    </tr>\n",
       "    <tr>\n",
       "      <th>1</th>\n",
       "      <td>26</td>\n",
       "      <td>25000</td>\n",
       "      <td>Vibhor</td>\n",
       "      <td>Jha</td>\n",
       "    </tr>\n",
       "    <tr>\n",
       "      <th>2</th>\n",
       "      <td>23</td>\n",
       "      <td>15000</td>\n",
       "      <td>Yoshita</td>\n",
       "      <td>Debnath</td>\n",
       "    </tr>\n",
       "    <tr>\n",
       "      <th>3</th>\n",
       "      <td>25</td>\n",
       "      <td>18000</td>\n",
       "      <td>Abhitesh</td>\n",
       "      <td>Setia</td>\n",
       "    </tr>\n",
       "    <tr>\n",
       "      <th>4</th>\n",
       "      <td>26</td>\n",
       "      <td>30000</td>\n",
       "      <td>Shaurya</td>\n",
       "      <td>Nayar</td>\n",
       "    </tr>\n",
       "    <tr>\n",
       "      <th>5</th>\n",
       "      <td>27</td>\n",
       "      <td>23000</td>\n",
       "      <td>Disha</td>\n",
       "      <td>Gupta</td>\n",
       "    </tr>\n",
       "  </tbody>\n",
       "</table>\n",
       "</div>"
      ],
      "text/plain": [
       "   Age  Salary     FName    LName\n",
       "0   24   10000     Arjun    singh\n",
       "1   26   25000    Vibhor      Jha\n",
       "2   23   15000   Yoshita  Debnath\n",
       "3   25   18000  Abhitesh    Setia\n",
       "4   26   30000   Shaurya    Nayar\n",
       "5   27   23000     Disha    Gupta"
      ]
     },
     "execution_count": 96,
     "metadata": {},
     "output_type": "execute_result"
    }
   ],
   "source": [
    "df"
   ]
  },
  {
   "cell_type": "code",
   "execution_count": 97,
   "metadata": {},
   "outputs": [],
   "source": [
    "df[\"Salary\"] = df[\"Salary\"] + df[\"Salary\"] * 0.1"
   ]
  },
  {
   "cell_type": "code",
   "execution_count": 98,
   "metadata": {},
   "outputs": [
    {
     "data": {
      "text/html": [
       "<div>\n",
       "<style scoped>\n",
       "    .dataframe tbody tr th:only-of-type {\n",
       "        vertical-align: middle;\n",
       "    }\n",
       "\n",
       "    .dataframe tbody tr th {\n",
       "        vertical-align: top;\n",
       "    }\n",
       "\n",
       "    .dataframe thead th {\n",
       "        text-align: right;\n",
       "    }\n",
       "</style>\n",
       "<table border=\"1\" class=\"dataframe\">\n",
       "  <thead>\n",
       "    <tr style=\"text-align: right;\">\n",
       "      <th></th>\n",
       "      <th>Age</th>\n",
       "      <th>Salary</th>\n",
       "      <th>FName</th>\n",
       "      <th>LName</th>\n",
       "    </tr>\n",
       "  </thead>\n",
       "  <tbody>\n",
       "    <tr>\n",
       "      <th>0</th>\n",
       "      <td>24</td>\n",
       "      <td>11000.0</td>\n",
       "      <td>Arjun</td>\n",
       "      <td>singh</td>\n",
       "    </tr>\n",
       "    <tr>\n",
       "      <th>1</th>\n",
       "      <td>26</td>\n",
       "      <td>27500.0</td>\n",
       "      <td>Vibhor</td>\n",
       "      <td>Jha</td>\n",
       "    </tr>\n",
       "    <tr>\n",
       "      <th>2</th>\n",
       "      <td>23</td>\n",
       "      <td>16500.0</td>\n",
       "      <td>Yoshita</td>\n",
       "      <td>Debnath</td>\n",
       "    </tr>\n",
       "    <tr>\n",
       "      <th>3</th>\n",
       "      <td>25</td>\n",
       "      <td>19800.0</td>\n",
       "      <td>Abhitesh</td>\n",
       "      <td>Setia</td>\n",
       "    </tr>\n",
       "    <tr>\n",
       "      <th>4</th>\n",
       "      <td>26</td>\n",
       "      <td>33000.0</td>\n",
       "      <td>Shaurya</td>\n",
       "      <td>Nayar</td>\n",
       "    </tr>\n",
       "    <tr>\n",
       "      <th>5</th>\n",
       "      <td>27</td>\n",
       "      <td>25300.0</td>\n",
       "      <td>Disha</td>\n",
       "      <td>Gupta</td>\n",
       "    </tr>\n",
       "  </tbody>\n",
       "</table>\n",
       "</div>"
      ],
      "text/plain": [
       "   Age   Salary     FName    LName\n",
       "0   24  11000.0     Arjun    singh\n",
       "1   26  27500.0    Vibhor      Jha\n",
       "2   23  16500.0   Yoshita  Debnath\n",
       "3   25  19800.0  Abhitesh    Setia\n",
       "4   26  33000.0   Shaurya    Nayar\n",
       "5   27  25300.0     Disha    Gupta"
      ]
     },
     "execution_count": 98,
     "metadata": {},
     "output_type": "execute_result"
    }
   ],
   "source": [
    "df"
   ]
  },
  {
   "cell_type": "code",
   "execution_count": 99,
   "metadata": {},
   "outputs": [],
   "source": [
    "df.to_csv('Employee_Data.csv')"
   ]
  },
  {
   "cell_type": "code",
   "execution_count": null,
   "metadata": {},
   "outputs": [],
   "source": [
    "==============END OF ASSIGNMENT======================"
   ]
  }
 ],
 "metadata": {
  "kernelspec": {
   "display_name": "Python 3",
   "language": "python",
   "name": "python3"
  },
  "language_info": {
   "codemirror_mode": {
    "name": "ipython",
    "version": 3
   },
   "file_extension": ".py",
   "mimetype": "text/x-python",
   "name": "python",
   "nbconvert_exporter": "python",
   "pygments_lexer": "ipython3",
   "version": "3.7.1"
  }
 },
 "nbformat": 4,
 "nbformat_minor": 2
}
