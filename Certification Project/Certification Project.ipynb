{
 "cells": [
  {
   "cell_type": "markdown",
   "metadata": {},
   "source": [
    "You are given a zip file which contains summaries of news from BBC. The Data is taken from Kaggle. (https://www.kaggle.com/pariza/bbc-news-summary)\n",
    "The zip file contains a folder: ‘BBC News Articles ‘\n",
    "This folder contains 5 sub folders, named:\n",
    "1. Business\n",
    "2. Entertainment\n",
    "3. Politics\n",
    "4. Sports\n",
    "5. Tech\n",
    "Each of these subfolders contains text files which have summaries of different news articles.\n",
    "These are the tasks which you have to perform:\n",
    "• Read all the files from all subfolders and store their summaries in a single CSV file. Name CSV File as: “BBCNewsArticles.csv”\n",
    "    Perform clustering on the dataset using all 3 different types of vectorizations. The number of clusters should be 5.\n",
    "You can choose any appropriate clustering algorithm of your choice.\n",
    "Make models for each type of vectorization. We will have a total of 3 models.\n",
    "• Save the Clusters Label for each model in a new CSV file named “BBCNewsArticlesClustered.csv”\n",
    "• Evaluate and compare the performance of 3 models on basis of Silhouette Coefficient.\n",
    "• Provide Visualizations for all 3 models. You can show scatter plots and bar graphs."
   ]
  },
  {
   "cell_type": "code",
   "execution_count": 163,
   "metadata": {},
   "outputs": [
    {
     "data": {
      "text/plain": [
       "'C:\\\\Users\\\\tuhin.samanta\\\\Desktop\\\\Personal\\\\Personal POC\\\\Edureka ML Engineer Course\\\\5_NLP\\\\Certification Project'"
      ]
     },
     "execution_count": 163,
     "metadata": {},
     "output_type": "execute_result"
    }
   ],
   "source": [
    "import os\n",
    "os.chdir(\"C:\\\\Users\\\\tuhin.samanta\\\\Desktop\\\\Personal\\\\Personal POC\\\\Edureka ML Engineer Course\\\\5_NLP\\\\Certification Project\")\n",
    "os.getcwd()"
   ]
  },
  {
   "cell_type": "code",
   "execution_count": 164,
   "metadata": {},
   "outputs": [],
   "source": [
    "os.chdir('Dataset\\\\BBC News Articles')"
   ]
  },
  {
   "cell_type": "code",
   "execution_count": 165,
   "metadata": {},
   "outputs": [
    {
     "data": {
      "text/plain": [
       "'C:\\\\Users\\\\tuhin.samanta\\\\Desktop\\\\Personal\\\\Personal POC\\\\Edureka ML Engineer Course\\\\5_NLP\\\\Certification Project\\\\Dataset\\\\BBC News Articles'"
      ]
     },
     "execution_count": 165,
     "metadata": {},
     "output_type": "execute_result"
    }
   ],
   "source": [
    "os.getcwd()"
   ]
  },
  {
   "cell_type": "code",
   "execution_count": 166,
   "metadata": {},
   "outputs": [
    {
     "data": {
      "text/plain": [
       "['business', 'entertainment', 'politics', 'sport', 'tech']"
      ]
     },
     "execution_count": 166,
     "metadata": {},
     "output_type": "execute_result"
    }
   ],
   "source": [
    "os.listdir()"
   ]
  },
  {
   "cell_type": "code",
   "execution_count": 167,
   "metadata": {},
   "outputs": [],
   "source": [
    "import pandas as pd\n",
    "import numpy as np\n",
    "\n",
    "lstdir = []\n",
    "lstfile = []\n",
    "lstfiletxt = []\n",
    "for bbc_dir in os.listdir():\n",
    "    #os.chdir(bbc_dir)\n",
    "    filelst = os.listdir(bbc_dir)\n",
    "    for file in filelst:\n",
    "        fp = open(bbc_dir+\"\\\\\"+file,'r')\n",
    "        fileval = fp.read()\n",
    "        lstdir.append(bbc_dir)\n",
    "        lstfile.append(file)\n",
    "        lstfiletxt.append(fileval)\n",
    "df = pd.DataFrame({\"Directory\": lstdir, \"File\": lstfile, \"Text\": lstfiletxt})      \n",
    "        "
   ]
  },
  {
   "cell_type": "code",
   "execution_count": 168,
   "metadata": {},
   "outputs": [
    {
     "data": {
      "text/html": [
       "<div>\n",
       "<style scoped>\n",
       "    .dataframe tbody tr th:only-of-type {\n",
       "        vertical-align: middle;\n",
       "    }\n",
       "\n",
       "    .dataframe tbody tr th {\n",
       "        vertical-align: top;\n",
       "    }\n",
       "\n",
       "    .dataframe thead th {\n",
       "        text-align: right;\n",
       "    }\n",
       "</style>\n",
       "<table border=\"1\" class=\"dataframe\">\n",
       "  <thead>\n",
       "    <tr style=\"text-align: right;\">\n",
       "      <th></th>\n",
       "      <th>Directory</th>\n",
       "      <th>File</th>\n",
       "      <th>Text</th>\n",
       "    </tr>\n",
       "  </thead>\n",
       "  <tbody>\n",
       "    <tr>\n",
       "      <th>147</th>\n",
       "      <td>tech</td>\n",
       "      <td>010.txt</td>\n",
       "      <td>Google's toolbar sparks concern\\n\\nSearch engi...</td>\n",
       "    </tr>\n",
       "    <tr>\n",
       "      <th>69</th>\n",
       "      <td>entertainment</td>\n",
       "      <td>036.txt</td>\n",
       "      <td>Hanks greeted at wintry premiere\\n\\nHollywood ...</td>\n",
       "    </tr>\n",
       "    <tr>\n",
       "      <th>91</th>\n",
       "      <td>politics</td>\n",
       "      <td>019.txt</td>\n",
       "      <td>Drink remark 'acts as diversion'\\n\\nThe first ...</td>\n",
       "    </tr>\n",
       "    <tr>\n",
       "      <th>56</th>\n",
       "      <td>entertainment</td>\n",
       "      <td>023.txt</td>\n",
       "      <td>Famed music director Viotti dies\\n\\nConductor ...</td>\n",
       "    </tr>\n",
       "    <tr>\n",
       "      <th>131</th>\n",
       "      <td>sport</td>\n",
       "      <td>029.txt</td>\n",
       "      <td>Isinbayeva heads for Birmingham\\n\\nOlympic pol...</td>\n",
       "    </tr>\n",
       "    <tr>\n",
       "      <th>75</th>\n",
       "      <td>politics</td>\n",
       "      <td>003.txt</td>\n",
       "      <td>Hewitt decries 'career sexism'\\n\\nPlans to ext...</td>\n",
       "    </tr>\n",
       "    <tr>\n",
       "      <th>163</th>\n",
       "      <td>tech</td>\n",
       "      <td>026.txt</td>\n",
       "      <td>Warnings about junk mail deluge\\n\\nThe amount ...</td>\n",
       "    </tr>\n",
       "    <tr>\n",
       "      <th>20</th>\n",
       "      <td>business</td>\n",
       "      <td>021.txt</td>\n",
       "      <td>Rank 'set to sell off film unit'\\n\\nLeisure gr...</td>\n",
       "    </tr>\n",
       "    <tr>\n",
       "      <th>17</th>\n",
       "      <td>business</td>\n",
       "      <td>018.txt</td>\n",
       "      <td>India's rupee hits five-year high\\n\\nIndia's r...</td>\n",
       "    </tr>\n",
       "    <tr>\n",
       "      <th>156</th>\n",
       "      <td>tech</td>\n",
       "      <td>019.txt</td>\n",
       "      <td>Intel unveils laser breakthrough\\n\\nIntel has ...</td>\n",
       "    </tr>\n",
       "  </tbody>\n",
       "</table>\n",
       "</div>"
      ],
      "text/plain": [
       "         Directory     File                                               Text\n",
       "147           tech  010.txt  Google's toolbar sparks concern\\n\\nSearch engi...\n",
       "69   entertainment  036.txt  Hanks greeted at wintry premiere\\n\\nHollywood ...\n",
       "91        politics  019.txt  Drink remark 'acts as diversion'\\n\\nThe first ...\n",
       "56   entertainment  023.txt  Famed music director Viotti dies\\n\\nConductor ...\n",
       "131          sport  029.txt  Isinbayeva heads for Birmingham\\n\\nOlympic pol...\n",
       "75        politics  003.txt  Hewitt decries 'career sexism'\\n\\nPlans to ext...\n",
       "163           tech  026.txt  Warnings about junk mail deluge\\n\\nThe amount ...\n",
       "20        business  021.txt  Rank 'set to sell off film unit'\\n\\nLeisure gr...\n",
       "17        business  018.txt  India's rupee hits five-year high\\n\\nIndia's r...\n",
       "156           tech  019.txt  Intel unveils laser breakthrough\\n\\nIntel has ..."
      ]
     },
     "execution_count": 168,
     "metadata": {},
     "output_type": "execute_result"
    }
   ],
   "source": [
    "df.sample(10)"
   ]
  },
  {
   "cell_type": "code",
   "execution_count": 170,
   "metadata": {},
   "outputs": [],
   "source": [
    "os.chdir(\"C:\\\\Users\\\\tuhin.samanta\\\\Desktop\\\\Personal\\\\Personal POC\\\\Edureka ML Engineer Course\\\\5_NLP\\\\Certification Project\")\n",
    "df.to_csv(\"BBCNewsArticles.csv\")"
   ]
  },
  {
   "cell_type": "code",
   "execution_count": 171,
   "metadata": {},
   "outputs": [],
   "source": [
    "from nltk import word_tokenize\n",
    "from nltk.corpus import stopwords\n",
    "import re\n",
    "from nltk.tokenize.treebank import TreebankWordDetokenizer"
   ]
  },
  {
   "cell_type": "code",
   "execution_count": 172,
   "metadata": {},
   "outputs": [
    {
     "data": {
      "text/plain": [
       "'In crop production totalled million tonnes joint report Food Agriculture Organisation World Food Programme said Good rains increased use fertilizers improved seeds contributed rise production Nevertheless million Ethiopians still need emergency assistanceThe report calculated emergency food requirements tonnes On top tonnes fortified blended food vegetable oil targeted supplementary food distributions survival programme children five pregnant lactating women neededIn eastern southern Ethiopia prolonged drought killed crops drained wells Last year total tonnes food assistance needed help seven million Ethiopians The Food Agriculture Organisation FAO recommend food assistance bought locally Local purchase cereals food assistance programmes recommended far possible assist domestic markets farmers'"
      ]
     },
     "execution_count": 172,
     "metadata": {},
     "output_type": "execute_result"
    }
   ],
   "source": [
    "def remove_stopwords_splchars(sentence):\n",
    "    punctuations = re.compile(r'[-.?!,:;()|0-9]')\n",
    "    post_punc =[]\n",
    "    post_stopwords = []\n",
    "    word_tokens = word_tokenize(sentence)\n",
    "    for word in word_tokens:\n",
    "      newword = punctuations.sub(\"\", word)\n",
    "      if len(newword)> 1:\n",
    "         post_punc.append(newword)\n",
    "    stopword_list = stopwords.words('english')\n",
    "    for words in post_punc:\n",
    "        if words not in stopword_list:\n",
    "           post_stopwords.append(words)\n",
    "    strval = TreebankWordDetokenizer().detokenize(post_stopwords)\n",
    "    return strval   \n",
    "strnew = \"In 2003, crop production totalled 11.49 million tonnes, the joint report from the Food and Agriculture Organisation and the World Food Programme said. Good rains, increased use of fertilizers and improved seeds contributed to the rise in production. Nevertheless, 2.2 million Ethiopians will still need emergency assistance.The report calculated emergency food requirements for 2005 to be 387,500 tonnes. On top of that, 89,000 tonnes of fortified blended food and vegetable oil for targeted supplementary food distributions for a survival programme for children under five and pregnant and lactating women will be needed.In eastern and southern Ethiopia, a prolonged drought has killed crops and drained wells. Last year, a total of 965,000 tonnes of food assistance was needed to help seven million Ethiopians. The Food and Agriculture Organisation (FAO) recommend that the food assistance is bought locally. Local purchase of cereals for food assistance programmes is recommended as far as possible, so as to assist domestic markets and farmers,\"\n",
    "remove_stopwords_splchars(strnew)"
   ]
  },
  {
   "cell_type": "code",
   "execution_count": 173,
   "metadata": {},
   "outputs": [],
   "source": [
    "from nltk.stem import wordnet\n",
    "from nltk.stem import WordNetLemmatizer\n",
    "from nltk import pos_tag\n",
    "from nltk.stem import SnowballStemmer\n",
    "\n",
    "def word_stemming(sentence):\n",
    "    after_stemming = []\n",
    "    sbs = SnowballStemmer('english')\n",
    "    word_tokens = word_tokenize(sentence)\n",
    "    for word in word_tokens:\n",
    "        #print(sbs.stem(word))\n",
    "        after_stemming.append(sbs.stem(word)) \n",
    "    lst_val = list(set(after_stemming))\n",
    "    strval = TreebankWordDetokenizer().detokenize(lst_val)\n",
    "    return strval\n",
    "    "
   ]
  },
  {
   "cell_type": "code",
   "execution_count": 174,
   "metadata": {},
   "outputs": [
    {
     "data": {
      "text/plain": [
       "'purchas possibl bought organis fao programm domest assist local cereal far food agricultur recommend farmer market the'"
      ]
     },
     "execution_count": 174,
     "metadata": {},
     "output_type": "execute_result"
    }
   ],
   "source": [
    "word_stemming(\"The Food Agriculture Organisation FAO recommend food assistance bought locally Local purchase cereals food assistance programmes recommended far possible assist domestic markets farmers\")"
   ]
  },
  {
   "cell_type": "code",
   "execution_count": 175,
   "metadata": {},
   "outputs": [],
   "source": [
    "df['Text']= df['Text'].map(remove_stopwords_splchars)\n",
    "df['Text'] = df['Text'].map(word_stemming)"
   ]
  },
  {
   "cell_type": "code",
   "execution_count": 176,
   "metadata": {},
   "outputs": [],
   "source": [
    "stopword_list = stopwords.words('english')\n",
    "#stopword_list"
   ]
  },
  {
   "cell_type": "code",
   "execution_count": 177,
   "metadata": {},
   "outputs": [
    {
     "data": {
      "text/plain": [
       "'almost trade beij save new fallen recent earlier major remain peg\"condit time thursday month friday prop high newspap need ear rate differenti comment alan worri movement mani open competit chines februari highlight late think meantim could factor decis and part gain sanguin hit european foreign call reduc highest longerterm budget white currenc us york next close he sixth hous minist shift point three quarter euro firm greenspan may level london mr asset feder meet big govern howev chairman in stabilis bank unlik curb concern the enough financ set announc view worsethanexpect believ buy boost willing monday spend interest keep export job market sharp attract well current thought sinch deficit speech yawn polici made data half tumbl dollar lay window said household taken strategi back therefor greenback bond china on\\'s much meaning trillion account but higher produc halfpoint ahead gap``despit year ripe deaf fall sent robert look reach head price improv take rise help loosen move fund america reserv result'"
      ]
     },
     "execution_count": 177,
     "metadata": {},
     "output_type": "execute_result"
    }
   ],
   "source": [
    "df['Text'][1]"
   ]
  },
  {
   "cell_type": "code",
   "execution_count": 178,
   "metadata": {},
   "outputs": [],
   "source": [
    "from sklearn.feature_extraction.text import CountVectorizer\n",
    "count_vect = CountVectorizer()\n",
    "x_values = count_vect.fit_transform(df['Text'])\n",
    "x_columns = count_vect.get_feature_names()\n",
    "df_count_vect = pd.DataFrame(x_values.toarray(), columns=x_columns)"
   ]
  },
  {
   "cell_type": "code",
   "execution_count": 179,
   "metadata": {},
   "outputs": [
    {
     "data": {
      "text/plain": [
       "(179, 6016)"
      ]
     },
     "execution_count": 179,
     "metadata": {},
     "output_type": "execute_result"
    }
   ],
   "source": [
    "df_count_vect.shape"
   ]
  },
  {
   "cell_type": "code",
   "execution_count": 180,
   "metadata": {},
   "outputs": [
    {
     "data": {
      "text/plain": [
       "Index(['aaa', 'aadc', 'abacus', 'abandon', 'abat', 'abid', 'abil', 'abiyot',\n",
       "       'abl', 'abnorm',\n",
       "       ...\n",
       "       'zar', 'zara', 'zealand', 'zemecki', 'zen', 'zenith', 'zeroeight',\n",
       "       'zhang', 'ziyi', 'zoe'],\n",
       "      dtype='object', length=6016)"
      ]
     },
     "execution_count": 180,
     "metadata": {},
     "output_type": "execute_result"
    }
   ],
   "source": [
    "df_count_vect.columns"
   ]
  },
  {
   "cell_type": "code",
   "execution_count": 181,
   "metadata": {},
   "outputs": [
    {
     "data": {
      "text/html": [
       "<div>\n",
       "<style scoped>\n",
       "    .dataframe tbody tr th:only-of-type {\n",
       "        vertical-align: middle;\n",
       "    }\n",
       "\n",
       "    .dataframe tbody tr th {\n",
       "        vertical-align: top;\n",
       "    }\n",
       "\n",
       "    .dataframe thead th {\n",
       "        text-align: right;\n",
       "    }\n",
       "</style>\n",
       "<table border=\"1\" class=\"dataframe\">\n",
       "  <thead>\n",
       "    <tr style=\"text-align: right;\">\n",
       "      <th></th>\n",
       "      <th>aaa</th>\n",
       "      <th>aadc</th>\n",
       "      <th>abacus</th>\n",
       "      <th>abandon</th>\n",
       "      <th>abat</th>\n",
       "      <th>abid</th>\n",
       "      <th>abil</th>\n",
       "      <th>abiyot</th>\n",
       "      <th>abl</th>\n",
       "      <th>abnorm</th>\n",
       "      <th>...</th>\n",
       "      <th>zar</th>\n",
       "      <th>zara</th>\n",
       "      <th>zealand</th>\n",
       "      <th>zemecki</th>\n",
       "      <th>zen</th>\n",
       "      <th>zenith</th>\n",
       "      <th>zeroeight</th>\n",
       "      <th>zhang</th>\n",
       "      <th>ziyi</th>\n",
       "      <th>zoe</th>\n",
       "    </tr>\n",
       "  </thead>\n",
       "  <tbody>\n",
       "    <tr>\n",
       "      <th>52</th>\n",
       "      <td>0</td>\n",
       "      <td>0</td>\n",
       "      <td>0</td>\n",
       "      <td>0</td>\n",
       "      <td>0</td>\n",
       "      <td>0</td>\n",
       "      <td>0</td>\n",
       "      <td>0</td>\n",
       "      <td>0</td>\n",
       "      <td>0</td>\n",
       "      <td>...</td>\n",
       "      <td>0</td>\n",
       "      <td>0</td>\n",
       "      <td>0</td>\n",
       "      <td>0</td>\n",
       "      <td>0</td>\n",
       "      <td>0</td>\n",
       "      <td>0</td>\n",
       "      <td>0</td>\n",
       "      <td>0</td>\n",
       "      <td>0</td>\n",
       "    </tr>\n",
       "    <tr>\n",
       "      <th>119</th>\n",
       "      <td>0</td>\n",
       "      <td>0</td>\n",
       "      <td>0</td>\n",
       "      <td>0</td>\n",
       "      <td>0</td>\n",
       "      <td>0</td>\n",
       "      <td>0</td>\n",
       "      <td>0</td>\n",
       "      <td>0</td>\n",
       "      <td>0</td>\n",
       "      <td>...</td>\n",
       "      <td>0</td>\n",
       "      <td>0</td>\n",
       "      <td>0</td>\n",
       "      <td>0</td>\n",
       "      <td>0</td>\n",
       "      <td>0</td>\n",
       "      <td>0</td>\n",
       "      <td>0</td>\n",
       "      <td>0</td>\n",
       "      <td>0</td>\n",
       "    </tr>\n",
       "    <tr>\n",
       "      <th>163</th>\n",
       "      <td>0</td>\n",
       "      <td>0</td>\n",
       "      <td>0</td>\n",
       "      <td>0</td>\n",
       "      <td>0</td>\n",
       "      <td>0</td>\n",
       "      <td>1</td>\n",
       "      <td>0</td>\n",
       "      <td>0</td>\n",
       "      <td>0</td>\n",
       "      <td>...</td>\n",
       "      <td>0</td>\n",
       "      <td>0</td>\n",
       "      <td>0</td>\n",
       "      <td>0</td>\n",
       "      <td>0</td>\n",
       "      <td>0</td>\n",
       "      <td>0</td>\n",
       "      <td>0</td>\n",
       "      <td>0</td>\n",
       "      <td>0</td>\n",
       "    </tr>\n",
       "    <tr>\n",
       "      <th>56</th>\n",
       "      <td>0</td>\n",
       "      <td>0</td>\n",
       "      <td>0</td>\n",
       "      <td>0</td>\n",
       "      <td>0</td>\n",
       "      <td>0</td>\n",
       "      <td>0</td>\n",
       "      <td>0</td>\n",
       "      <td>0</td>\n",
       "      <td>0</td>\n",
       "      <td>...</td>\n",
       "      <td>0</td>\n",
       "      <td>0</td>\n",
       "      <td>0</td>\n",
       "      <td>0</td>\n",
       "      <td>0</td>\n",
       "      <td>0</td>\n",
       "      <td>0</td>\n",
       "      <td>0</td>\n",
       "      <td>0</td>\n",
       "      <td>0</td>\n",
       "    </tr>\n",
       "    <tr>\n",
       "      <th>16</th>\n",
       "      <td>0</td>\n",
       "      <td>0</td>\n",
       "      <td>0</td>\n",
       "      <td>0</td>\n",
       "      <td>0</td>\n",
       "      <td>0</td>\n",
       "      <td>0</td>\n",
       "      <td>0</td>\n",
       "      <td>0</td>\n",
       "      <td>0</td>\n",
       "      <td>...</td>\n",
       "      <td>0</td>\n",
       "      <td>0</td>\n",
       "      <td>0</td>\n",
       "      <td>0</td>\n",
       "      <td>0</td>\n",
       "      <td>0</td>\n",
       "      <td>0</td>\n",
       "      <td>0</td>\n",
       "      <td>0</td>\n",
       "      <td>0</td>\n",
       "    </tr>\n",
       "  </tbody>\n",
       "</table>\n",
       "<p>5 rows × 6016 columns</p>\n",
       "</div>"
      ],
      "text/plain": [
       "     aaa  aadc  abacus  abandon  abat  abid  abil  abiyot  abl  abnorm  ...  \\\n",
       "52     0     0       0        0     0     0     0       0    0       0  ...   \n",
       "119    0     0       0        0     0     0     0       0    0       0  ...   \n",
       "163    0     0       0        0     0     0     1       0    0       0  ...   \n",
       "56     0     0       0        0     0     0     0       0    0       0  ...   \n",
       "16     0     0       0        0     0     0     0       0    0       0  ...   \n",
       "\n",
       "     zar  zara  zealand  zemecki  zen  zenith  zeroeight  zhang  ziyi  zoe  \n",
       "52     0     0        0        0    0       0          0      0     0    0  \n",
       "119    0     0        0        0    0       0          0      0     0    0  \n",
       "163    0     0        0        0    0       0          0      0     0    0  \n",
       "56     0     0        0        0    0       0          0      0     0    0  \n",
       "16     0     0        0        0    0       0          0      0     0    0  \n",
       "\n",
       "[5 rows x 6016 columns]"
      ]
     },
     "execution_count": 181,
     "metadata": {},
     "output_type": "execute_result"
    }
   ],
   "source": [
    "df_count_vect.sample(5)"
   ]
  },
  {
   "cell_type": "code",
   "execution_count": 182,
   "metadata": {},
   "outputs": [],
   "source": [
    "from sklearn.cluster import KMeans"
   ]
  },
  {
   "cell_type": "code",
   "execution_count": 183,
   "metadata": {},
   "outputs": [
    {
     "data": {
      "text/plain": [
       "KMeans(algorithm='auto', copy_x=True, init='k-means++', max_iter=300,\n",
       "       n_clusters=5, n_init=10, n_jobs=None, precompute_distances='auto',\n",
       "       random_state=None, tol=0.0001, verbose=0)"
      ]
     },
     "execution_count": 183,
     "metadata": {},
     "output_type": "execute_result"
    }
   ],
   "source": [
    "kmeans = KMeans(n_clusters=5)\n",
    "kmeans.fit(df_count_vect)"
   ]
  },
  {
   "cell_type": "code",
   "execution_count": 184,
   "metadata": {},
   "outputs": [
    {
     "data": {
      "text/plain": [
       "array([[ 6.25000000e-02,  1.73472348e-18,  1.73472348e-18, ...,\n",
       "         3.46944695e-18,  3.46944695e-18,  6.25000000e-02],\n",
       "       [ 5.20417043e-18,  4.54545455e-02,  4.54545455e-02, ...,\n",
       "         5.20417043e-18,  5.20417043e-18,  5.20417043e-18],\n",
       "       [ 9.43396226e-03, -3.46944695e-18, -3.46944695e-18, ...,\n",
       "         1.88679245e-02,  1.88679245e-02,  9.43396226e-03],\n",
       "       [ 0.00000000e+00,  0.00000000e+00,  0.00000000e+00, ...,\n",
       "         0.00000000e+00,  0.00000000e+00,  0.00000000e+00],\n",
       "       [ 6.93889390e-18,  3.46944695e-18,  3.46944695e-18, ...,\n",
       "         6.93889390e-18,  6.93889390e-18,  6.93889390e-18]])"
      ]
     },
     "execution_count": 184,
     "metadata": {},
     "output_type": "execute_result"
    }
   ],
   "source": [
    "kmeans.cluster_centers_"
   ]
  },
  {
   "cell_type": "code",
   "execution_count": 185,
   "metadata": {},
   "outputs": [
    {
     "name": "stdout",
     "output_type": "stream",
     "text": [
      "{0: 16, 1: 22, 2: 106, 3: 2, 4: 33}\n"
     ]
    }
   ],
   "source": [
    "label, counts = np.unique(kmeans.labels_, return_counts= True)\n",
    "print(dict(zip(label, counts)))"
   ]
  },
  {
   "cell_type": "code",
   "execution_count": 186,
   "metadata": {},
   "outputs": [],
   "source": [
    "df_count_vect['label'] = kmeans.labels_"
   ]
  },
  {
   "cell_type": "code",
   "execution_count": 187,
   "metadata": {},
   "outputs": [
    {
     "data": {
      "text/plain": [
       "<matplotlib.axes._subplots.AxesSubplot at 0x18dcf606cc0>"
      ]
     },
     "execution_count": 187,
     "metadata": {},
     "output_type": "execute_result"
    },
    {
     "data": {
      "image/png": "[encoded data removed]",
      "text/plain": [
       "<Figure size 432x288 with 1 Axes>"
      ]
     },
     "metadata": {
      "needs_background": "light"
     },
     "output_type": "display_data"
    }
   ],
   "source": [
    "sns.countplot(df_count_vect['label'])"
   ]
  },
  {
   "cell_type": "code",
   "execution_count": 188,
   "metadata": {},
   "outputs": [
    {
     "name": "stdout",
     "output_type": "stream",
     "text": [
      "For no of clusters = 2  The average silhouette_score is : 0.04388141414891639\n",
      "For no of clusters = 3  The average silhouette_score is : -0.02554962687811622\n",
      "For no of clusters = 4  The average silhouette_score is : -0.01821763167463092\n",
      "For no of clusters = 5  The average silhouette_score is : 0.027980513658490375\n",
      "For no of clusters = 6  The average silhouette_score is : -0.0004259940272487737\n",
      "For no of clusters = 7  The average silhouette_score is : 0.031515912621908365\n",
      "For no of clusters = 8  The average silhouette_score is : 0.038645461405984204\n"
     ]
    }
   ],
   "source": [
    "no_of_clusters = [2, 3, 4, 5, 6,7,8] \n",
    "X, y = train_test_split(df_count_vect, test_size=0.2, random_state=7)\n",
    "  \n",
    "for n_clusters in no_of_clusters: \n",
    "  \n",
    "    cluster = KMeans(n_clusters = n_clusters) \n",
    "    cluster_labels = cluster.fit_predict(df_count_vect) \n",
    "  \n",
    "    # The silhouette_score gives the  \n",
    "    # average value for all the samples. \n",
    "    silhouette_avg = silhouette_score(df_count_vect, cluster_labels) \n",
    "  \n",
    "    print(\"For no of clusters =\", n_clusters, \n",
    "          \" The average silhouette_score is :\", silhouette_avg) "
   ]
  },
  {
   "cell_type": "code",
   "execution_count": 189,
   "metadata": {},
   "outputs": [],
   "source": [
    "from sklearn.feature_extraction.text import TfidfVectorizer\n",
    "tfidf_vect = TfidfVectorizer(min_df=1, lowercase=True, stop_words = 'english')\n",
    "tfidf_values = tfidf_vect.fit_transform(df['Text'])\n",
    "tfidf_columns = tfidf_vect.get_feature_names()\n",
    "df_tfidf = pd.DataFrame(tfidf_values.toarray(), columns = tfidf_columns)"
   ]
  },
  {
   "cell_type": "code",
   "execution_count": 190,
   "metadata": {},
   "outputs": [
    {
     "data": {
      "text/plain": [
       "(179, 5845)"
      ]
     },
     "execution_count": 190,
     "metadata": {},
     "output_type": "execute_result"
    }
   ],
   "source": [
    "df_tfidf.shape"
   ]
  },
  {
   "cell_type": "code",
   "execution_count": 191,
   "metadata": {},
   "outputs": [
    {
     "data": {
      "text/plain": [
       "KMeans(algorithm='auto', copy_x=True, init='k-means++', max_iter=300,\n",
       "       n_clusters=5, n_init=10, n_jobs=None, precompute_distances='auto',\n",
       "       random_state=None, tol=0.0001, verbose=0)"
      ]
     },
     "execution_count": 191,
     "metadata": {},
     "output_type": "execute_result"
    }
   ],
   "source": [
    "kmeans1 = KMeans(n_clusters=5)\n",
    "kmeans1.fit(df_tfidf)"
   ]
  },
  {
   "cell_type": "code",
   "execution_count": 192,
   "metadata": {},
   "outputs": [
    {
     "data": {
      "text/plain": [
       "array([[ 7.44116772e-03, -5.42101086e-19, -2.16840434e-19, ...,\n",
       "         2.75109666e-03,  2.75109666e-03,  2.09689867e-03],\n",
       "       [-6.50521303e-19,  2.24624153e-03,  1.28664318e-03, ...,\n",
       "         1.08420217e-18,  1.08420217e-18,  2.44655406e-03],\n",
       "       [ 0.00000000e+00,  0.00000000e+00,  5.42101086e-20, ...,\n",
       "         0.00000000e+00,  0.00000000e+00,  0.00000000e+00],\n",
       "       [-1.30104261e-18, -6.50521303e-19, -2.71050543e-19, ...,\n",
       "         1.08420217e-18,  1.08420217e-18,  8.67361738e-19],\n",
       "       [-1.30104261e-18, -6.50521303e-19, -2.71050543e-19, ...,\n",
       "         2.45867128e-03,  2.45867128e-03,  8.67361738e-19]])"
      ]
     },
     "execution_count": 192,
     "metadata": {},
     "output_type": "execute_result"
    }
   ],
   "source": [
    "kmeans1.cluster_centers_"
   ]
  },
  {
   "cell_type": "code",
   "execution_count": 193,
   "metadata": {},
   "outputs": [],
   "source": [
    "df_tfidf['label']= kmeans1.labels_"
   ]
  },
  {
   "cell_type": "code",
   "execution_count": 194,
   "metadata": {},
   "outputs": [
    {
     "data": {
      "text/plain": [
       "{0: 16, 1: 22, 2: 106, 3: 2, 4: 33}"
      ]
     },
     "execution_count": 194,
     "metadata": {},
     "output_type": "execute_result"
    }
   ],
   "source": [
    "label, counts = np.unique(kmeans.labels_, return_counts = True)\n",
    "dict(zip(label,counts))"
   ]
  },
  {
   "cell_type": "code",
   "execution_count": 195,
   "metadata": {},
   "outputs": [
    {
     "data": {
      "text/plain": [
       "<matplotlib.axes._subplots.AxesSubplot at 0x18dcf602160>"
      ]
     },
     "execution_count": 195,
     "metadata": {},
     "output_type": "execute_result"
    },
    {
     "data": {
      "image/png": "[encoded data removed]",
      "text/plain": [
       "<Figure size 432x288 with 1 Axes>"
      ]
     },
     "metadata": {
      "needs_background": "light"
     },
     "output_type": "display_data"
    }
   ],
   "source": [
    "sns.countplot(df_tfidf['label'])"
   ]
  },
  {
   "cell_type": "code",
   "execution_count": 196,
   "metadata": {},
   "outputs": [],
   "source": [
    "df_tfidf.to_csv('BBCNewsArticlesClustered.csv')"
   ]
  },
  {
   "cell_type": "code",
   "execution_count": 197,
   "metadata": {},
   "outputs": [],
   "source": [
    "from sklearn.metrics import silhouette_score\n",
    "from sklearn.model_selection import train_test_split"
   ]
  },
  {
   "cell_type": "code",
   "execution_count": 199,
   "metadata": {},
   "outputs": [
    {
     "name": "stdout",
     "output_type": "stream",
     "text": [
      "For no of clusters = 2  The average silhouette_score is : 0.48067794850181156\n",
      "For no of clusters = 3  The average silhouette_score is : 0.29884064551377937\n",
      "For no of clusters = 4  The average silhouette_score is : 0.19576979538067119\n",
      "For no of clusters = 5  The average silhouette_score is : 0.19955655921359572\n",
      "For no of clusters = 6  The average silhouette_score is : 0.15560366737725181\n",
      "For no of clusters = 7  The average silhouette_score is : 0.1016612325998874\n",
      "For no of clusters = 8  The average silhouette_score is : 0.0659892872400232\n"
     ]
    }
   ],
   "source": [
    "no_of_clusters = [2, 3, 4, 5, 6,7,8] \n",
    "X, y = train_test_split(df_tfidf, test_size=0.2, random_state=7)\n",
    "  \n",
    "for n_clusters in no_of_clusters: \n",
    "  \n",
    "    cluster = KMeans(n_clusters = n_clusters) \n",
    "    cluster_labels = cluster.fit_predict(df_tfidf) \n",
    "  \n",
    "    # The silhouette_score gives the  \n",
    "    # average value for all the samples. \n",
    "    silhouette_avg = silhouette_score(df_tfidf, cluster_labels) \n",
    "  \n",
    "    print(\"For no of clusters =\", n_clusters, \n",
    "          \" The average silhouette_score is :\", silhouette_avg) "
   ]
  },
  {
   "cell_type": "code",
   "execution_count": null,
   "metadata": {},
   "outputs": [],
   "source": []
  }
 ],
 "metadata": {
  "kernelspec": {
   "display_name": "Python 3",
   "language": "python",
   "name": "python3"
  },
  "language_info": {
   "codemirror_mode": {
    "name": "ipython",
    "version": 3
   },
   "file_extension": ".py",
   "mimetype": "text/x-python",
   "name": "python",
   "nbconvert_exporter": "python",
   "pygments_lexer": "ipython3",
   "version": "3.7.1"
  }
 },
 "nbformat": 4,
 "nbformat_minor": 2
}
