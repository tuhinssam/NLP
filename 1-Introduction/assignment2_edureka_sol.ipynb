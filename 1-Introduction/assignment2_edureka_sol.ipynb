{
 "cells": [
  {
   "cell_type": "markdown",
   "metadata": {},
   "source": [
    "### Question 1"
   ]
  },
  {
   "cell_type": "raw",
   "metadata": {},
   "source": [
    "Write code snippets in python to perform the following tasks :\n",
    "•\tPrint your current working directory\n",
    "•\tCreate a new directory on your desktop named: “Text Mining and NLP”\n",
    "•\tMake “Text Mining and NLP” your current working directory\n"
   ]
  },
  {
   "cell_type": "code",
   "execution_count": 1,
   "metadata": {},
   "outputs": [
    {
     "name": "stdout",
     "output_type": "stream",
     "text": [
      "C:\\Users\\ysaxe2\\Desktop\\NLP Edureka\\Solutions\n"
     ]
    }
   ],
   "source": [
    "import os\n",
    "\n",
    "#Print your current working directory\n",
    "print os.getcwd()\n",
    "\n",
    "#Create a new directory on your desktop named: “Text Mining and NLP”\n",
    "os.mkdir(\"C:\\Users\\ysaxe2\\Desktop\\Text Mining and NLP\")\n",
    "\n",
    "#Make “Text Mining and NLP” your current working directory\n",
    "os.chdir(\"C:\\Users\\ysaxe2\\Desktop\\Text Mining and NLP\")"
   ]
  },
  {
   "cell_type": "markdown",
   "metadata": {},
   "source": [
    "### Question 2"
   ]
  },
  {
   "cell_type": "raw",
   "metadata": {},
   "source": [
    "Write code snippets in python to perform the following tasks:\n",
    "•\tCreate a text file named “Greetings.txt” and write “Welcome to Text Mining and Natural Language Processing”\n",
    "•\tMove this file to the folder “Text Mining and NLP” which you created in ques 1\n",
    "•\tRename this file to “Welcome.txt”\n"
   ]
  },
  {
   "cell_type": "code",
   "execution_count": 6,
   "metadata": {
    "collapsed": true
   },
   "outputs": [],
   "source": [
    "#Create a text file named “Greetings.txt” and write “Welcome to Text Mining and Natural Language Processing”\n",
    "file=open(\"C:\\Users\\ysaxe2\\Desktop\\NLP Edureka\\Solutions\\Greetings.txt\",'w+')\n",
    "file.write(\"Welcome to Text Mining and Natural Language Processing\")\n",
    "file.close()\n",
    "\n",
    "#Move this file to the folder “Text Mining and NLP” which you created in ques 1\n",
    "import shutil\n",
    "shutil.move(\"C:\\Users\\ysaxe2\\Desktop\\NLP Edureka\\Solutions\\Greetings.txt\", \"C:\\Users\\ysaxe2\\Desktop\\Text Mining and NLP\\Greetings.txt\")\n",
    "\n",
    "#Rename this file to “Welcome.txt”\n",
    "import os\n",
    "os.rename(\"C:\\Users\\ysaxe2\\Desktop\\Text Mining and NLP\\Greetings.txt\",\"C:\\Users\\ysaxe2\\Desktop\\Text Mining and NLP\\Welcome.txt\")"
   ]
  },
  {
   "cell_type": "markdown",
   "metadata": {},
   "source": [
    "### Question 3"
   ]
  },
  {
   "cell_type": "raw",
   "metadata": {},
   "source": [
    "You are given a docx file named “NLP.docx”. Perform the following tasks:\n",
    "•\tUse OS module to open the file and perform the following tasks:\n",
    "•\tHow many paragraphs are there in the file?\n",
    "•\tFor each paragraph, print the number of words it contains\n",
    "•\tRead the content from “Greeting.txt” file which you created in question number 2 and make that content the first paragraph in “NLP.docx” file\n"
   ]
  },
  {
   "cell_type": "code",
   "execution_count": 62,
   "metadata": {
    "collapsed": true
   },
   "outputs": [],
   "source": [
    "import docx\n",
    "# Use OS module to open the file\n",
    "document = docx.Document('NLP.docx')\n",
    "\n",
    "#How many paragraphs are there in the file?\n",
    "print len(document.paragraphs)\n",
    "\n",
    "#For each paragraph, print the number of words it contains\n",
    "for i,each in enumerate(document.paragraphs,1):\n",
    "    words=each.text.split(\" \")\n",
    "    #print each.text\n",
    "    print \"Paragraph \",i,\" contains \",len(words),\"words.\" \n",
    "    \n",
    "#Read the content from “Welcome.txt” file which you created in question number 2..\n",
    "#..and make that content the first paragraph in “NLP.docx” file\n",
    "\n",
    "content=open('C:\\Users\\ysaxe2\\Desktop\\Text Mining and NLP\\Welcome.txt','r+').read()\n",
    "new_paragraph = document.add_paragraph(content)\n",
    "\n",
    "document = docx.Document('NLP.docx')\n",
    "first_para=document.paragraphs[0]\n",
    "first_para.insert_paragraph_before(content)\n",
    "\n",
    "#Save changes to Document \n",
    "document.save('NLP.docx')"
   ]
  },
  {
   "cell_type": "markdown",
   "metadata": {},
   "source": [
    "### Question 4"
   ]
  },
  {
   "cell_type": "raw",
   "metadata": {},
   "source": [
    "You are given a csv file named “EmployeeDetails.csv”. Perform the following tasks:\n",
    "•\tUse pandas module to read the csv file\n",
    "•\tSplit the name as first name and last name and make two separate columns             \n",
    "•\tDelete “Name” Column \n",
    "•\tIncrement the “Salary” Column by 10% of the existing value and save changes in same column only   \n",
    "•\tSave changes to a new file named “Employee_Data.csv”\n"
   ]
  },
  {
   "cell_type": "code",
   "execution_count": 134,
   "metadata": {
    "collapsed": true
   },
   "outputs": [],
   "source": [
    "#Use pandas module to read the csv file\n",
    "import pandas as pd\n",
    "df=pd.read_csv('EmployeeDetails.csv')"
   ]
  },
  {
   "cell_type": "code",
   "execution_count": 138,
   "metadata": {
    "collapsed": true
   },
   "outputs": [],
   "source": [
    "#Split the name as first name and last name and make two separate columns \n",
    "df['First Name']=map(lambda x : x.split(\" \")[0],df['Name '])\n",
    "df['Last Name']=map(lambda x : x.split(\" \")[1],df['Name '])"
   ]
  },
  {
   "cell_type": "code",
   "execution_count": 140,
   "metadata": {
    "collapsed": true
   },
   "outputs": [],
   "source": [
    "#Delete “Name” Column\n",
    "del df['Name ']"
   ]
  },
  {
   "cell_type": "code",
   "execution_count": 141,
   "metadata": {
    "collapsed": true
   },
   "outputs": [],
   "source": [
    "#Increment the “Salary” Column by 10% of the existing value and save changes in same column only \n",
    "df['Salary']=map(lambda x : x*1.1,df['Salary'])"
   ]
  },
  {
   "cell_type": "code",
   "execution_count": 143,
   "metadata": {
    "collapsed": true
   },
   "outputs": [],
   "source": [
    "#Save changes to a new file named “Employee_Data.csv”\n",
    "df.to_csv('Employee_Data.csv',index=False)"
   ]
  },
  {
   "cell_type": "code",
   "execution_count": null,
   "metadata": {
    "collapsed": true
   },
   "outputs": [],
   "source": []
  }
 ],
 "metadata": {
  "kernelspec": {
   "display_name": "Python 2",
   "language": "python",
   "name": "python2"
  },
  "language_info": {
   "codemirror_mode": {
    "name": "ipython",
    "version": 2
   },
   "file_extension": ".py",
   "mimetype": "text/x-python",
   "name": "python",
   "nbconvert_exporter": "python",
   "pygments_lexer": "ipython2",
   "version": "2.7.12"
  }
 },
 "nbformat": 4,
 "nbformat_minor": 2
}
