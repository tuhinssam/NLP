{
 "cells": [
  {
   "cell_type": "markdown",
   "metadata": {},
   "source": [
    "1. Write separate python functions which accepts a string and a number ‘n’ and return the following:\n",
    "a. N most frequent Nouns Take function name as “GetNMostFrequentNouns”\n",
    "b. N most frequent Verbs Take function name as “GetNMostFrequentVerbs”\n",
    "c. N most frequent Delimiters Take function name as “GetNMostFrequentDelimiters”\n",
    "d. N most frequent Prepositions Take function name as “GetNMostFrequentPrepositions”\n",
    "** These functions will help you to in last question of this case study.\n",
    "Run all the function on the file “FIFAWorldCup2018.txt” and print the results.\n",
    "\n",
    "\n",
    "2. Write a python function which accepts a string and print the first sentence in the string along with its syntax tree. Take function name as “PrintSyntaxTree”\n",
    "Run this function on the file “FIFAWorldCup2018.txt”\n",
    "3. Write python functions which accepts a string and returns the following using regular expressions:\n",
    "a. Text from the string after removing all the punctuations Take function name as “TextAfterRemovingPunctuations”\n",
    "b. Text from the string after removing all the numbers/digits Take function name as “TextAfterRemovingDigits”\n",
    "c. All the words which begins with the capital letter Take function name as “AllCapitalizedWordsFromText”\n",
    "d. All the emails from the string Take function name as “AllEmailsFromText”\n",
    "\n",
    "Run all the above functions on the file “FIFAWorldCup2018.txt” and print the results.\n",
    "\n",
    "\n",
    "4. Write python functions which accepts a string as an input and return the following chunks.\n",
    "a. Phrases having Proper nouns followed by Verbs Take function name as “ChunkingVer1”\n",
    "b. Verb Phrases having Verbs followed by Adjectives Take function name as “ChunkingVer2”\n",
    "c. Noun Phrases having Determiners followed by Nouns Take function name as “ChunkingVer3”\n",
    "d. Verb Phrases having Verbs followed by Adverbs Take function name as “ChunkingVer4”\n",
    "e. Phrases having Delimiter, Adjectives and Nouns in the respective order. Take function name as “ChunkingVer5”\n",
    "f. Noun Phrases which having Nouns and Adjectives, terminated with Nouns. Take function name as “ChunkingVer5”\n",
    "Run all the functions for the first sentence in the file “FIFAWorldCup2018.txt” and print the results.\n",
    "\n",
    "\n",
    "5. Make a context free grammar having the following rules:\n",
    "a. Noun Phrases are followed by Verb Phrases\n",
    "b. Verb Phrase can have\n",
    "i. Verb and noun phrase\n",
    "ii. Verb, noun phrase and a preposition phrase\n",
    "c. Noun Phrases can have\n",
    "i. Delimiters followed by noun\n",
    "d. Preposition phrase have a preposition followed by a noun phrase\n",
    "The delimiters, verbs, prepositions and nouns for the grammar should be the 2 most frequent words of each type from “FIFAWorldCup2018.txt”.\n",
    "\n",
    "Generate the CFG for “FIFAWorldCup2018.txt” file and save them in a file named “CFG.txt”"
   ]
  },
  {
   "cell_type": "markdown",
   "metadata": {},
   "source": [
    "1. Write separate python functions which accepts a string and a number ‘n’ and return the following:\n",
    "a. N most frequent Nouns Take function name as “GetNMostFrequentNouns”\n",
    "b. N most frequent Verbs Take function name as “GetNMostFrequentVerbs”\n",
    "c. N most frequent Delimiters Take function name as “GetNMostFrequentDelimiters”\n",
    "d. N most frequent Prepositions Take function name as “GetNMostFrequentPrepositions”\n",
    "** These functions will help you to in last question of this case study.\n",
    "\n",
    "Run all the function on the file “FIFAWorldCup2018.txt” and print the results."
   ]
  },
  {
   "cell_type": "code",
   "execution_count": 4,
   "metadata": {},
   "outputs": [
    {
     "name": "stdout",
     "output_type": "stream",
     "text": [
      "*** Introductory Examples for the NLTK Book ***\n",
      "Loading text1, ..., text9 and sent1, ..., sent9\n",
      "Type the name of the text or sentence to view it.\n",
      "Type: 'texts()' or 'sents()' to list the materials.\n",
      "text1: Moby Dick by Herman Melville 1851\n",
      "text2: Sense and Sensibility by Jane Austen 1811\n",
      "text3: The Book of Genesis\n",
      "text4: Inaugural Address Corpus\n",
      "text5: Chat Corpus\n",
      "text6: Monty Python and the Holy Grail\n",
      "text7: Wall Street Journal\n",
      "text8: Personals Corpus\n",
      "text9: The Man Who Was Thursday by G . K . Chesterton 1908\n"
     ]
    }
   ],
   "source": [
    "from nltk.tokenize import word_tokenize\n",
    "from nltk import pos_tag\n",
    "from nltk.probability import ConditionalFreqDist\n",
    "from nltk.book import FreqDist"
   ]
  },
  {
   "cell_type": "code",
   "execution_count": 5,
   "metadata": {},
   "outputs": [],
   "source": [
    "def GetNMostFrequentNouns(document, N):\n",
    "    word_tokens = word_tokenize(document)\n",
    "    postags = pos_tag(word_tokens)\n",
    "    #condFDist = ConditionalFreqDist()\n",
    "    fdist = FreqDist()\n",
    "    for word,pos in postags:\n",
    "        #print(word, pos)\n",
    "        if pos.startswith(\"N\"):\n",
    "            fdist[word.lower()] += 1\n",
    "    return (fdist.most_common(N))"
   ]
  },
  {
   "cell_type": "code",
   "execution_count": 6,
   "metadata": {},
   "outputs": [
    {
     "name": "stdout",
     "output_type": "stream",
     "text": [
      "[('books', 3), ('learn', 1), ('python', 1), ('beginners', 1)]\n"
     ]
    }
   ],
   "source": [
    "print(GetNMostFrequentNouns(\"Books to Learn Python Books for Beginners and Experts Books in 2019\", 4))"
   ]
  },
  {
   "cell_type": "code",
   "execution_count": 7,
   "metadata": {},
   "outputs": [],
   "source": [
    "def GetNMostFrequentVerbs(document, N):\n",
    "    word_tokens = word_tokenize(document)\n",
    "    postags = pos_tag(word_tokens)\n",
    "    #condFDist = ConditionalFreqDist()\n",
    "    fdist = FreqDist()\n",
    "    for word,pos in postags:\n",
    "        #print(word, pos)\n",
    "        if pos.startswith(\"V\"):\n",
    "            fdist[word.lower()] += 1\n",
    "    return (fdist.most_common(N))"
   ]
  },
  {
   "cell_type": "code",
   "execution_count": 8,
   "metadata": {},
   "outputs": [],
   "source": [
    "def GetNMostFrequentPrepositions(document, N):\n",
    "    word_tokens = word_tokenize(document)\n",
    "    postags = pos_tag(word_tokens)\n",
    "    #condFDist = ConditionalFreqDist()\n",
    "    fdist = FreqDist()\n",
    "    for word,pos in postags:\n",
    "        #print(word, pos)\n",
    "        if pos == \"IN\":\n",
    "            fdist[word.lower()] += 1\n",
    "    return (fdist.most_common(N))"
   ]
  },
  {
   "cell_type": "code",
   "execution_count": 9,
   "metadata": {},
   "outputs": [],
   "source": [
    "def GetNMostFrequentDelimiters(document, N):\n",
    "    delimeters = ['.',',',';',':','(',')','\"',\"'\",'[',']','{','}']\n",
    "    word_tokens = word_tokenize(document)\n",
    "    postags = pos_tag(word_tokens)\n",
    "    #condFDist = ConditionalFreqDist()\n",
    "    fdist = FreqDist()\n",
    "    for word,pos in postags:\n",
    "        #print(word, pos)\n",
    "        if pos in delimeters:\n",
    "            fdist[word.lower()] += 1\n",
    "    return (fdist.most_common(N))"
   ]
  },
  {
   "cell_type": "code",
   "execution_count": 10,
   "metadata": {},
   "outputs": [
    {
     "data": {
      "text/plain": [
       "[(';', 4), ('.', 2), (',', 2)]"
      ]
     },
     "execution_count": 10,
     "metadata": {},
     "output_type": "execute_result"
    }
   ],
   "source": [
    "GetNMostFrequentDelimiters(\"Books to Learn Python; Books. for; Beginners; and Experts; Books, in, 2019.\", 4)"
   ]
  },
  {
   "cell_type": "code",
   "execution_count": 11,
   "metadata": {},
   "outputs": [],
   "source": [
    "import os"
   ]
  },
  {
   "cell_type": "code",
   "execution_count": 12,
   "metadata": {},
   "outputs": [],
   "source": [
    "file1 = open('Dataset\\\\698_m3_datasets_v1.0\\\\FIFAWorldCup2018.txt','r')\n",
    "strval = file1.read()"
   ]
  },
  {
   "cell_type": "code",
   "execution_count": 13,
   "metadata": {},
   "outputs": [
    {
     "data": {
      "text/plain": [
       "[('world', 15),\n",
       " ('cup', 15),\n",
       " ('fifa', 12),\n",
       " ('russia', 5),\n",
       " ('tournament', 4),\n",
       " ('bids', 4),\n",
       " ('bid', 4),\n",
       " ('infrastructure', 4),\n",
       " ('teams', 3),\n",
       " ('cost', 3)]"
      ]
     },
     "execution_count": 13,
     "metadata": {},
     "output_type": "execute_result"
    }
   ],
   "source": [
    "GetNMostFrequentNouns(strval, 10)"
   ]
  },
  {
   "cell_type": "code",
   "execution_count": 14,
   "metadata": {},
   "outputs": [
    {
     "data": {
      "text/plain": [
       "[('of', 30),\n",
       " ('in', 18),\n",
       " ('from', 10),\n",
       " ('for', 8),\n",
       " ('that', 5),\n",
       " ('on', 5),\n",
       " ('at', 4),\n",
       " ('by', 4),\n",
       " ('as', 4),\n",
       " ('with', 3)]"
      ]
     },
     "execution_count": 14,
     "metadata": {},
     "output_type": "execute_result"
    }
   ],
   "source": [
    "GetNMostFrequentPrepositions(strval, 10)"
   ]
  },
  {
   "cell_type": "code",
   "execution_count": 15,
   "metadata": {},
   "outputs": [
    {
     "data": {
      "text/plain": [
       "[('was', 11),\n",
       " ('had', 7),\n",
       " ('were', 7),\n",
       " ('is', 3),\n",
       " ('won', 3),\n",
       " ('took', 2),\n",
       " ('be', 2),\n",
       " ('held', 2),\n",
       " ('been', 2),\n",
       " ('came', 2)]"
      ]
     },
     "execution_count": 15,
     "metadata": {},
     "output_type": "execute_result"
    }
   ],
   "source": [
    "GetNMostFrequentVerbs(strval, 10)"
   ]
  },
  {
   "cell_type": "code",
   "execution_count": 16,
   "metadata": {},
   "outputs": [
    {
     "data": {
      "text/plain": [
       "[(',', 40), ('.', 28), ('(', 3), (')', 3), (':', 1)]"
      ]
     },
     "execution_count": 16,
     "metadata": {},
     "output_type": "execute_result"
    }
   ],
   "source": [
    "GetNMostFrequentDelimiters(strval,10)"
   ]
  },
  {
   "cell_type": "markdown",
   "metadata": {},
   "source": [
    "2. Write a python function which accepts a string and print the first sentence in the string along with its syntax tree. Take function name as “PrintSyntaxTree”\n",
    "Run this function on the file “FIFAWorldCup2018.txt”\n",
    "3. Write python functions which accepts a string and returns the following using regular expressions:\n",
    "a. Text from the string after removing all the punctuations Take function name as “TextAfterRemovingPunctuations”\n",
    "b. Text from the string after removing all the numbers/digits Take function name as “TextAfterRemovingDigits”\n",
    "c. All the words which begins with the capital letter Take function name as “AllCapitalizedWordsFromText”\n",
    "d. All the emails from the string Take function name as “AllEmailsFromText”\n",
    "\n",
    "Run all the above functions on the file “FIFAWorldCup2018.txt” and print the results."
   ]
  },
  {
   "cell_type": "code",
   "execution_count": 17,
   "metadata": {},
   "outputs": [],
   "source": [
    "from nltk.tokenize import sent_tokenize\n",
    "import nltk"
   ]
  },
  {
   "cell_type": "code",
   "execution_count": 18,
   "metadata": {},
   "outputs": [],
   "source": [
    "def PrintSyntaxTree(inputstr):\n",
    "    sent_tokens = sent_tokenize(inputstr)\n",
    "    print(sent_tokens[0])\n",
    "    word_tokens = pos_tag(word_tokenize(sent_tokens[0]))\n",
    "    print(word_tokens)\n",
    "    grammar_np = r\"NP: {<DT>?<JJ>*<NN>}\"\n",
    "    chunk_parser = nltk.RegexpParser(grammar_np)\n",
    "    chunk_result = chunk_parser.parse(word_tokens)\n",
    "    return chunk_result"
   ]
  },
  {
   "cell_type": "code",
   "execution_count": 19,
   "metadata": {},
   "outputs": [],
   "source": [
    "path_to_gs = \"C:\\\\Program Files\\\\gs\\\\gs9.50\\\\bin\"\n",
    "os.environ['PATH'] += os.pathsep +path_to_gs"
   ]
  },
  {
   "cell_type": "code",
   "execution_count": 20,
   "metadata": {},
   "outputs": [
    {
     "name": "stdout",
     "output_type": "stream",
     "text": [
      "2018 FIFA World CUP is an international tournament where all teams compete religously and they showcase beautiful talent.\n",
      "[('2018', 'CD'), ('FIFA', 'NNP'), ('World', 'NNP'), ('CUP', 'NNP'), ('is', 'VBZ'), ('an', 'DT'), ('international', 'JJ'), ('tournament', 'NN'), ('where', 'WRB'), ('all', 'DT'), ('teams', 'NNS'), ('compete', 'VBP'), ('religously', 'RB'), ('and', 'CC'), ('they', 'PRP'), ('showcase', 'VBP'), ('beautiful', 'JJ'), ('talent', 'NN'), ('.', '.')]\n"
     ]
    },
    {
     "data": {
      "image/png": "[encoded data removed]",
      "text/plain": [
       "Tree('S', [('2018', 'CD'), ('FIFA', 'NNP'), ('World', 'NNP'), ('CUP', 'NNP'), ('is', 'VBZ'), Tree('NP', [('an', 'DT'), ('international', 'JJ'), ('tournament', 'NN')]), ('where', 'WRB'), ('all', 'DT'), ('teams', 'NNS'), ('compete', 'VBP'), ('religously', 'RB'), ('and', 'CC'), ('they', 'PRP'), ('showcase', 'VBP'), Tree('NP', [('beautiful', 'JJ'), ('talent', 'NN')]), ('.', '.')])"
      ]
     },
     "execution_count": 20,
     "metadata": {},
     "output_type": "execute_result"
    }
   ],
   "source": [
    "PrintSyntaxTree(strval)"
   ]
  },
  {
   "cell_type": "code",
   "execution_count": 21,
   "metadata": {},
   "outputs": [],
   "source": [
    "import re\n",
    "def TextAfterRemovingPunctuations(inputstr):\n",
    "    punctuation = re.compile(r'[-.?!,:;$()|]')\n",
    "    post_punc = []\n",
    "    word_tokens = word_tokenize(inputstr)\n",
    "    for words in word_tokens:\n",
    "        word = punctuation.sub(\"\", words)\n",
    "        if len(word) >1 :\n",
    "            post_punc.append(word)\n",
    "    return \" \".join(post_punc)\n",
    "    "
   ]
  },
  {
   "cell_type": "code",
   "execution_count": 22,
   "metadata": {},
   "outputs": [
    {
     "data": {
      "text/plain": [
       "\"2018 FIFA World CUP is an international tournament where all teams compete religously and they showcase beautiful talent It took place in Russia from 14 June to 15 July 2018 It was the first World Cup to be held in Eastern Europe and the 11th time that it had been held in Europe At an estimated cost of over 142 billion it was the most expensive World Cup It was also the first World Cup to use the video assistant referee system The finals involved 32 teams of which 31 came through qualifying competitions while the host nation qualified automatically Of the 32 teams 20 had also appeared in the previous tournament in 2014 while both Iceland and Panama made their first appearances at FIFA World Cup total of 64 matches were played in 12 venues across 11 cities The final took place on 15 July at the Luzhniki Stadium in Moscow between France and Croatia France won the match 4–2 to claim their second World Cup title marking the fourth consecutive title won by European team The bidding procedure to host the 2018 and 2022 FIFA World Cup tournaments began in January 2009 and national associations had until February 2009 to register their interest Initially nine countries placed bids for the 2018 FIFA World Cup but Mexico later withdrew from proceedings and Indonesia 's bid was rejected by FIFA in February 2010 after the Indonesian government failed to submit letter to support the bid During the bidding process the three remaining nonUEFA nations Australia Japan and the United States gradually withdrew from the 2018 bids and the UEFA nations were thus ruled out of the 2022 bid As such there were eventually four bids for the 2018 FIFA World Cup two of which were joint bids England Russia Netherlands/Belgium and Portugal/Spain The 22member FIFA Executive Committee convened in Zürich on December 2010 to vote to select the hosts of both tournaments Russia won the right to be the 2018 host in the second round of voting The Portugal/Spain bid came second and that from Belgium/Netherlands third England which was bidding to host its second tournament was eliminated in the first round The English Football Association and others raised concerns of bribery on the part of the Russian team and corruption from FIFA members They claimed that four members of the executive committee had requested bribes to vote for England and Sepp Blatter had said that it had already been arranged before the vote that Russia would win The 2014 Garcia Report an internal investigation led by Michael Garcia was withheld from public release by HansJoachim Eckert FIFA 's head of adjudication on ethical matters Eckert instead released shorter revised summary and his and therefore FIFA 's reluctance to publish the full report caused Garcia to resign in protest Because of the controversy the FA refused to accept Eckert 's absolving of Russia from blame with Greg Dyke calling for reexamination of the affair and David Bernstein calling for boycott of the World Cup At an estimated cost of over 142 billion as of June 2018 it is the most expensive World Cup in history surpassing the cost of the 2014 FIFA World Cup in Brazil The Russian government had originally earmarked budget of around 20 billion which was later slashed to 10 billion for the preparations of the World Cup of which half is spent on transport infrastructure As part of the program for preparation to the 2018 FIFA World Cup federal subprogram `` Construction and Renovation of Transport Infrastructure '' was implemented with total budget of 3525 billion rubles with 1703 billion coming from the federal budget 351 billion from regional budgets and 1471 billion from investors The biggest item of federal spending was the aviation infrastructure 1178 billion rubles 86 Construction of new hotels was crucial area of infrastructure development in the World Cup host cities Costs continued to balloon as preparations were underway There were 169 goals scored in 64 matches for an average of 264 goals per match Twelve own goals were scored during the tournament doubling the record of six set in 1998\""
      ]
     },
     "execution_count": 22,
     "metadata": {},
     "output_type": "execute_result"
    }
   ],
   "source": [
    "TextAfterRemovingPunctuations(strval)"
   ]
  },
  {
   "cell_type": "code",
   "execution_count": 23,
   "metadata": {},
   "outputs": [],
   "source": [
    "from nltk.tokenize.treebank import TreebankWordDetokenizer\n",
    "def TextAfterRemovingDigits(inputstr):\n",
    "    word_tokens = word_tokenize(inputstr)\n",
    "    detoken = TreebankWordDetokenizer()\n",
    "    #print(word_tokens)\n",
    "    digits_re = re.compile(r'[0-9]')\n",
    "    \n",
    "    out_token = []\n",
    "    for words in word_tokens:\n",
    "        word = digits_re.sub(\"\", words)\n",
    "        out_token.append(word)\n",
    "        #print(word)\n",
    "    return detoken.detokenize(out_token)   "
   ]
  },
  {
   "cell_type": "code",
   "execution_count": 24,
   "metadata": {},
   "outputs": [
    {
     "data": {
      "text/plain": [
       "'FIFA World CUP is an international tournament where all teams compete religously and they showcase beautiful talent . It took place in Russia from  June to  July  . It was the first World Cup to be held in Eastern Europe, and the th time that it had been held in Europe . At an estimated cost of over . billion, it was the most expensive World Cup . It was also the first World Cup to use the video assistant referee system . The finals involved  teams, of which  came through qualifying competitions, while the host nation qualified automatically . Of the  teams,  had also appeared in the previous tournament in , while both Iceland and Panama made their first appearances at a FIFA World Cup . A total of  matches were played in  venues across  cities . The final took place on  July at the Luzhniki Stadium in Moscow, between France and Croatia . France won the match – to claim their second World Cup title, marking the fourth consecutive title won by a European team . The bidding procedure to host the  and  FIFA World Cup tournaments began in January , and national associations had until  February  to register their interest . Initially, nine countries placed bids for the  FIFA World Cup, but Mexico later withdrew from proceedings, and Indonesia\\'s bid was rejected by FIFA in February  after the Indonesian government failed to submit a letter to support the bid . During the bidding process, the three remaining non-UEFA nations (Australia, Japan, and the United States) gradually withdrew from the  bids, and the UEFA nations were thus ruled out of the  bid . As such, there were eventually four bids for the  FIFA World Cup, two of which were joint bids: England, Russia, Netherlands/Belgium, and Portugal/Spain . The -member FIFA Executive Committee convened in Zürich on  December  to vote to select the hosts of both tournaments . Russia won the right to be the  host in the second round of voting . The Portugal/Spain bid came second, and that from Belgium/Netherlands third . England, which was bidding to host its second tournament, was eliminated in the first round The English Football Association and others raised concerns of bribery on the part of the Russian team and corruption from FIFA members . They claimed that four members of the executive committee had requested bribes to vote for England, and Sepp Blatter had said that it had already been arranged before the vote that Russia would win . The  Garcia Report, an internal investigation led by Michael J. Garcia, was withheld from public release by Hans-Joachim Eckert, FIFA\\'s head of adjudication on ethical matters . Eckert instead released a shorter revised summary, and his (and therefore FIFA\\'s) reluctance to publish the full report caused Garcia to resign in protest . Because of the controversy, the FA refused to accept Eckert\\'s absolving of Russia from blame, with Greg Dyke calling for a re-examination of the affair and David Bernstein calling for a boycott of the World Cup . At an estimated cost of over $. billion as of June , it is the most expensive World Cup in history, surpassing the cost of the  FIFA World Cup in Brazil . The Russian government had originally earmarked a budget of around $ billion which was later slashed to $ billion for the preparations of the World Cup, of which half is spent on transport infrastructure . As part of the program for preparation to the  FIFA World Cup, a federal sub-program``Construction and Renovation of Transport Infrastructure\"was implemented with a total budget of . billion rubles, with . billion coming from the federal budget, . billion from regional budgets, and . billion from investors . The biggest item of federal spending was the aviation infrastructure (. billion rubles). [] Construction of new hotels was a crucial area of infrastructure development in the World Cup host cities . Costs continued to balloon as preparations were underway There were  goals scored in  matches, for an average of . goals per match . Twelve own goals were scored during the tournament, doubling the record of six set in'"
      ]
     },
     "execution_count": 24,
     "metadata": {},
     "output_type": "execute_result"
    }
   ],
   "source": [
    "TextAfterRemovingDigits(strval)"
   ]
  },
  {
   "cell_type": "code",
   "execution_count": 25,
   "metadata": {},
   "outputs": [],
   "source": [
    "def AllCapitalizedWordsFromText(inputstr):\n",
    "    regex_cap = re.compile(r'[A-Z][a-z]*')\n",
    "    lstmatch = re.findall(r'[A-Z][a-z]*',inputstr)\n",
    "    lst = []\n",
    "    for token in lstmatch:\n",
    "        if len(token) > 1:\n",
    "            lst.append(token) \n",
    "    return lst"
   ]
  },
  {
   "cell_type": "code",
   "execution_count": 26,
   "metadata": {},
   "outputs": [
    {
     "data": {
      "text/plain": [
       "['World',\n",
       " 'It',\n",
       " 'Russia',\n",
       " 'June',\n",
       " 'July',\n",
       " 'It',\n",
       " 'World',\n",
       " 'Cup',\n",
       " 'Eastern',\n",
       " 'Europe',\n",
       " 'Europe',\n",
       " 'At',\n",
       " 'World',\n",
       " 'Cup',\n",
       " 'It',\n",
       " 'World',\n",
       " 'Cup',\n",
       " 'The',\n",
       " 'Of',\n",
       " 'Iceland',\n",
       " 'Panama',\n",
       " 'World',\n",
       " 'Cup',\n",
       " 'The',\n",
       " 'July',\n",
       " 'Luzhniki',\n",
       " 'Stadium',\n",
       " 'Moscow',\n",
       " 'France',\n",
       " 'Croatia',\n",
       " 'France',\n",
       " 'World',\n",
       " 'Cup',\n",
       " 'European',\n",
       " 'The',\n",
       " 'World',\n",
       " 'Cup',\n",
       " 'January',\n",
       " 'February',\n",
       " 'Initially',\n",
       " 'World',\n",
       " 'Cup',\n",
       " 'Mexico',\n",
       " 'Indonesia',\n",
       " 'February',\n",
       " 'Indonesian',\n",
       " 'During',\n",
       " 'Australia',\n",
       " 'Japan',\n",
       " 'United',\n",
       " 'States',\n",
       " 'As',\n",
       " 'World',\n",
       " 'Cup',\n",
       " 'England',\n",
       " 'Russia',\n",
       " 'Netherlands',\n",
       " 'Belgium',\n",
       " 'Portugal',\n",
       " 'Spain',\n",
       " 'The',\n",
       " 'Executive',\n",
       " 'Committee',\n",
       " 'December',\n",
       " 'Russia',\n",
       " 'The',\n",
       " 'Portugal',\n",
       " 'Spain',\n",
       " 'Belgium',\n",
       " 'Netherlands',\n",
       " 'England',\n",
       " 'The',\n",
       " 'English',\n",
       " 'Football',\n",
       " 'Association',\n",
       " 'Russian',\n",
       " 'They',\n",
       " 'England',\n",
       " 'Sepp',\n",
       " 'Blatter',\n",
       " 'Russia',\n",
       " 'The',\n",
       " 'Garcia',\n",
       " 'Report',\n",
       " 'Michael',\n",
       " 'Garcia',\n",
       " 'Hans',\n",
       " 'Joachim',\n",
       " 'Eckert',\n",
       " 'Eckert',\n",
       " 'Garcia',\n",
       " 'Because',\n",
       " 'Eckert',\n",
       " 'Russia',\n",
       " 'Greg',\n",
       " 'Dyke',\n",
       " 'David',\n",
       " 'Bernstein',\n",
       " 'World',\n",
       " 'Cup',\n",
       " 'At',\n",
       " 'June',\n",
       " 'World',\n",
       " 'Cup',\n",
       " 'World',\n",
       " 'Cup',\n",
       " 'Brazil',\n",
       " 'The',\n",
       " 'Russian',\n",
       " 'World',\n",
       " 'Cup',\n",
       " 'As',\n",
       " 'World',\n",
       " 'Cup',\n",
       " 'Construction',\n",
       " 'Renovation',\n",
       " 'Transport',\n",
       " 'Infrastructure',\n",
       " 'The',\n",
       " 'Construction',\n",
       " 'World',\n",
       " 'Cup',\n",
       " 'Costs',\n",
       " 'There',\n",
       " 'Twelve']"
      ]
     },
     "execution_count": 26,
     "metadata": {},
     "output_type": "execute_result"
    }
   ],
   "source": [
    "AllCapitalizedWordsFromText(strval)"
   ]
  },
  {
   "cell_type": "code",
   "execution_count": 27,
   "metadata": {},
   "outputs": [],
   "source": [
    "def AllEmailsFromText(inputstr):\n",
    "    #regex_cap = re.compile(r'[A-Z][a-z]*')\n",
    "    lstmatch = re.findall(r'\\b[A-Z0-9._%+-]+@[A-Z0-9.-]+\\.[A-Z]{2,}\\b',inputstr)\n",
    "    return lstmatch"
   ]
  },
  {
   "cell_type": "code",
   "execution_count": 28,
   "metadata": {},
   "outputs": [
    {
     "data": {
      "text/plain": [
       "[]"
      ]
     },
     "execution_count": 28,
     "metadata": {},
     "output_type": "execute_result"
    }
   ],
   "source": [
    "AllEmailsFromText(strval)"
   ]
  },
  {
   "cell_type": "markdown",
   "metadata": {},
   "source": [
    "4. Write python functions which accepts a string as an input and return the following chunks.\n",
    "a. Phrases having Proper nouns followed by Verbs Take function name as “ChunkingVer1”\n",
    "b. Verb Phrases having Verbs followed by Adjectives Take function name as “ChunkingVer2”\n",
    "c. Noun Phrases having Determiners followed by Nouns Take function name as “ChunkingVer3”\n",
    "d. Verb Phrases having Verbs followed by Adverbs Take function name as “ChunkingVer4”\n",
    "e. Phrases having Delimiter, Adjectives and Nouns in the respective order. Take function name as “ChunkingVer5”\n",
    "f. Noun Phrases which having Nouns and Adjectives, terminated with Nouns. Take function name as “ChunkingVer5”\n",
    "Run all the functions for the first sentence in the file “FIFAWorldCup2018.txt” and print the results."
   ]
  },
  {
   "cell_type": "code",
   "execution_count": 72,
   "metadata": {},
   "outputs": [],
   "source": [
    "def ChunkingVer1(inputstr):\n",
    "    grammar_chunk = r\"NP: {<NNP|NNPS><.*>*<VB.*>}\"\n",
    "    word_tokens = word_tokenize(inputstr)\n",
    "    postags = pos_tag(word_tokens)\n",
    "    chunk_parser = nltk.RegexpParser(grammar_chunk)\n",
    "    chunk_result = chunk_parser.parse(postags)\n",
    "    return chunk_result"
   ]
  },
  {
   "cell_type": "code",
   "execution_count": 73,
   "metadata": {},
   "outputs": [
    {
     "data": {
      "image/png": "[encoded data removed]",
      "text/plain": [
       "Tree('S', [('The', 'DT'), Tree('NP', [('Newyork', 'NNP'), ('is', 'VBZ')]), ('a', 'DT'), ('famous', 'JJ'), ('destination', 'NN')])"
      ]
     },
     "execution_count": 73,
     "metadata": {},
     "output_type": "execute_result"
    }
   ],
   "source": [
    "tree = ChunkingVer1(\"The Newyork is a famous destination\")\n",
    "tree"
   ]
  },
  {
   "cell_type": "code",
   "execution_count": 60,
   "metadata": {},
   "outputs": [
    {
     "name": "stdout",
     "output_type": "stream",
     "text": [
      "tree: (S The/DT Newyork/NNP is/VBZ a/DT famous/JJ destination/NN)\n",
      "None\n"
     ]
    }
   ],
   "source": [
    "def traverse_tree(tree):\n",
    "    print(\"tree:\", tree)\n",
    "    for subtree in tree:\n",
    "        if type(subtree) == nltk.tree.Tree:\n",
    "            traverse_tree(subtree)\n",
    "print(traverse_tree(tree))"
   ]
  },
  {
   "cell_type": "code",
   "execution_count": 56,
   "metadata": {},
   "outputs": [],
   "source": [
    "def ChunkingVer2(inputstr):\n",
    "    grammar_chunk = r\"NP: {<VB.*><.*><JJ.*>}\"\n",
    "    word_tokens = word_tokenize(inputstr)\n",
    "    postags = pos_tag(word_tokens)\n",
    "    chunk_parser = nltk.RegexpParser(grammar_chunk)\n",
    "    chunk_result = chunk_parser.parse(postags)\n",
    "    return chunk_result"
   ]
  },
  {
   "cell_type": "code",
   "execution_count": 57,
   "metadata": {},
   "outputs": [
    {
     "data": {
      "image/png": "[encoded data removed]",
      "text/plain": [
       "Tree('S', [('She', 'PRP'), ('is', 'VBZ'), Tree('NP', [('wearing', 'VBG'), ('a', 'DT'), ('beatiful', 'JJ')]), ('dress', 'NN')])"
      ]
     },
     "execution_count": 57,
     "metadata": {},
     "output_type": "execute_result"
    }
   ],
   "source": [
    "ChunkingVer2(\"She is wearing a beatiful dress\")"
   ]
  },
  {
   "cell_type": "code",
   "execution_count": 76,
   "metadata": {},
   "outputs": [],
   "source": [
    "def ChunkingVer3(inputstr):\n",
    "    grammar_chunk = r\"NP: {<DT.*><.*><NN.*>}\"\n",
    "    word_tokens = word_tokenize(inputstr)\n",
    "    postags = pos_tag(word_tokens)\n",
    "    chunk_parser = nltk.RegexpParser(grammar_chunk)\n",
    "    chunk_result = chunk_parser.parse(postags)\n",
    "    return chunk_result"
   ]
  },
  {
   "cell_type": "code",
   "execution_count": 77,
   "metadata": {},
   "outputs": [
    {
     "data": {
      "image/png": "[encoded data removed]",
      "text/plain": [
       "Tree('S', [('She', 'PRP'), ('is', 'VBZ'), ('wearing', 'VBG'), Tree('NP', [('a', 'DT'), ('beatiful', 'JJ'), ('dress', 'NN')])])"
      ]
     },
     "execution_count": 77,
     "metadata": {},
     "output_type": "execute_result"
    }
   ],
   "source": [
    "ChunkingVer3(\"She is wearing a beatiful dress\")"
   ]
  },
  {
   "cell_type": "code",
   "execution_count": 84,
   "metadata": {},
   "outputs": [],
   "source": [
    "def ChunkingVer4(inputstr):\n",
    "    grammar_chunk = r\"NP: {<VBG>*<RB.*>}\"\n",
    "    word_tokens = word_tokenize(inputstr)\n",
    "    postags = pos_tag(word_tokens)\n",
    "    chunk_parser = nltk.RegexpParser(grammar_chunk)\n",
    "    chunk_result = chunk_parser.parse(postags)\n",
    "    return chunk_result"
   ]
  },
  {
   "cell_type": "code",
   "execution_count": 85,
   "metadata": {},
   "outputs": [
    {
     "data": {
      "image/png": "[encoded data removed]",
      "text/plain": [
       "Tree('S', [('The', 'DT'), ('car', 'NN'), ('is', 'VBZ'), Tree('NP', [('moving', 'VBG'), ('slowly', 'RB')])])"
      ]
     },
     "execution_count": 85,
     "metadata": {},
     "output_type": "execute_result"
    }
   ],
   "source": [
    "ChunkingVer4(\"The car is moving slowly\")"
   ]
  },
  {
   "cell_type": "code",
   "execution_count": 95,
   "metadata": {},
   "outputs": [],
   "source": [
    "def ChunkingVer5(inputstr):\n",
    "    grammar_chunk = r\"NP: {<DT.*><.*><JJ.*>*<NN.*>}\"\n",
    "    word_tokens = word_tokenize(inputstr)\n",
    "    postags = pos_tag(word_tokens)\n",
    "    chunk_parser = nltk.RegexpParser(grammar_chunk)\n",
    "    chunk_result = chunk_parser.parse(postags)\n",
    "    return chunk_result"
   ]
  },
  {
   "cell_type": "code",
   "execution_count": 96,
   "metadata": {},
   "outputs": [
    {
     "data": {
      "image/png": "[encoded data removed]",
      "text/plain": [
       "Tree('S', [Tree('NP', [('the', 'DT'), ('beautiful', 'JJ'), ('girl', 'NN')]), ('is', 'VBZ'), ('wearing', 'VBG'), Tree('NP', [('a', 'DT'), ('new', 'JJ'), ('dress', 'NN')])])"
      ]
     },
     "execution_count": 96,
     "metadata": {},
     "output_type": "execute_result"
    }
   ],
   "source": [
    "ChunkingVer5(\"the beautiful girl is wearing a new dress\")"
   ]
  },
  {
   "cell_type": "code",
   "execution_count": 100,
   "metadata": {},
   "outputs": [],
   "source": [
    "def ChunkingVer6(inputstr):\n",
    "    grammar_chunk = r\"NP: {<JJ.*>*<NN.*>}\"\n",
    "    word_tokens = word_tokenize(inputstr)\n",
    "    postags = pos_tag(word_tokens)\n",
    "    chunk_parser = nltk.RegexpParser(grammar_chunk)\n",
    "    chunk_result = chunk_parser.parse(postags)\n",
    "    return chunk_result"
   ]
  },
  {
   "cell_type": "code",
   "execution_count": 101,
   "metadata": {},
   "outputs": [
    {
     "data": {
      "image/png": "[encoded data removed]",
      "text/plain": [
       "Tree('S', [('the', 'DT'), Tree('NP', [('beautiful', 'JJ'), ('girl', 'NN')]), ('is', 'VBZ'), ('wearing', 'VBG'), ('a', 'DT'), Tree('NP', [('new', 'JJ'), ('dress', 'NN')])])"
      ]
     },
     "execution_count": 101,
     "metadata": {},
     "output_type": "execute_result"
    }
   ],
   "source": [
    "ChunkingVer6(\"the beautiful girl is wearing a new dress\")"
   ]
  },
  {
   "cell_type": "code",
   "execution_count": 103,
   "metadata": {},
   "outputs": [
    {
     "data": {
      "image/png": "[encoded data removed]",
      "text/plain": [
       "Tree('S', [('2018', 'CD'), ('FIFA', 'NNP'), ('World', 'NNP'), ('CUP', 'NNP'), ('is', 'VBZ'), Tree('NP', [('an', 'DT'), ('international', 'JJ'), ('tournament', 'NN')]), ('where', 'WRB'), ('all', 'DT'), ('teams', 'NNS'), ('compete', 'VBP'), ('religously', 'RB'), ('and', 'CC'), ('they', 'PRP'), ('showcase', 'VBP'), ('beautiful', 'JJ'), ('talent', 'NN')])"
      ]
     },
     "execution_count": 103,
     "metadata": {},
     "output_type": "execute_result"
    }
   ],
   "source": [
    "strinp = \"2018 FIFA World CUP is an international tournament where all teams compete religously and they showcase beautiful talent\"\n",
    "ChunkingVer1(strinp)"
   ]
  },
  {
   "cell_type": "code",
   "execution_count": 104,
   "metadata": {},
   "outputs": [
    {
     "data": {
      "image/png": "[encoded data removed]",
      "text/plain": [
       "Tree('S', [('2018', 'CD'), ('FIFA', 'NNP'), ('World', 'NNP'), ('CUP', 'NNP'), ('is', 'VBZ'), Tree('NP', [('an', 'DT'), ('international', 'JJ'), ('tournament', 'NN')]), ('where', 'WRB'), ('all', 'DT'), ('teams', 'NNS'), ('compete', 'VBP'), ('religously', 'RB'), ('and', 'CC'), ('they', 'PRP'), ('showcase', 'VBP'), ('beautiful', 'JJ'), ('talent', 'NN')])"
      ]
     },
     "execution_count": 104,
     "metadata": {},
     "output_type": "execute_result"
    }
   ],
   "source": [
    "ChunkingVer2(strinp)"
   ]
  },
  {
   "cell_type": "code",
   "execution_count": 105,
   "metadata": {},
   "outputs": [
    {
     "data": {
      "image/png": "[encoded data removed]",
      "text/plain": [
       "Tree('S', [('2018', 'CD'), ('FIFA', 'NNP'), ('World', 'NNP'), ('CUP', 'NNP'), ('is', 'VBZ'), Tree('NP', [('an', 'DT'), ('international', 'JJ'), ('tournament', 'NN')]), ('where', 'WRB'), ('all', 'DT'), ('teams', 'NNS'), ('compete', 'VBP'), ('religously', 'RB'), ('and', 'CC'), ('they', 'PRP'), ('showcase', 'VBP'), ('beautiful', 'JJ'), ('talent', 'NN')])"
      ]
     },
     "execution_count": 105,
     "metadata": {},
     "output_type": "execute_result"
    }
   ],
   "source": [
    "ChunkingVer3(strinp)"
   ]
  },
  {
   "cell_type": "code",
   "execution_count": 106,
   "metadata": {},
   "outputs": [
    {
     "data": {
      "image/png": "[encoded data removed]",
      "text/plain": [
       "Tree('S', [('2018', 'CD'), ('FIFA', 'NNP'), ('World', 'NNP'), ('CUP', 'NNP'), ('is', 'VBZ'), ('an', 'DT'), Tree('NP', [('international', 'JJ'), ('tournament', 'NN'), ('where', 'WRB'), ('all', 'DT'), ('teams', 'NNS'), ('compete', 'VBP'), ('religously', 'RB'), ('and', 'CC'), ('they', 'PRP'), ('showcase', 'VBP'), ('beautiful', 'JJ'), ('talent', 'NN')])])"
      ]
     },
     "execution_count": 106,
     "metadata": {},
     "output_type": "execute_result"
    }
   ],
   "source": [
    "ChunkingVer4(strinp)"
   ]
  },
  {
   "cell_type": "code",
   "execution_count": 107,
   "metadata": {},
   "outputs": [
    {
     "data": {
      "image/png": "[encoded data removed]",
      "text/plain": [
       "Tree('S', [('2018', 'CD'), ('FIFA', 'NNP'), ('World', 'NNP'), ('CUP', 'NNP'), ('is', 'VBZ'), Tree('NP', [('an', 'DT'), ('international', 'JJ'), ('tournament', 'NN')]), ('where', 'WRB'), ('all', 'DT'), ('teams', 'NNS'), ('compete', 'VBP'), ('religously', 'RB'), ('and', 'CC'), ('they', 'PRP'), ('showcase', 'VBP'), ('beautiful', 'JJ'), ('talent', 'NN')])"
      ]
     },
     "execution_count": 107,
     "metadata": {},
     "output_type": "execute_result"
    }
   ],
   "source": [
    "ChunkingVer5(strinp)"
   ]
  },
  {
   "cell_type": "code",
   "execution_count": 108,
   "metadata": {},
   "outputs": [
    {
     "data": {
      "image/png": "[encoded data removed]",
      "text/plain": [
       "Tree('S', [('2018', 'CD'), Tree('NP', [('FIFA', 'NNP')]), Tree('NP', [('World', 'NNP')]), Tree('NP', [('CUP', 'NNP')]), ('is', 'VBZ'), ('an', 'DT'), Tree('NP', [('international', 'JJ'), ('tournament', 'NN')]), ('where', 'WRB'), ('all', 'DT'), Tree('NP', [('teams', 'NNS')]), ('compete', 'VBP'), ('religously', 'RB'), ('and', 'CC'), ('they', 'PRP'), ('showcase', 'VBP'), Tree('NP', [('beautiful', 'JJ'), ('talent', 'NN')])])"
      ]
     },
     "execution_count": 108,
     "metadata": {},
     "output_type": "execute_result"
    }
   ],
   "source": [
    "ChunkingVer6(strinp)"
   ]
  },
  {
   "cell_type": "markdown",
   "metadata": {},
   "source": [
    "5. Make a context free grammar having the following rules:\n",
    "a. Noun Phrases are followed by Verb Phrases\n",
    "b. Verb Phrase can have\n",
    "i. Verb and noun phrase\n",
    "ii. Verb, noun phrase and a preposition phrase\n",
    "c. Noun Phrases can have\n",
    "i. Delimiters followed by noun\n",
    "d. Preposition phrase have a preposition followed by a noun phrase\n",
    "The delimiters, verbs, prepositions and nouns for the grammar should be the 2 most frequent words of each type from “FIFAWorldCup2018.txt”.\n",
    "\n",
    "Generate the CFG for “FIFAWorldCup2018.txt” file and save them in a file named “CFG.txt”"
   ]
  },
  {
   "cell_type": "code",
   "execution_count": 131,
   "metadata": {},
   "outputs": [],
   "source": [
    "def cfg_parse(sentence):\n",
    "    word_tk = nltk.pos_tag(word_tokenize(sentence))\n",
    "    for word in word_tk:\n",
    "        if word[1] == 'NNP':\n",
    "            s_NP = \"\\'\"+word[0]+\"\\'\"\n",
    "        if word[1] == 'VBD' or word[1] == 'VBN':\n",
    "            s_V = \"\\'\"+word[0]+\"\\'\"\n",
    "        if word[1] == 'NN':\n",
    "            s_N = \"\\'\"+word[0]+\"\\'\"\n",
    "        else:\n",
    "            pass\n",
    "    print(s_NP,s_V,s_N)\n",
    "    CFG_grammar = nltk.CFG.fromstring(\"\"\"\n",
    "    S -> NP VP\n",
    "    VP -> V N\n",
    "    NP -> {}\n",
    "    V -> {}\n",
    "    N -> {}\n",
    "    \n",
    "    \"\"\".format(s_NP,s_V,s_N))\n",
    "    \n",
    "    print(CFG_grammar)"
   ]
  },
  {
   "cell_type": "code",
   "execution_count": null,
   "metadata": {},
   "outputs": [],
   "source": []
  },
  {
   "cell_type": "code",
   "execution_count": null,
   "metadata": {},
   "outputs": [],
   "source": []
  }
 ],
 "metadata": {
  "kernelspec": {
   "display_name": "Python 3",
   "language": "python",
   "name": "python3"
  },
  "language_info": {
   "codemirror_mode": {
    "name": "ipython",
    "version": 3
   },
   "file_extension": ".py",
   "mimetype": "text/x-python",
   "name": "python",
   "nbconvert_exporter": "python",
   "pygments_lexer": "ipython3",
   "version": "3.7.1"
  }
 },
 "nbformat": 4,
 "nbformat_minor": 2
}
