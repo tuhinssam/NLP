{
 "cells": [
  {
   "cell_type": "code",
   "execution_count": 1,
   "metadata": {
    "collapsed": true
   },
   "outputs": [],
   "source": [
    "import os\n",
    "pathtogs='C:\\\\Program Files\\\\gs\\\\gs9.24\\\\bin'\n",
    "os.environ['PATH']+=os.pathsep+pathtogs"
   ]
  },
  {
   "cell_type": "raw",
   "metadata": {},
   "source": [
    "ABC Company wants to perform some text analysis and make visualization for one of their dataset.\n",
    "The dataset has been taken from Kaggle. (https://www.kaggle.com/crowdflower/twitter-airline-sentiment/home)\n",
    "This is a dataset having tweets about 6 US Airlines along with their sentiments: positive, negative and neutral.\n",
    "\n",
    "You are provided with this dataset named “Tweets.csv”. \n"
   ]
  },
  {
   "cell_type": "markdown",
   "metadata": {},
   "source": [
    "### Question 1"
   ]
  },
  {
   "cell_type": "raw",
   "metadata": {},
   "source": [
    "1.\tRetrieve all tags starting from ‘@’ in the entire dataset and save in a file called \n",
    "“References.txt”"
   ]
  },
  {
   "cell_type": "code",
   "execution_count": 2,
   "metadata": {
    "collapsed": true
   },
   "outputs": [],
   "source": [
    "#Read the dataset\n",
    "import pandas as pd\n",
    "df=pd.read_csv('Tweets.csv')\n",
    "df=df[['text','airline_sentiment']]"
   ]
  },
  {
   "cell_type": "code",
   "execution_count": 3,
   "metadata": {},
   "outputs": [],
   "source": [
    "import re\n",
    "r = re.compile(r\"([@])(\\w+)\\b\")\n",
    "\n",
    "AllReferences=map(lambda x: r.findall(x),df['text'])\n",
    "\n",
    "import itertools\n",
    "AllUniqueReferencesCombined=set(list(itertools.chain.from_iterable(AllReferences)))\n",
    "\n",
    "References=map(lambda x:x[0]+x[1],AllUniqueReferencesCombined)\n",
    "\n",
    "file=open(\"References.txt\",'a')\n",
    "for each in References:\n",
    "    file.write(each+\"\\n\")\n",
    "file.close()"
   ]
  },
  {
   "cell_type": "markdown",
   "metadata": {},
   "source": [
    "### Question 2"
   ]
  },
  {
   "cell_type": "raw",
   "metadata": {},
   "source": [
    "Extract all noun phrases from their dataset and save them in different lines in a file named “Noun Phrases for <airline_sentiment> Review .txt” (You can choose your own grammar for noun phrase).\n",
    "Here <airline_sentiment> will have 3 different values: positive, negative and neutral so 3 files will be created.\n"
   ]
  },
  {
   "cell_type": "code",
   "execution_count": 7,
   "metadata": {},
   "outputs": [],
   "source": [
    "import nltk\n",
    "def GetNounPhrases(s):\n",
    "    try:\n",
    "        sentences = nltk.sent_tokenize(s)\n",
    "        sentences = [nltk.word_tokenize(sent) for sent in sentences]\n",
    "        sentences = [nltk.pos_tag(sent) for sent in sentences]\n",
    "    except:\n",
    "        return []\n",
    "\n",
    "    else:\n",
    "        \n",
    "        grammar=r\"NP:{<DT><NN|NNS|NNP|NNPS>*<NN|NNS|NNP|NNPS>}\"\n",
    "\n",
    "        cp = nltk.RegexpParser(grammar)\n",
    "\n",
    "\n",
    "        noun_phrases_list = [[' '.join(leaf[0] for leaf in tree.leaves()) \n",
    "                              for tree in cp.parse(sent).subtrees() \n",
    "                              if tree.label()=='NP'] \n",
    "                              for sent in sentences]\n",
    "        return noun_phrases_list\n",
    "\n",
    "import itertools\n",
    "for group,sub in df.groupby('airline_sentiment'):\n",
    "    noun_phrases=map(lambda x: GetNounPhrases(x),sub['text'])\n",
    "    noun_phrases=list(itertools.chain.from_iterable(noun_phrases))\n",
    "    AllNounPhrases=set(list(itertools.chain.from_iterable(noun_phrases)))\n",
    "    filename=\"Noun Phrases for \"+str(group)+\" Review .txt\"\n",
    "    file=open(filename,'a')\n",
    "    for each in AllNounPhrases:\n",
    "        file.write(each+\"\\n\")\n",
    "    file.close()    "
   ]
  },
  {
   "cell_type": "markdown",
   "metadata": {},
   "source": [
    "# Question 3"
   ]
  },
  {
   "cell_type": "raw",
   "metadata": {},
   "source": [
    "Extract all verb phrases from their dataset and save them in different lines in a file named “Verb Phrases for <airline_sentiment> Review .txt”” (You can choose your own grammar for noun phrase).\n",
    "Here <airline_sentiment> will have 3 different values: positive , negative and neutral so 3 files will be created.\n"
   ]
  },
  {
   "cell_type": "code",
   "execution_count": 8,
   "metadata": {
    "collapsed": true
   },
   "outputs": [],
   "source": [
    "import nltk\n",
    "def GetVerbPhrases(s):\n",
    "    try:\n",
    "        sentences = nltk.sent_tokenize(s)\n",
    "        sentences = [nltk.word_tokenize(sent) for sent in sentences]\n",
    "        sentences = [nltk.pos_tag(sent) for sent in sentences]\n",
    "    except:\n",
    "        return []\n",
    "\n",
    "    else:\n",
    "        \n",
    "        grammar=r\"VP:{<VB|VBD|VBG|VBZ|VBP|VBN>*<VB|VBD|VBG|VBZ|VBP|VBN><RB|RBR>*<RB|RBR>}\"\n",
    "\n",
    "        cp = nltk.RegexpParser(grammar)\n",
    "\n",
    "\n",
    "        noun_phrases_list = [[' '.join(leaf[0] for leaf in tree.leaves()) \n",
    "                              for tree in cp.parse(sent).subtrees() \n",
    "                              if tree.label()=='VP'] \n",
    "                              for sent in sentences]\n",
    "        return noun_phrases_list\n",
    "    \n",
    "import itertools\n",
    "for group,sub in df.groupby('airline_sentiment'):\n",
    "    verb_phrases=map(lambda x: GetVerbPhrases(x),sub['text'])\n",
    "    verb_phrases=list(itertools.chain.from_iterable(verb_phrases))\n",
    "    AllVerbPhrases=set(list(itertools.chain.from_iterable(verb_phrases)))\n",
    "    filename=\"Verb Phrases for \"+str(group)+\" Review .txt\"\n",
    "    file=open(filename,'a')\n",
    "    for each in AllVerbPhrases:\n",
    "        file.write(each+\"\\n\")\n",
    "    file.close()    "
   ]
  },
  {
   "cell_type": "markdown",
   "metadata": {},
   "source": [
    "# Question 4"
   ]
  },
  {
   "cell_type": "raw",
   "metadata": {},
   "source": [
    "For each sentiment, make a well labelled pie chart showing distribution of Noun Phrases and Verb Phrases of that sentiment from the data set. Use the above created files to get the frequencies."
   ]
  },
  {
   "cell_type": "code",
   "execution_count": 13,
   "metadata": {},
   "outputs": [
    {
     "data": {
      "image/png": "[encoded data removed]",
      "text/plain": [
       "<matplotlib.figure.Figure at 0x10cb0e10>"
      ]
     },
     "metadata": {},
     "output_type": "display_data"
    },
    {
     "data": {
      "image/png": "[encoded data removed]",
      "text/plain": [
       "<matplotlib.figure.Figure at 0x10ec0128>"
      ]
     },
     "metadata": {},
     "output_type": "display_data"
    },
    {
     "data": {
      "image/png": "[encoded data removed]",
      "text/plain": [
       "<matplotlib.figure.Figure at 0x10dab400>"
      ]
     },
     "metadata": {},
     "output_type": "display_data"
    }
   ],
   "source": [
    "#Plotting a pie chart\n",
    "def PlotPieChart(sentiment):\n",
    "    noun_phrase_file=\"Noun Phrases for \"+str(sentiment)+\" Review .txt\"\n",
    "    verb_phrase_file=\"Verb Phrases for \"+str(sentiment)+\" Review .txt\"\n",
    "    noun_phrase_count=len(noun_phrase_file.split(\"\\n\"))\n",
    "    verb_phrase_count=len(verb_phrase_file.split(\"\\n\"))\n",
    "    counts=[noun_phrase_count,verb_phrase_count]\n",
    "    labels=['Noun Phrases','Verb Phrases']\n",
    "\n",
    "    import matplotlib.pyplot as plt\n",
    "    plt.figure(figsize=(5,5))\n",
    "    plt.pie(counts,labels=labels)\n",
    "    plt.title(\"Phrases Distribution for \"+str(sentiment)+\" Review.\")\n",
    "    plt.show()\n",
    "\n",
    "for each in df['airline_sentiment'].unique():\n",
    "    PlotPieChart(each)"
   ]
  }
 ],
 "metadata": {
  "kernelspec": {
   "display_name": "Python 3",
   "language": "python",
   "name": "python3"
  },
  "language_info": {
   "codemirror_mode": {
    "name": "ipython",
    "version": 3
   },
   "file_extension": ".py",
   "mimetype": "text/x-python",
   "name": "python",
   "nbconvert_exporter": "python",
   "pygments_lexer": "ipython3",
   "version": "3.7.1"
  }
 },
 "nbformat": 4,
 "nbformat_minor": 2
}
