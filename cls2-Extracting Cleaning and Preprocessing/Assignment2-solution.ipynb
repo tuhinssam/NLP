{
 "cells": [
  {
   "cell_type": "markdown",
   "metadata": {},
   "source": [
    "Case Study\n",
    "You are provided with a file named “Brexit.docx”. This file contains the introductory paragraph from Wikipedia on Brexit. (https://en.wikipedia.org/wiki/Brexit)\n",
    "You have to perform some analysis on this paragraph by performing the following tasks:\n",
    "    \n",
    "1. Read the file “Brexit.docx” and write a function in Python named “GetNGrams” which takes a string and a number ‘n’ as input and returns n-grams from the string.\n",
    "Example:\n",
    "String: “John met with an accident”\n",
    "Output:\n",
    "When n=2 => [(John, met), (met, with), (with, an), (an, accident)]\n",
    "When n=3 => [(John, met, with), (met, with, an), (with, an, accident)]\n",
    "When n=4 => [(John, met, with, an), (met, with, an, accident)]\n",
    "\n",
    "2. Read the file “Brexit.docx” and write python functions which take a string as an input and returns:\n",
    "• Number of Nouns (all forms of noun). Take function name as “NounsCount”\n",
    "• Number of Pronouns (all forms). Take function name as “PronounsCount”\n",
    "• Number of Adjectives (all forms). Take function name as “AdjectivesCount”\n",
    "• Number of Verbs (all forms). Take function name as “VerbsCount”\n",
    "• Number of Adverbs (all forms). Take function name as “AdverbsCount”\n",
    "Plot a pie chart showing the distribution of nouns, pronouns, verbs, adverbs and adjectives.\n",
    "\n",
    "3. Read the file “Brexit.docx” and write python functions which take a string as an input and returns:\n",
    "• Number of geo-Political entities present in the file. Take function name as “GeoPoliticalCount”\n",
    "• Number of Persons present in the file. Take function name as “PersonsCount”\n",
    "• Numbers of Organizations mentioned in the file. Take function name as “OrganizationsCount”\n",
    "\n",
    "4. Answer the following questions:\n",
    "• Most frequent bi-gram from the data\n",
    "• Most frequent Noun\n",
    "• Most frequent GeoPolitical Entity\n",
    "• Most frequent person"
   ]
  },
  {
   "cell_type": "code",
   "execution_count": 11,
   "metadata": {},
   "outputs": [],
   "source": [
    "from nltk.tokenize import word_tokenize\n",
    "from nltk.util import ngrams\n",
    "import matplotlib.pyplot as plt\n",
    "import seaborn as sns"
   ]
  },
  {
   "cell_type": "code",
   "execution_count": 12,
   "metadata": {},
   "outputs": [],
   "source": [
    "import docx"
   ]
  },
  {
   "cell_type": "code",
   "execution_count": 13,
   "metadata": {},
   "outputs": [
    {
     "data": {
      "text/plain": [
       "7"
      ]
     },
     "execution_count": 13,
     "metadata": {},
     "output_type": "execute_result"
    }
   ],
   "source": [
    "doc = docx.Document(\"698_m2_datasets_v1.0\\Brexit.docx\")\n",
    "len(doc.paragraphs)"
   ]
  },
  {
   "cell_type": "code",
   "execution_count": 14,
   "metadata": {},
   "outputs": [
    {
     "data": {
      "text/plain": [
       "'Brexit\\xa0is the impending\\xa0\\xa0of the\\xa0\\xa0(UK) from the\\xa0\\xa0(EU). In a\\xa0, a majority of British voters supported leaving the EU. On 29 March 2017, the\\xa0 invoked\\xa0. The\\xa0\\xa0declares \"exit day\" to be 29 March 2019 at 11\\xa0p.m.\\xa0().'"
      ]
     },
     "execution_count": 14,
     "metadata": {},
     "output_type": "execute_result"
    }
   ],
   "source": [
    "doc.paragraphs[0].text"
   ]
  },
  {
   "cell_type": "code",
   "execution_count": 19,
   "metadata": {},
   "outputs": [],
   "source": [
    "def GetNGrams(inputstr, n):\n",
    "    word_tokens = word_tokenize(inputstr)\n",
    "    ngram_tokens = ngrams(word_tokens, n)\n",
    "    return list(ngram_tokens)"
   ]
  },
  {
   "cell_type": "code",
   "execution_count": 22,
   "metadata": {},
   "outputs": [
    {
     "data": {
      "text/plain": [
       "[('John', 'met'), ('met', 'with'), ('with', 'an'), ('an', 'accident')]"
      ]
     },
     "execution_count": 22,
     "metadata": {},
     "output_type": "execute_result"
    }
   ],
   "source": [
    "GetNGrams(\"John met with an accident\", 2)"
   ]
  },
  {
   "cell_type": "code",
   "execution_count": 23,
   "metadata": {},
   "outputs": [
    {
     "data": {
      "text/plain": [
       "[('John', 'met', 'with'), ('met', 'with', 'an'), ('with', 'an', 'accident')]"
      ]
     },
     "execution_count": 23,
     "metadata": {},
     "output_type": "execute_result"
    }
   ],
   "source": [
    "GetNGrams(\"John met with an accident\", 3)"
   ]
  },
  {
   "cell_type": "code",
   "execution_count": 24,
   "metadata": {},
   "outputs": [
    {
     "data": {
      "text/plain": [
       "[('John', 'met', 'with', 'an'), ('met', 'with', 'an', 'accident')]"
      ]
     },
     "execution_count": 24,
     "metadata": {},
     "output_type": "execute_result"
    }
   ],
   "source": [
    "GetNGrams(\"John met with an accident\", 4)"
   ]
  },
  {
   "cell_type": "markdown",
   "metadata": {},
   "source": [
    "2. Read the file “Brexit.docx” and write python functions which take a string as an input and returns:\n",
    "• Number of Nouns (all forms of noun). Take function name as “NounsCount”\n",
    "• Number of Pronouns (all forms). Take function name as “PronounsCount”\n",
    "• Number of Adjectives (all forms). Take function name as “AdjectivesCount”\n",
    "• Number of Verbs (all forms). Take function name as “VerbsCount”\n",
    "• Number of Adverbs (all forms). Take function name as “AdverbsCount”\n",
    "Plot a pie chart showing the distribution of nouns, pronouns, verbs, adverbs and adjectives."
   ]
  },
  {
   "cell_type": "code",
   "execution_count": 26,
   "metadata": {},
   "outputs": [
    {
     "data": {
      "text/plain": [
       "'Brexit\\xa0is the impending\\xa0\\xa0of the\\xa0\\xa0(UK) from the\\xa0\\xa0(EU). In a\\xa0, a majority of British voters supported leaving the EU. On 29 March 2017, the\\xa0 invoked\\xa0. The\\xa0\\xa0declares \"exit day\" to be 29 March 2019 at 11\\xa0p.m.\\xa0().'"
      ]
     },
     "execution_count": 26,
     "metadata": {},
     "output_type": "execute_result"
    }
   ],
   "source": [
    "doc.paragraphs[0].text"
   ]
  },
  {
   "cell_type": "code",
   "execution_count": 31,
   "metadata": {},
   "outputs": [
    {
     "data": {
      "text/plain": [
       "'Brexit\\xa0is the impending\\xa0\\xa0of the\\xa0\\xa0(UK) from the\\xa0\\xa0(EU). In a\\xa0, a majority of British voters supported leaving the EU. On 29 March 2017, the\\xa0 invoked\\xa0. The\\xa0\\xa0declares \"exit day\" to be 29 March 2019 at 11\\xa0p.m.\\xa0().Prime Minister\\xa0\\xa0announced the government\\'s intention not to seek permanent membership of the\\xa0\\xa0or the\\xa0\\xa0after leaving the EU and promised to\\xa0\\xa0the\\xa0\\xa0and incorporate existing\\xa0\\xa0into\\xa0.\\xa0A new government department, the\\xa0, was created in July 2016.\\xa0officially started in June 2017, aiming to complete the withdrawal agreement by October 2018. In June 2018, the UK and the EU published a joint progress report outlining agreement on issues including\\xa0,\\xa0\\xa0and\\xa0Euratom.The UK joined the\\xa0\\xa0(EC) in 1973, with membership confirmed by a\\xa0. In the 1970s and 1980s, withdrawal from the EC was advocated mainly by\\xa0Labour Party\\xa0members and\\xa0\\xa0figures. From the 1990s, the main advocates of withdrawal were the newly founded\\xa0\\xa0(UKIP) and an increasing number of Eurosceptic\\xa0\\xa0members. Prime Minister\\xa0\\xa0held the referendum in fulfilment of a 2015 manifesto pledge. Cameron, who had campaigned for \"Remain\", resigned after the referendum result and was succeeded by Theresa May, who called a\\xa0\\xa0less than a year later, in which she lost her overall majority. Her minority government is\\xa0\\xa0by the\\xa0.Six weeks after the referendum, the Bank of England introduced\\xa0\\xa0and lower interest rates, thus allowing both\\xa0\\xa0of\\xa0\\xa0and a rise in inflation that outpaced wage growth for most of 2017. The drop in the value of sterling has been claimed to have been caused in part by hedge-fund managers betting on Brexit against polls predicting a narrow victory for the \"Remain\" camp. There is a broad consensus in existing economic research that Brexit is likely to reduce the UK\\'s real\\xa0\\xa0in the medium term and long term. There is also agreement among economists that the Brexit referendum itself damaged the economy in the subsequent two years. Studies on effects that have materialised since the referendum show annual losses of £404 for the average UK household, and losses between 1.3% and 2.1% of UK GDP.\\xa0Brexit is likely to reduce immigration from\\xa0\\xa0(EEA) countries to the UK,\\xa0and poses challenges for UK higher education and academic research.\\xa0As of June 2018, the size of the \"\", the UK\\'s inheritance of existing EU trade agreements, and\\xa0\\xa0and other EU member states remain uncertain. The precise impact on the UK depends on whether the process will be a\\xa0.'"
      ]
     },
     "execution_count": 31,
     "metadata": {},
     "output_type": "execute_result"
    }
   ],
   "source": [
    "strval = \"\"\n",
    "for para in doc.paragraphs:\n",
    "    strval = strval + para.text\n",
    "strval   "
   ]
  },
  {
   "cell_type": "code",
   "execution_count": 75,
   "metadata": {},
   "outputs": [
    {
     "data": {
      "text/plain": [
       "['Brexit',\n",
       " 'is',\n",
       " 'the',\n",
       " 'impending',\n",
       " 'of',\n",
       " 'the',\n",
       " '(',\n",
       " 'UK',\n",
       " ')',\n",
       " 'from',\n",
       " 'the',\n",
       " '(',\n",
       " 'EU',\n",
       " ')',\n",
       " '.',\n",
       " 'In',\n",
       " 'a',\n",
       " ',',\n",
       " 'a',\n",
       " 'majority',\n",
       " 'of',\n",
       " 'British',\n",
       " 'voters',\n",
       " 'supported',\n",
       " 'leaving',\n",
       " 'the',\n",
       " 'EU',\n",
       " '.',\n",
       " 'On',\n",
       " '29',\n",
       " 'March',\n",
       " '2017',\n",
       " ',',\n",
       " 'the',\n",
       " 'invoked',\n",
       " '.',\n",
       " 'The',\n",
       " 'declares',\n",
       " '``',\n",
       " 'exit',\n",
       " 'day',\n",
       " \"''\",\n",
       " 'to',\n",
       " 'be',\n",
       " '29',\n",
       " 'March',\n",
       " '2019',\n",
       " 'at',\n",
       " '11',\n",
       " 'p.m.',\n",
       " '(',\n",
       " ')',\n",
       " '.Prime',\n",
       " 'Minister',\n",
       " 'announced',\n",
       " 'the',\n",
       " 'government',\n",
       " \"'s\",\n",
       " 'intention',\n",
       " 'not',\n",
       " 'to',\n",
       " 'seek',\n",
       " 'permanent',\n",
       " 'membership',\n",
       " 'of',\n",
       " 'the',\n",
       " 'or',\n",
       " 'the',\n",
       " 'after',\n",
       " 'leaving',\n",
       " 'the',\n",
       " 'EU',\n",
       " 'and',\n",
       " 'promised',\n",
       " 'to',\n",
       " 'the',\n",
       " 'and',\n",
       " 'incorporate',\n",
       " 'existing',\n",
       " 'into',\n",
       " '.',\n",
       " 'A',\n",
       " 'new',\n",
       " 'government',\n",
       " 'department',\n",
       " ',',\n",
       " 'the',\n",
       " ',',\n",
       " 'was',\n",
       " 'created',\n",
       " 'in',\n",
       " 'July',\n",
       " '2016.',\n",
       " 'officially',\n",
       " 'started',\n",
       " 'in',\n",
       " 'June',\n",
       " '2017',\n",
       " ',',\n",
       " 'aiming',\n",
       " 'to',\n",
       " 'complete',\n",
       " 'the',\n",
       " 'withdrawal',\n",
       " 'agreement',\n",
       " 'by',\n",
       " 'October',\n",
       " '2018',\n",
       " '.',\n",
       " 'In',\n",
       " 'June',\n",
       " '2018',\n",
       " ',',\n",
       " 'the',\n",
       " 'UK',\n",
       " 'and',\n",
       " 'the',\n",
       " 'EU',\n",
       " 'published',\n",
       " 'a',\n",
       " 'joint',\n",
       " 'progress',\n",
       " 'report',\n",
       " 'outlining',\n",
       " 'agreement',\n",
       " 'on',\n",
       " 'issues',\n",
       " 'including',\n",
       " ',',\n",
       " 'and',\n",
       " 'Euratom.The',\n",
       " 'UK',\n",
       " 'joined',\n",
       " 'the',\n",
       " '(',\n",
       " 'EC',\n",
       " ')',\n",
       " 'in',\n",
       " '1973',\n",
       " ',',\n",
       " 'with',\n",
       " 'membership',\n",
       " 'confirmed',\n",
       " 'by',\n",
       " 'a',\n",
       " '.',\n",
       " 'In',\n",
       " 'the',\n",
       " '1970s',\n",
       " 'and',\n",
       " '1980s',\n",
       " ',',\n",
       " 'withdrawal',\n",
       " 'from',\n",
       " 'the',\n",
       " 'EC',\n",
       " 'was',\n",
       " 'advocated',\n",
       " 'mainly',\n",
       " 'by',\n",
       " 'Labour',\n",
       " 'Party',\n",
       " 'members',\n",
       " 'and',\n",
       " 'figures',\n",
       " '.',\n",
       " 'From',\n",
       " 'the',\n",
       " '1990s',\n",
       " ',',\n",
       " 'the',\n",
       " 'main',\n",
       " 'advocates',\n",
       " 'of',\n",
       " 'withdrawal',\n",
       " 'were',\n",
       " 'the',\n",
       " 'newly',\n",
       " 'founded',\n",
       " '(',\n",
       " 'UKIP',\n",
       " ')',\n",
       " 'and',\n",
       " 'an',\n",
       " 'increasing',\n",
       " 'number',\n",
       " 'of',\n",
       " 'Eurosceptic',\n",
       " 'members',\n",
       " '.',\n",
       " 'Prime',\n",
       " 'Minister',\n",
       " 'held',\n",
       " 'the',\n",
       " 'referendum',\n",
       " 'in',\n",
       " 'fulfilment',\n",
       " 'of',\n",
       " 'a',\n",
       " '2015',\n",
       " 'manifesto',\n",
       " 'pledge',\n",
       " '.',\n",
       " 'Cameron',\n",
       " ',',\n",
       " 'who',\n",
       " 'had',\n",
       " 'campaigned',\n",
       " 'for',\n",
       " '``',\n",
       " 'Remain',\n",
       " \"''\",\n",
       " ',',\n",
       " 'resigned',\n",
       " 'after',\n",
       " 'the',\n",
       " 'referendum',\n",
       " 'result',\n",
       " 'and',\n",
       " 'was',\n",
       " 'succeeded',\n",
       " 'by',\n",
       " 'Theresa',\n",
       " 'May',\n",
       " ',',\n",
       " 'who',\n",
       " 'called',\n",
       " 'a',\n",
       " 'less',\n",
       " 'than',\n",
       " 'a',\n",
       " 'year',\n",
       " 'later',\n",
       " ',',\n",
       " 'in',\n",
       " 'which',\n",
       " 'she',\n",
       " 'lost',\n",
       " 'her',\n",
       " 'overall',\n",
       " 'majority',\n",
       " '.',\n",
       " 'Her',\n",
       " 'minority',\n",
       " 'government',\n",
       " 'is',\n",
       " 'by',\n",
       " 'the',\n",
       " '.Six',\n",
       " 'weeks',\n",
       " 'after',\n",
       " 'the',\n",
       " 'referendum',\n",
       " ',',\n",
       " 'the',\n",
       " 'Bank',\n",
       " 'of',\n",
       " 'England',\n",
       " 'introduced',\n",
       " 'and',\n",
       " 'lower',\n",
       " 'interest',\n",
       " 'rates',\n",
       " ',',\n",
       " 'thus',\n",
       " 'allowing',\n",
       " 'both',\n",
       " 'of',\n",
       " 'and',\n",
       " 'a',\n",
       " 'rise',\n",
       " 'in',\n",
       " 'inflation',\n",
       " 'that',\n",
       " 'outpaced',\n",
       " 'wage',\n",
       " 'growth',\n",
       " 'for',\n",
       " 'most',\n",
       " 'of',\n",
       " '2017',\n",
       " '.',\n",
       " 'The',\n",
       " 'drop',\n",
       " 'in',\n",
       " 'the',\n",
       " 'value',\n",
       " 'of',\n",
       " 'sterling',\n",
       " 'has',\n",
       " 'been',\n",
       " 'claimed',\n",
       " 'to',\n",
       " 'have',\n",
       " 'been',\n",
       " 'caused',\n",
       " 'in',\n",
       " 'part',\n",
       " 'by',\n",
       " 'hedge-fund',\n",
       " 'managers',\n",
       " 'betting',\n",
       " 'on',\n",
       " 'Brexit',\n",
       " 'against',\n",
       " 'polls',\n",
       " 'predicting',\n",
       " 'a',\n",
       " 'narrow',\n",
       " 'victory',\n",
       " 'for',\n",
       " 'the',\n",
       " '``',\n",
       " 'Remain',\n",
       " \"''\",\n",
       " 'camp',\n",
       " '.',\n",
       " 'There',\n",
       " 'is',\n",
       " 'a',\n",
       " 'broad',\n",
       " 'consensus',\n",
       " 'in',\n",
       " 'existing',\n",
       " 'economic',\n",
       " 'research',\n",
       " 'that',\n",
       " 'Brexit',\n",
       " 'is',\n",
       " 'likely',\n",
       " 'to',\n",
       " 'reduce',\n",
       " 'the',\n",
       " 'UK',\n",
       " \"'s\",\n",
       " 'real',\n",
       " 'in',\n",
       " 'the',\n",
       " 'medium',\n",
       " 'term',\n",
       " 'and',\n",
       " 'long',\n",
       " 'term',\n",
       " '.',\n",
       " 'There',\n",
       " 'is',\n",
       " 'also',\n",
       " 'agreement',\n",
       " 'among',\n",
       " 'economists',\n",
       " 'that',\n",
       " 'the',\n",
       " 'Brexit',\n",
       " 'referendum',\n",
       " 'itself',\n",
       " 'damaged',\n",
       " 'the',\n",
       " 'economy',\n",
       " 'in',\n",
       " 'the',\n",
       " 'subsequent',\n",
       " 'two',\n",
       " 'years',\n",
       " '.',\n",
       " 'Studies',\n",
       " 'on',\n",
       " 'effects',\n",
       " 'that',\n",
       " 'have',\n",
       " 'materialised',\n",
       " 'since',\n",
       " 'the',\n",
       " 'referendum',\n",
       " 'show',\n",
       " 'annual',\n",
       " 'losses',\n",
       " 'of',\n",
       " '£404',\n",
       " 'for',\n",
       " 'the',\n",
       " 'average',\n",
       " 'UK',\n",
       " 'household',\n",
       " ',',\n",
       " 'and',\n",
       " 'losses',\n",
       " 'between',\n",
       " '1.3',\n",
       " '%',\n",
       " 'and',\n",
       " '2.1',\n",
       " '%',\n",
       " 'of',\n",
       " 'UK',\n",
       " 'GDP',\n",
       " '.',\n",
       " 'Brexit',\n",
       " 'is',\n",
       " 'likely',\n",
       " 'to',\n",
       " 'reduce',\n",
       " 'immigration',\n",
       " 'from',\n",
       " '(',\n",
       " 'EEA',\n",
       " ')',\n",
       " 'countries',\n",
       " 'to',\n",
       " 'the',\n",
       " 'UK',\n",
       " ',',\n",
       " 'and',\n",
       " 'poses',\n",
       " 'challenges',\n",
       " 'for',\n",
       " 'UK',\n",
       " 'higher',\n",
       " 'education',\n",
       " 'and',\n",
       " 'academic',\n",
       " 'research',\n",
       " '.',\n",
       " 'As',\n",
       " 'of',\n",
       " 'June',\n",
       " '2018',\n",
       " ',',\n",
       " 'the',\n",
       " 'size',\n",
       " 'of',\n",
       " 'the',\n",
       " '``',\n",
       " \"''\",\n",
       " ',',\n",
       " 'the',\n",
       " 'UK',\n",
       " \"'s\",\n",
       " 'inheritance',\n",
       " 'of',\n",
       " 'existing',\n",
       " 'EU',\n",
       " 'trade',\n",
       " 'agreements',\n",
       " ',',\n",
       " 'and',\n",
       " 'and',\n",
       " 'other',\n",
       " 'EU',\n",
       " 'member',\n",
       " 'states',\n",
       " 'remain',\n",
       " 'uncertain',\n",
       " '.',\n",
       " 'The',\n",
       " 'precise',\n",
       " 'impact',\n",
       " 'on',\n",
       " 'the',\n",
       " 'UK',\n",
       " 'depends',\n",
       " 'on',\n",
       " 'whether',\n",
       " 'the',\n",
       " 'process',\n",
       " 'will',\n",
       " 'be',\n",
       " 'a',\n",
       " '.']"
      ]
     },
     "execution_count": 75,
     "metadata": {},
     "output_type": "execute_result"
    }
   ],
   "source": [
    "from nltk import pos_tag\n",
    "word_tokens = word_tokenize(strval)\n",
    "word_tokens"
   ]
  },
  {
   "cell_type": "code",
   "execution_count": 80,
   "metadata": {},
   "outputs": [
    {
     "name": "stdout",
     "output_type": "stream",
     "text": [
      "[('Brexit', 'NN'), ('is', 'VBZ'), ('the', 'DT'), ('impending', 'NN'), ('of', 'IN'), ('the', 'DT'), ('(', '('), ('UK', 'NNP'), (')', ')'), ('from', 'IN'), ('the', 'DT'), ('(', '('), ('EU', 'NNP'), (')', ')'), ('.', '.'), ('In', 'IN'), ('a', 'DT'), (',', ','), ('a', 'DT'), ('majority', 'NN'), ('of', 'IN'), ('British', 'JJ'), ('voters', 'NNS'), ('supported', 'VBD'), ('leaving', 'VBG'), ('the', 'DT'), ('EU', 'NNP'), ('.', '.'), ('On', 'IN'), ('29', 'CD'), ('March', 'NNP'), ('2017', 'CD'), (',', ','), ('the', 'DT'), ('invoked', 'NN'), ('.', '.'), ('The', 'DT'), ('declares', 'NNS'), ('``', '``'), ('exit', 'JJ'), ('day', 'NN'), (\"''\", \"''\"), ('to', 'TO'), ('be', 'VB'), ('29', 'CD'), ('March', 'NNP'), ('2019', 'CD'), ('at', 'IN'), ('11', 'CD'), ('p.m.', 'NN'), ('(', '('), (')', ')'), ('.Prime', 'RB'), ('Minister', 'NNP'), ('announced', 'VBD'), ('the', 'DT'), ('government', 'NN'), (\"'s\", 'POS'), ('intention', 'NN'), ('not', 'RB'), ('to', 'TO'), ('seek', 'VB'), ('permanent', 'JJ'), ('membership', 'NN'), ('of', 'IN'), ('the', 'DT'), ('or', 'CC'), ('the', 'DT'), ('after', 'IN'), ('leaving', 'VBG'), ('the', 'DT'), ('EU', 'NNP'), ('and', 'CC'), ('promised', 'VBD'), ('to', 'TO'), ('the', 'DT'), ('and', 'CC'), ('incorporate', 'VB'), ('existing', 'VBG'), ('into', 'IN'), ('.', '.'), ('A', 'DT'), ('new', 'JJ'), ('government', 'NN'), ('department', 'NN'), (',', ','), ('the', 'DT'), (',', ','), ('was', 'VBD'), ('created', 'VBN'), ('in', 'IN'), ('July', 'NNP'), ('2016.', 'CD'), ('officially', 'RB'), ('started', 'VBN'), ('in', 'IN'), ('June', 'NNP'), ('2017', 'CD'), (',', ','), ('aiming', 'VBG'), ('to', 'TO'), ('complete', 'VB'), ('the', 'DT'), ('withdrawal', 'NN'), ('agreement', 'NN'), ('by', 'IN'), ('October', 'NNP'), ('2018', 'CD'), ('.', '.'), ('In', 'IN'), ('June', 'NNP'), ('2018', 'CD'), (',', ','), ('the', 'DT'), ('UK', 'NNP'), ('and', 'CC'), ('the', 'DT'), ('EU', 'NNP'), ('published', 'VBD'), ('a', 'DT'), ('joint', 'JJ'), ('progress', 'NN'), ('report', 'NN'), ('outlining', 'VBG'), ('agreement', 'NN'), ('on', 'IN'), ('issues', 'NNS'), ('including', 'VBG'), (',', ','), ('and', 'CC'), ('Euratom.The', 'NNP'), ('UK', 'NNP'), ('joined', 'VBD'), ('the', 'DT'), ('(', '('), ('EC', 'NNP'), (')', ')'), ('in', 'IN'), ('1973', 'CD'), (',', ','), ('with', 'IN'), ('membership', 'NN'), ('confirmed', 'VBN'), ('by', 'IN'), ('a', 'DT'), ('.', '.'), ('In', 'IN'), ('the', 'DT'), ('1970s', 'CD'), ('and', 'CC'), ('1980s', 'CD'), (',', ','), ('withdrawal', 'NN'), ('from', 'IN'), ('the', 'DT'), ('EC', 'NNP'), ('was', 'VBD'), ('advocated', 'VBN'), ('mainly', 'RB'), ('by', 'IN'), ('Labour', 'NNP'), ('Party', 'NNP'), ('members', 'NNS'), ('and', 'CC'), ('figures', 'NNS'), ('.', '.'), ('From', 'IN'), ('the', 'DT'), ('1990s', 'CD'), (',', ','), ('the', 'DT'), ('main', 'JJ'), ('advocates', 'NNS'), ('of', 'IN'), ('withdrawal', 'NN'), ('were', 'VBD'), ('the', 'DT'), ('newly', 'RB'), ('founded', 'VBN'), ('(', '('), ('UKIP', 'NNP'), (')', ')'), ('and', 'CC'), ('an', 'DT'), ('increasing', 'VBG'), ('number', 'NN'), ('of', 'IN'), ('Eurosceptic', 'JJ'), ('members', 'NNS'), ('.', '.'), ('Prime', 'NNP'), ('Minister', 'NNP'), ('held', 'VBD'), ('the', 'DT'), ('referendum', 'NN'), ('in', 'IN'), ('fulfilment', 'NN'), ('of', 'IN'), ('a', 'DT'), ('2015', 'CD'), ('manifesto', 'NN'), ('pledge', 'NN'), ('.', '.'), ('Cameron', 'NNP'), (',', ','), ('who', 'WP'), ('had', 'VBD'), ('campaigned', 'VBN'), ('for', 'IN'), ('``', '``'), ('Remain', 'NNP'), (\"''\", \"''\"), (',', ','), ('resigned', 'VBD'), ('after', 'IN'), ('the', 'DT'), ('referendum', 'NN'), ('result', 'NN'), ('and', 'CC'), ('was', 'VBD'), ('succeeded', 'VBN'), ('by', 'IN'), ('Theresa', 'NNP'), ('May', 'NNP'), (',', ','), ('who', 'WP'), ('called', 'VBD'), ('a', 'DT'), ('less', 'RBR'), ('than', 'IN'), ('a', 'DT'), ('year', 'NN'), ('later', 'RB'), (',', ','), ('in', 'IN'), ('which', 'WDT'), ('she', 'PRP'), ('lost', 'VBD'), ('her', 'PRP'), ('overall', 'JJ'), ('majority', 'NN'), ('.', '.'), ('Her', 'PRP$'), ('minority', 'NN'), ('government', 'NN'), ('is', 'VBZ'), ('by', 'IN'), ('the', 'DT'), ('.Six', 'NNP'), ('weeks', 'NNS'), ('after', 'IN'), ('the', 'DT'), ('referendum', 'NN'), (',', ','), ('the', 'DT'), ('Bank', 'NNP'), ('of', 'IN'), ('England', 'NNP'), ('introduced', 'VBD'), ('and', 'CC'), ('lower', 'JJR'), ('interest', 'NN'), ('rates', 'NNS'), (',', ','), ('thus', 'RB'), ('allowing', 'VBG'), ('both', 'DT'), ('of', 'IN'), ('and', 'CC'), ('a', 'DT'), ('rise', 'NN'), ('in', 'IN'), ('inflation', 'NN'), ('that', 'IN'), ('outpaced', 'VBD'), ('wage', 'NN'), ('growth', 'NN'), ('for', 'IN'), ('most', 'JJS'), ('of', 'IN'), ('2017', 'CD'), ('.', '.'), ('The', 'DT'), ('drop', 'NN'), ('in', 'IN'), ('the', 'DT'), ('value', 'NN'), ('of', 'IN'), ('sterling', 'NN'), ('has', 'VBZ'), ('been', 'VBN'), ('claimed', 'VBN'), ('to', 'TO'), ('have', 'VB'), ('been', 'VBN'), ('caused', 'VBN'), ('in', 'IN'), ('part', 'NN'), ('by', 'IN'), ('hedge-fund', 'NN'), ('managers', 'NNS'), ('betting', 'VBG'), ('on', 'IN'), ('Brexit', 'NNP'), ('against', 'IN'), ('polls', 'NNS'), ('predicting', 'VBG'), ('a', 'DT'), ('narrow', 'JJ'), ('victory', 'NN'), ('for', 'IN'), ('the', 'DT'), ('``', '``'), ('Remain', 'NNP'), (\"''\", \"''\"), ('camp', 'NN'), ('.', '.'), ('There', 'EX'), ('is', 'VBZ'), ('a', 'DT'), ('broad', 'JJ'), ('consensus', 'NN'), ('in', 'IN'), ('existing', 'VBG'), ('economic', 'JJ'), ('research', 'NN'), ('that', 'IN'), ('Brexit', 'NNP'), ('is', 'VBZ'), ('likely', 'JJ'), ('to', 'TO'), ('reduce', 'VB'), ('the', 'DT'), ('UK', 'NNP'), (\"'s\", 'POS'), ('real', 'JJ'), ('in', 'IN'), ('the', 'DT'), ('medium', 'JJ'), ('term', 'NN'), ('and', 'CC'), ('long', 'JJ'), ('term', 'NN'), ('.', '.'), ('There', 'EX'), ('is', 'VBZ'), ('also', 'RB'), ('agreement', 'NN'), ('among', 'IN'), ('economists', 'NNS'), ('that', 'IN'), ('the', 'DT'), ('Brexit', 'NNP'), ('referendum', 'VBD'), ('itself', 'PRP'), ('damaged', 'VBD'), ('the', 'DT'), ('economy', 'NN'), ('in', 'IN'), ('the', 'DT'), ('subsequent', 'JJ'), ('two', 'CD'), ('years', 'NNS'), ('.', '.'), ('Studies', 'NNS'), ('on', 'IN'), ('effects', 'NNS'), ('that', 'WDT'), ('have', 'VBP'), ('materialised', 'VBN'), ('since', 'IN'), ('the', 'DT'), ('referendum', 'NN'), ('show', 'VBP'), ('annual', 'JJ'), ('losses', 'NNS'), ('of', 'IN'), ('£404', 'NN'), ('for', 'IN'), ('the', 'DT'), ('average', 'JJ'), ('UK', 'NNP'), ('household', 'NN'), (',', ','), ('and', 'CC'), ('losses', 'NNS'), ('between', 'IN'), ('1.3', 'CD'), ('%', 'NN'), ('and', 'CC'), ('2.1', 'CD'), ('%', 'NN'), ('of', 'IN'), ('UK', 'NNP'), ('GDP', 'NNP'), ('.', '.'), ('Brexit', 'NN'), ('is', 'VBZ'), ('likely', 'JJ'), ('to', 'TO'), ('reduce', 'VB'), ('immigration', 'NN'), ('from', 'IN'), ('(', '('), ('EEA', 'NNP'), (')', ')'), ('countries', 'NNS'), ('to', 'TO'), ('the', 'DT'), ('UK', 'NNP'), (',', ','), ('and', 'CC'), ('poses', 'NNS'), ('challenges', 'NNS'), ('for', 'IN'), ('UK', 'NNP'), ('higher', 'JJR'), ('education', 'NN'), ('and', 'CC'), ('academic', 'JJ'), ('research', 'NN'), ('.', '.'), ('As', 'IN'), ('of', 'IN'), ('June', 'NNP'), ('2018', 'CD'), (',', ','), ('the', 'DT'), ('size', 'NN'), ('of', 'IN'), ('the', 'DT'), ('``', '``'), (\"''\", \"''\"), (',', ','), ('the', 'DT'), ('UK', 'NNP'), (\"'s\", 'POS'), ('inheritance', 'NN'), ('of', 'IN'), ('existing', 'VBG'), ('EU', 'NNP'), ('trade', 'NN'), ('agreements', 'NNS'), (',', ','), ('and', 'CC'), ('and', 'CC'), ('other', 'JJ'), ('EU', 'NNP'), ('member', 'NN'), ('states', 'NNS'), ('remain', 'VBP'), ('uncertain', 'JJ'), ('.', '.'), ('The', 'DT'), ('precise', 'JJ'), ('impact', 'NN'), ('on', 'IN'), ('the', 'DT'), ('UK', 'NNP'), ('depends', 'VBZ'), ('on', 'IN'), ('whether', 'IN'), ('the', 'DT'), ('process', 'NN'), ('will', 'MD'), ('be', 'VB'), ('a', 'DT'), ('.', '.')]\n"
     ]
    },
    {
     "data": {
      "text/plain": [
       "468"
      ]
     },
     "execution_count": 80,
     "metadata": {},
     "output_type": "execute_result"
    }
   ],
   "source": [
    "len(word_tokens)\n",
    "postags = pos_tag(word_tokens)\n",
    "print(postags)\n",
    "len(postags)"
   ]
  },
  {
   "cell_type": "code",
   "execution_count": 86,
   "metadata": {},
   "outputs": [],
   "source": [
    "def NounsCount(postags):\n",
    "    count = 0\n",
    "    for a,b in postags:\n",
    "        if b.startswith('N'):\n",
    "            count +=1\n",
    "            #print(b)\n",
    "    return count"
   ]
  },
  {
   "cell_type": "code",
   "execution_count": 109,
   "metadata": {},
   "outputs": [],
   "source": [
    "nouncnt = NounsCount(postags)"
   ]
  },
  {
   "cell_type": "code",
   "execution_count": 92,
   "metadata": {},
   "outputs": [],
   "source": [
    "def PronounsCount(postags):\n",
    "    count = 0\n",
    "    for a,b in postags:\n",
    "        if b == \"PRP\" or b == 'PRP$':\n",
    "            #print(a)\n",
    "            count +=1\n",
    "    return count"
   ]
  },
  {
   "cell_type": "code",
   "execution_count": 110,
   "metadata": {},
   "outputs": [],
   "source": [
    "pronouncnt=PronounsCount(postags)"
   ]
  },
  {
   "cell_type": "code",
   "execution_count": 96,
   "metadata": {},
   "outputs": [],
   "source": [
    "def AdjectivesCount(postags):\n",
    "    count = 0\n",
    "    for a,b in postags:\n",
    "        if b.startswith('J'):\n",
    "            #print(a)\n",
    "            count +=1\n",
    "    return count"
   ]
  },
  {
   "cell_type": "code",
   "execution_count": 111,
   "metadata": {},
   "outputs": [],
   "source": [
    "adjcnt = AdjectivesCount(postags)"
   ]
  },
  {
   "cell_type": "code",
   "execution_count": 102,
   "metadata": {},
   "outputs": [],
   "source": [
    "def VerbsCount(postags):\n",
    "    count = 0\n",
    "    for a,b in postags:\n",
    "        if b.startswith('V'):\n",
    "            #print(a)\n",
    "            count +=1\n",
    "    return count"
   ]
  },
  {
   "cell_type": "code",
   "execution_count": 112,
   "metadata": {},
   "outputs": [],
   "source": [
    "verbcnt = VerbsCount(postags)"
   ]
  },
  {
   "cell_type": "code",
   "execution_count": 115,
   "metadata": {},
   "outputs": [],
   "source": [
    "def AdverbsCount(postags):\n",
    "    count = 0\n",
    "    for a,b in postags:\n",
    "        if b == \"RB\" or b==\"RBR\":\n",
    "            #print(a)\n",
    "            count +=1\n",
    "    return count"
   ]
  },
  {
   "cell_type": "code",
   "execution_count": 116,
   "metadata": {},
   "outputs": [],
   "source": [
    "adverbcnt = AdverbsCount(postags)"
   ]
  },
  {
   "cell_type": "code",
   "execution_count": 119,
   "metadata": {},
   "outputs": [
    {
     "data": {
      "image/png": "[encoded data removed]",
      "text/plain": [
       "<Figure size 432x288 with 1 Axes>"
      ]
     },
     "metadata": {},
     "output_type": "display_data"
    }
   ],
   "source": [
    "plt.pie([nouncnt,pronouncnt, adjcnt, verbcnt, adverbcnt],labels = ['Noun','Pronoun','Adjective','Verb','Adverb'])\n",
    "plt.show()"
   ]
  },
  {
   "cell_type": "markdown",
   "metadata": {},
   "source": [
    "3. Read the file “Brexit.docx” and write python functions which take a string as an input and returns:\n",
    "• Number of geo-Political entities present in the file. Take function name as “GeoPoliticalCount”\n",
    "• Number of Persons present in the file. Take function name as “PersonsCount”\n",
    "• Numbers of Organizations mentioned in the file. Take function name as “OrganizationsCount”"
   ]
  },
  {
   "cell_type": "code",
   "execution_count": 132,
   "metadata": {},
   "outputs": [],
   "source": [
    "from nltk import ne_chunk\n",
    "from nltk import sent_tokenize"
   ]
  },
  {
   "cell_type": "code",
   "execution_count": 128,
   "metadata": {},
   "outputs": [],
   "source": [
    "word_tokens = word_tokenize(\"the UK and the EU published a joint progress report outlining agreement on issues\")\n",
    "pos_tags = pos_tag(word_tokens)\n",
    "ne_ner = ne_chunk(pos_tags)"
   ]
  },
  {
   "cell_type": "code",
   "execution_count": 129,
   "metadata": {},
   "outputs": [
    {
     "name": "stderr",
     "output_type": "stream",
     "text": [
      "[nltk_data] Downloading package maxent_ne_chunker to\n",
      "[nltk_data]     C:\\Users\\tuhin.samanta\\AppData\\Roaming\\nltk_data...\n",
      "[nltk_data]   Package maxent_ne_chunker is already up-to-date!\n"
     ]
    },
    {
     "data": {
      "text/plain": [
       "True"
      ]
     },
     "execution_count": 129,
     "metadata": {},
     "output_type": "execute_result"
    }
   ],
   "source": [
    "import nltk\n",
    "nltk.download('maxent_ne_chunker')"
   ]
  },
  {
   "cell_type": "code",
   "execution_count": 130,
   "metadata": {},
   "outputs": [
    {
     "name": "stdout",
     "output_type": "stream",
     "text": [
      "(S\n",
      "  the/DT\n",
      "  (ORGANIZATION UK/NNP)\n",
      "  and/CC\n",
      "  the/DT\n",
      "  (GPE EU/NNP)\n",
      "  published/VBD\n",
      "  a/DT\n",
      "  joint/JJ\n",
      "  progress/NN\n",
      "  report/NN\n",
      "  outlining/VBG\n",
      "  agreement/NN\n",
      "  on/IN\n",
      "  issues/NNS)\n"
     ]
    }
   ],
   "source": [
    "print(ne_ner)"
   ]
  },
  {
   "cell_type": "code",
   "execution_count": 131,
   "metadata": {},
   "outputs": [
    {
     "data": {
      "text/plain": [
       "nltk.tree.Tree"
      ]
     },
     "execution_count": 131,
     "metadata": {},
     "output_type": "execute_result"
    }
   ],
   "source": [
    "type(ne_ner)"
   ]
  },
  {
   "cell_type": "code",
   "execution_count": 134,
   "metadata": {},
   "outputs": [
    {
     "name": "stdout",
     "output_type": "stream",
     "text": [
      "GPE Brexit\n",
      "GPE EU\n",
      "GPE British\n",
      "GPE EU\n",
      "GPE EU\n",
      "ORGANIZATION UK\n",
      "GPE EU\n",
      "ORGANIZATION EC\n",
      "ORGANIZATION Labour Party\n",
      "ORGANIZATION UKIP\n",
      "GPE Eurosceptic\n",
      "GPE Cameron\n",
      "PERSON Theresa May\n",
      "ORGANIZATION Bank\n",
      "GPE England\n",
      "GPE Brexit\n",
      "PERSON Brexit\n",
      "ORGANIZATION UK\n",
      "ORGANIZATION Brexit\n",
      "ORGANIZATION UK\n",
      "GPE Brexit\n",
      "ORGANIZATION EEA\n",
      "ORGANIZATION UK\n",
      "ORGANIZATION UK\n",
      "ORGANIZATION UK\n",
      "GPE EU\n",
      "GPE EU\n",
      "ORGANIZATION UK\n"
     ]
    }
   ],
   "source": [
    "import nltk\n",
    "for sent in nltk.sent_tokenize(strval):\n",
    "    for chunk in nltk.ne_chunk(nltk.pos_tag(nltk.word_tokenize(sent))):\n",
    "        if hasattr(chunk, 'label'):\n",
    "            print(chunk.label(), ' '.join(c[0] for c in chunk))"
   ]
  },
  {
   "cell_type": "code",
   "execution_count": 145,
   "metadata": {},
   "outputs": [],
   "source": [
    "def GeoPoliticalCount(strval):\n",
    "    count = 0\n",
    "    for sent in nltk.sent_tokenize(strval):\n",
    "        for chunk in nltk.ne_chunk(nltk.pos_tag(nltk.word_tokenize(sent))):\n",
    "            if hasattr(chunk, 'label'):\n",
    "                if chunk.label() == \"GPE\":\n",
    "                    count +=1\n",
    "                    print(chunk.label(), ' '.join(c[0] for c in chunk))\n",
    "    return count\n",
    "    "
   ]
  },
  {
   "cell_type": "code",
   "execution_count": 146,
   "metadata": {},
   "outputs": [
    {
     "name": "stdout",
     "output_type": "stream",
     "text": [
      "GPE Brexit\n",
      "GPE EU\n",
      "GPE British\n",
      "GPE EU\n",
      "GPE EU\n",
      "GPE EU\n",
      "GPE Eurosceptic\n",
      "GPE Cameron\n",
      "GPE England\n",
      "GPE Brexit\n",
      "GPE Brexit\n",
      "GPE EU\n",
      "GPE EU\n"
     ]
    },
    {
     "data": {
      "text/plain": [
       "13"
      ]
     },
     "execution_count": 146,
     "metadata": {},
     "output_type": "execute_result"
    }
   ],
   "source": [
    "GeoPoliticalCount(strval)"
   ]
  },
  {
   "cell_type": "code",
   "execution_count": 143,
   "metadata": {},
   "outputs": [],
   "source": [
    "def PersonsCount(strval):\n",
    "    count = 0\n",
    "    for sent in nltk.sent_tokenize(strval):\n",
    "        for chunk in nltk.ne_chunk(nltk.pos_tag(nltk.word_tokenize(sent))):\n",
    "            if hasattr(chunk, 'label'):\n",
    "                if chunk.label() == \"PERSON\":\n",
    "                    count +=1\n",
    "                    print(chunk.label(), ' '.join(c[0] for c in chunk))\n",
    "    return count"
   ]
  },
  {
   "cell_type": "code",
   "execution_count": 144,
   "metadata": {},
   "outputs": [
    {
     "name": "stdout",
     "output_type": "stream",
     "text": [
      "PERSON Theresa May\n",
      "PERSON Brexit\n"
     ]
    },
    {
     "data": {
      "text/plain": [
       "2"
      ]
     },
     "execution_count": 144,
     "metadata": {},
     "output_type": "execute_result"
    }
   ],
   "source": [
    "PersonsCount(strval)"
   ]
  },
  {
   "cell_type": "code",
   "execution_count": 147,
   "metadata": {},
   "outputs": [],
   "source": [
    "def OrganizationCount(strval):\n",
    "    count = 0\n",
    "    for sent in nltk.sent_tokenize(strval):\n",
    "        for chunk in nltk.ne_chunk(nltk.pos_tag(nltk.word_tokenize(sent))):\n",
    "            if hasattr(chunk, 'label'):\n",
    "                if chunk.label() == \"ORGANIZATION\":\n",
    "                    count +=1\n",
    "                    print(chunk.label(), ' '.join(c[0] for c in chunk))\n",
    "    return count"
   ]
  },
  {
   "cell_type": "code",
   "execution_count": 148,
   "metadata": {},
   "outputs": [
    {
     "name": "stdout",
     "output_type": "stream",
     "text": [
      "ORGANIZATION UK\n",
      "ORGANIZATION EC\n",
      "ORGANIZATION Labour Party\n",
      "ORGANIZATION UKIP\n",
      "ORGANIZATION Bank\n",
      "ORGANIZATION UK\n",
      "ORGANIZATION Brexit\n",
      "ORGANIZATION UK\n",
      "ORGANIZATION EEA\n",
      "ORGANIZATION UK\n",
      "ORGANIZATION UK\n",
      "ORGANIZATION UK\n",
      "ORGANIZATION UK\n"
     ]
    },
    {
     "data": {
      "text/plain": [
       "13"
      ]
     },
     "execution_count": 148,
     "metadata": {},
     "output_type": "execute_result"
    }
   ],
   "source": [
    "OrganizationCount(strval)"
   ]
  },
  {
   "cell_type": "markdown",
   "metadata": {},
   "source": [
    "4. Answer the following questions:\n",
    "• Most frequent bi-gram from the data\n",
    "• Most frequent Noun\n",
    "• Most frequent GeoPolitical Entity\n",
    "• Most frequent person"
   ]
  },
  {
   "cell_type": "code",
   "execution_count": 150,
   "metadata": {},
   "outputs": [],
   "source": [
    "from nltk.probability import FreqDist"
   ]
  },
  {
   "cell_type": "code",
   "execution_count": 151,
   "metadata": {},
   "outputs": [],
   "source": [
    "fdist = FreqDist()"
   ]
  },
  {
   "cell_type": "code",
   "execution_count": 167,
   "metadata": {},
   "outputs": [
    {
     "data": {
      "text/plain": [
       "((',', 'the'), 7)"
      ]
     },
     "execution_count": 167,
     "metadata": {},
     "output_type": "execute_result"
    }
   ],
   "source": [
    "#bigrams =  GetNGrams(strval, 2)\n",
    "word_tokens = word_tokenize(strval)\n",
    "bigram_fd = nltk.FreqDist(nltk.bigrams(word_tokens))\n",
    "bigram_fd.most_common()[0]"
   ]
  },
  {
   "cell_type": "code",
   "execution_count": 170,
   "metadata": {},
   "outputs": [
    {
     "data": {
      "text/plain": [
       "FreqDist({('the', 'DT'): 40, (',', ','): 21, ('.', '.'): 18, ('and', 'CC'): 17, ('of', 'IN'): 15, ('a', 'DT'): 11, ('in', 'IN'): 11, ('UK', 'NNP'): 10, ('to', 'TO'): 8, ('is', 'VBZ'): 6, ...})"
      ]
     },
     "execution_count": 170,
     "metadata": {},
     "output_type": "execute_result"
    }
   ],
   "source": [
    "pos_tags = pos_tag(word_tokens)\n",
    "nltk.FreqDist(pos_tags)"
   ]
  },
  {
   "cell_type": "code",
   "execution_count": 171,
   "metadata": {},
   "outputs": [
    {
     "data": {
      "text/plain": [
       "[('Brexit', 'NN'),\n",
       " ('is', 'VBZ'),\n",
       " ('the', 'DT'),\n",
       " ('impending', 'NN'),\n",
       " ('of', 'IN'),\n",
       " ('the', 'DT'),\n",
       " ('(', '('),\n",
       " ('UK', 'NNP'),\n",
       " (')', ')'),\n",
       " ('from', 'IN'),\n",
       " ('the', 'DT'),\n",
       " ('(', '('),\n",
       " ('EU', 'NNP'),\n",
       " (')', ')'),\n",
       " ('.', '.'),\n",
       " ('In', 'IN'),\n",
       " ('a', 'DT'),\n",
       " (',', ','),\n",
       " ('a', 'DT'),\n",
       " ('majority', 'NN'),\n",
       " ('of', 'IN'),\n",
       " ('British', 'JJ'),\n",
       " ('voters', 'NNS'),\n",
       " ('supported', 'VBD'),\n",
       " ('leaving', 'VBG'),\n",
       " ('the', 'DT'),\n",
       " ('EU', 'NNP'),\n",
       " ('.', '.'),\n",
       " ('On', 'IN'),\n",
       " ('29', 'CD'),\n",
       " ('March', 'NNP'),\n",
       " ('2017', 'CD'),\n",
       " (',', ','),\n",
       " ('the', 'DT'),\n",
       " ('invoked', 'NN'),\n",
       " ('.', '.'),\n",
       " ('The', 'DT'),\n",
       " ('declares', 'NNS'),\n",
       " ('``', '``'),\n",
       " ('exit', 'JJ'),\n",
       " ('day', 'NN'),\n",
       " (\"''\", \"''\"),\n",
       " ('to', 'TO'),\n",
       " ('be', 'VB'),\n",
       " ('29', 'CD'),\n",
       " ('March', 'NNP'),\n",
       " ('2019', 'CD'),\n",
       " ('at', 'IN'),\n",
       " ('11', 'CD'),\n",
       " ('p.m.', 'NN'),\n",
       " ('(', '('),\n",
       " (')', ')'),\n",
       " ('.Prime', 'RB'),\n",
       " ('Minister', 'NNP'),\n",
       " ('announced', 'VBD'),\n",
       " ('the', 'DT'),\n",
       " ('government', 'NN'),\n",
       " (\"'s\", 'POS'),\n",
       " ('intention', 'NN'),\n",
       " ('not', 'RB'),\n",
       " ('to', 'TO'),\n",
       " ('seek', 'VB'),\n",
       " ('permanent', 'JJ'),\n",
       " ('membership', 'NN'),\n",
       " ('of', 'IN'),\n",
       " ('the', 'DT'),\n",
       " ('or', 'CC'),\n",
       " ('the', 'DT'),\n",
       " ('after', 'IN'),\n",
       " ('leaving', 'VBG'),\n",
       " ('the', 'DT'),\n",
       " ('EU', 'NNP'),\n",
       " ('and', 'CC'),\n",
       " ('promised', 'VBD'),\n",
       " ('to', 'TO'),\n",
       " ('the', 'DT'),\n",
       " ('and', 'CC'),\n",
       " ('incorporate', 'VB'),\n",
       " ('existing', 'VBG'),\n",
       " ('into', 'IN'),\n",
       " ('.', '.'),\n",
       " ('A', 'DT'),\n",
       " ('new', 'JJ'),\n",
       " ('government', 'NN'),\n",
       " ('department', 'NN'),\n",
       " (',', ','),\n",
       " ('the', 'DT'),\n",
       " (',', ','),\n",
       " ('was', 'VBD'),\n",
       " ('created', 'VBN'),\n",
       " ('in', 'IN'),\n",
       " ('July', 'NNP'),\n",
       " ('2016.', 'CD'),\n",
       " ('officially', 'RB'),\n",
       " ('started', 'VBN'),\n",
       " ('in', 'IN'),\n",
       " ('June', 'NNP'),\n",
       " ('2017', 'CD'),\n",
       " (',', ','),\n",
       " ('aiming', 'VBG'),\n",
       " ('to', 'TO'),\n",
       " ('complete', 'VB'),\n",
       " ('the', 'DT'),\n",
       " ('withdrawal', 'NN'),\n",
       " ('agreement', 'NN'),\n",
       " ('by', 'IN'),\n",
       " ('October', 'NNP'),\n",
       " ('2018', 'CD'),\n",
       " ('.', '.'),\n",
       " ('In', 'IN'),\n",
       " ('June', 'NNP'),\n",
       " ('2018', 'CD'),\n",
       " (',', ','),\n",
       " ('the', 'DT'),\n",
       " ('UK', 'NNP'),\n",
       " ('and', 'CC'),\n",
       " ('the', 'DT'),\n",
       " ('EU', 'NNP'),\n",
       " ('published', 'VBD'),\n",
       " ('a', 'DT'),\n",
       " ('joint', 'JJ'),\n",
       " ('progress', 'NN'),\n",
       " ('report', 'NN'),\n",
       " ('outlining', 'VBG'),\n",
       " ('agreement', 'NN'),\n",
       " ('on', 'IN'),\n",
       " ('issues', 'NNS'),\n",
       " ('including', 'VBG'),\n",
       " (',', ','),\n",
       " ('and', 'CC'),\n",
       " ('Euratom.The', 'NNP'),\n",
       " ('UK', 'NNP'),\n",
       " ('joined', 'VBD'),\n",
       " ('the', 'DT'),\n",
       " ('(', '('),\n",
       " ('EC', 'NNP'),\n",
       " (')', ')'),\n",
       " ('in', 'IN'),\n",
       " ('1973', 'CD'),\n",
       " (',', ','),\n",
       " ('with', 'IN'),\n",
       " ('membership', 'NN'),\n",
       " ('confirmed', 'VBN'),\n",
       " ('by', 'IN'),\n",
       " ('a', 'DT'),\n",
       " ('.', '.'),\n",
       " ('In', 'IN'),\n",
       " ('the', 'DT'),\n",
       " ('1970s', 'CD'),\n",
       " ('and', 'CC'),\n",
       " ('1980s', 'CD'),\n",
       " (',', ','),\n",
       " ('withdrawal', 'NN'),\n",
       " ('from', 'IN'),\n",
       " ('the', 'DT'),\n",
       " ('EC', 'NNP'),\n",
       " ('was', 'VBD'),\n",
       " ('advocated', 'VBN'),\n",
       " ('mainly', 'RB'),\n",
       " ('by', 'IN'),\n",
       " ('Labour', 'NNP'),\n",
       " ('Party', 'NNP'),\n",
       " ('members', 'NNS'),\n",
       " ('and', 'CC'),\n",
       " ('figures', 'NNS'),\n",
       " ('.', '.'),\n",
       " ('From', 'IN'),\n",
       " ('the', 'DT'),\n",
       " ('1990s', 'CD'),\n",
       " (',', ','),\n",
       " ('the', 'DT'),\n",
       " ('main', 'JJ'),\n",
       " ('advocates', 'NNS'),\n",
       " ('of', 'IN'),\n",
       " ('withdrawal', 'NN'),\n",
       " ('were', 'VBD'),\n",
       " ('the', 'DT'),\n",
       " ('newly', 'RB'),\n",
       " ('founded', 'VBN'),\n",
       " ('(', '('),\n",
       " ('UKIP', 'NNP'),\n",
       " (')', ')'),\n",
       " ('and', 'CC'),\n",
       " ('an', 'DT'),\n",
       " ('increasing', 'VBG'),\n",
       " ('number', 'NN'),\n",
       " ('of', 'IN'),\n",
       " ('Eurosceptic', 'JJ'),\n",
       " ('members', 'NNS'),\n",
       " ('.', '.'),\n",
       " ('Prime', 'NNP'),\n",
       " ('Minister', 'NNP'),\n",
       " ('held', 'VBD'),\n",
       " ('the', 'DT'),\n",
       " ('referendum', 'NN'),\n",
       " ('in', 'IN'),\n",
       " ('fulfilment', 'NN'),\n",
       " ('of', 'IN'),\n",
       " ('a', 'DT'),\n",
       " ('2015', 'CD'),\n",
       " ('manifesto', 'NN'),\n",
       " ('pledge', 'NN'),\n",
       " ('.', '.'),\n",
       " ('Cameron', 'NNP'),\n",
       " (',', ','),\n",
       " ('who', 'WP'),\n",
       " ('had', 'VBD'),\n",
       " ('campaigned', 'VBN'),\n",
       " ('for', 'IN'),\n",
       " ('``', '``'),\n",
       " ('Remain', 'NNP'),\n",
       " (\"''\", \"''\"),\n",
       " (',', ','),\n",
       " ('resigned', 'VBD'),\n",
       " ('after', 'IN'),\n",
       " ('the', 'DT'),\n",
       " ('referendum', 'NN'),\n",
       " ('result', 'NN'),\n",
       " ('and', 'CC'),\n",
       " ('was', 'VBD'),\n",
       " ('succeeded', 'VBN'),\n",
       " ('by', 'IN'),\n",
       " ('Theresa', 'NNP'),\n",
       " ('May', 'NNP'),\n",
       " (',', ','),\n",
       " ('who', 'WP'),\n",
       " ('called', 'VBD'),\n",
       " ('a', 'DT'),\n",
       " ('less', 'RBR'),\n",
       " ('than', 'IN'),\n",
       " ('a', 'DT'),\n",
       " ('year', 'NN'),\n",
       " ('later', 'RB'),\n",
       " (',', ','),\n",
       " ('in', 'IN'),\n",
       " ('which', 'WDT'),\n",
       " ('she', 'PRP'),\n",
       " ('lost', 'VBD'),\n",
       " ('her', 'PRP'),\n",
       " ('overall', 'JJ'),\n",
       " ('majority', 'NN'),\n",
       " ('.', '.'),\n",
       " ('Her', 'PRP$'),\n",
       " ('minority', 'NN'),\n",
       " ('government', 'NN'),\n",
       " ('is', 'VBZ'),\n",
       " ('by', 'IN'),\n",
       " ('the', 'DT'),\n",
       " ('.Six', 'NNP'),\n",
       " ('weeks', 'NNS'),\n",
       " ('after', 'IN'),\n",
       " ('the', 'DT'),\n",
       " ('referendum', 'NN'),\n",
       " (',', ','),\n",
       " ('the', 'DT'),\n",
       " ('Bank', 'NNP'),\n",
       " ('of', 'IN'),\n",
       " ('England', 'NNP'),\n",
       " ('introduced', 'VBD'),\n",
       " ('and', 'CC'),\n",
       " ('lower', 'JJR'),\n",
       " ('interest', 'NN'),\n",
       " ('rates', 'NNS'),\n",
       " (',', ','),\n",
       " ('thus', 'RB'),\n",
       " ('allowing', 'VBG'),\n",
       " ('both', 'DT'),\n",
       " ('of', 'IN'),\n",
       " ('and', 'CC'),\n",
       " ('a', 'DT'),\n",
       " ('rise', 'NN'),\n",
       " ('in', 'IN'),\n",
       " ('inflation', 'NN'),\n",
       " ('that', 'IN'),\n",
       " ('outpaced', 'VBD'),\n",
       " ('wage', 'NN'),\n",
       " ('growth', 'NN'),\n",
       " ('for', 'IN'),\n",
       " ('most', 'JJS'),\n",
       " ('of', 'IN'),\n",
       " ('2017', 'CD'),\n",
       " ('.', '.'),\n",
       " ('The', 'DT'),\n",
       " ('drop', 'NN'),\n",
       " ('in', 'IN'),\n",
       " ('the', 'DT'),\n",
       " ('value', 'NN'),\n",
       " ('of', 'IN'),\n",
       " ('sterling', 'NN'),\n",
       " ('has', 'VBZ'),\n",
       " ('been', 'VBN'),\n",
       " ('claimed', 'VBN'),\n",
       " ('to', 'TO'),\n",
       " ('have', 'VB'),\n",
       " ('been', 'VBN'),\n",
       " ('caused', 'VBN'),\n",
       " ('in', 'IN'),\n",
       " ('part', 'NN'),\n",
       " ('by', 'IN'),\n",
       " ('hedge-fund', 'NN'),\n",
       " ('managers', 'NNS'),\n",
       " ('betting', 'VBG'),\n",
       " ('on', 'IN'),\n",
       " ('Brexit', 'NNP'),\n",
       " ('against', 'IN'),\n",
       " ('polls', 'NNS'),\n",
       " ('predicting', 'VBG'),\n",
       " ('a', 'DT'),\n",
       " ('narrow', 'JJ'),\n",
       " ('victory', 'NN'),\n",
       " ('for', 'IN'),\n",
       " ('the', 'DT'),\n",
       " ('``', '``'),\n",
       " ('Remain', 'NNP'),\n",
       " (\"''\", \"''\"),\n",
       " ('camp', 'NN'),\n",
       " ('.', '.'),\n",
       " ('There', 'EX'),\n",
       " ('is', 'VBZ'),\n",
       " ('a', 'DT'),\n",
       " ('broad', 'JJ'),\n",
       " ('consensus', 'NN'),\n",
       " ('in', 'IN'),\n",
       " ('existing', 'VBG'),\n",
       " ('economic', 'JJ'),\n",
       " ('research', 'NN'),\n",
       " ('that', 'IN'),\n",
       " ('Brexit', 'NNP'),\n",
       " ('is', 'VBZ'),\n",
       " ('likely', 'JJ'),\n",
       " ('to', 'TO'),\n",
       " ('reduce', 'VB'),\n",
       " ('the', 'DT'),\n",
       " ('UK', 'NNP'),\n",
       " (\"'s\", 'POS'),\n",
       " ('real', 'JJ'),\n",
       " ('in', 'IN'),\n",
       " ('the', 'DT'),\n",
       " ('medium', 'JJ'),\n",
       " ('term', 'NN'),\n",
       " ('and', 'CC'),\n",
       " ('long', 'JJ'),\n",
       " ('term', 'NN'),\n",
       " ('.', '.'),\n",
       " ('There', 'EX'),\n",
       " ('is', 'VBZ'),\n",
       " ('also', 'RB'),\n",
       " ('agreement', 'NN'),\n",
       " ('among', 'IN'),\n",
       " ('economists', 'NNS'),\n",
       " ('that', 'IN'),\n",
       " ('the', 'DT'),\n",
       " ('Brexit', 'NNP'),\n",
       " ('referendum', 'VBD'),\n",
       " ('itself', 'PRP'),\n",
       " ('damaged', 'VBD'),\n",
       " ('the', 'DT'),\n",
       " ('economy', 'NN'),\n",
       " ('in', 'IN'),\n",
       " ('the', 'DT'),\n",
       " ('subsequent', 'JJ'),\n",
       " ('two', 'CD'),\n",
       " ('years', 'NNS'),\n",
       " ('.', '.'),\n",
       " ('Studies', 'NNS'),\n",
       " ('on', 'IN'),\n",
       " ('effects', 'NNS'),\n",
       " ('that', 'WDT'),\n",
       " ('have', 'VBP'),\n",
       " ('materialised', 'VBN'),\n",
       " ('since', 'IN'),\n",
       " ('the', 'DT'),\n",
       " ('referendum', 'NN'),\n",
       " ('show', 'VBP'),\n",
       " ('annual', 'JJ'),\n",
       " ('losses', 'NNS'),\n",
       " ('of', 'IN'),\n",
       " ('£404', 'NN'),\n",
       " ('for', 'IN'),\n",
       " ('the', 'DT'),\n",
       " ('average', 'JJ'),\n",
       " ('UK', 'NNP'),\n",
       " ('household', 'NN'),\n",
       " (',', ','),\n",
       " ('and', 'CC'),\n",
       " ('losses', 'NNS'),\n",
       " ('between', 'IN'),\n",
       " ('1.3', 'CD'),\n",
       " ('%', 'NN'),\n",
       " ('and', 'CC'),\n",
       " ('2.1', 'CD'),\n",
       " ('%', 'NN'),\n",
       " ('of', 'IN'),\n",
       " ('UK', 'NNP'),\n",
       " ('GDP', 'NNP'),\n",
       " ('.', '.'),\n",
       " ('Brexit', 'NN'),\n",
       " ('is', 'VBZ'),\n",
       " ('likely', 'JJ'),\n",
       " ('to', 'TO'),\n",
       " ('reduce', 'VB'),\n",
       " ('immigration', 'NN'),\n",
       " ('from', 'IN'),\n",
       " ('(', '('),\n",
       " ('EEA', 'NNP'),\n",
       " (')', ')'),\n",
       " ('countries', 'NNS'),\n",
       " ('to', 'TO'),\n",
       " ('the', 'DT'),\n",
       " ('UK', 'NNP'),\n",
       " (',', ','),\n",
       " ('and', 'CC'),\n",
       " ('poses', 'NNS'),\n",
       " ('challenges', 'NNS'),\n",
       " ('for', 'IN'),\n",
       " ('UK', 'NNP'),\n",
       " ('higher', 'JJR'),\n",
       " ('education', 'NN'),\n",
       " ('and', 'CC'),\n",
       " ('academic', 'JJ'),\n",
       " ('research', 'NN'),\n",
       " ('.', '.'),\n",
       " ('As', 'IN'),\n",
       " ('of', 'IN'),\n",
       " ('June', 'NNP'),\n",
       " ('2018', 'CD'),\n",
       " (',', ','),\n",
       " ('the', 'DT'),\n",
       " ('size', 'NN'),\n",
       " ('of', 'IN'),\n",
       " ('the', 'DT'),\n",
       " ('``', '``'),\n",
       " (\"''\", \"''\"),\n",
       " (',', ','),\n",
       " ('the', 'DT'),\n",
       " ('UK', 'NNP'),\n",
       " (\"'s\", 'POS'),\n",
       " ('inheritance', 'NN'),\n",
       " ('of', 'IN'),\n",
       " ('existing', 'VBG'),\n",
       " ('EU', 'NNP'),\n",
       " ('trade', 'NN'),\n",
       " ('agreements', 'NNS'),\n",
       " (',', ','),\n",
       " ('and', 'CC'),\n",
       " ('and', 'CC'),\n",
       " ('other', 'JJ'),\n",
       " ('EU', 'NNP'),\n",
       " ('member', 'NN'),\n",
       " ('states', 'NNS'),\n",
       " ('remain', 'VBP'),\n",
       " ('uncertain', 'JJ'),\n",
       " ('.', '.'),\n",
       " ('The', 'DT'),\n",
       " ('precise', 'JJ'),\n",
       " ('impact', 'NN'),\n",
       " ('on', 'IN'),\n",
       " ('the', 'DT'),\n",
       " ('UK', 'NNP'),\n",
       " ('depends', 'VBZ'),\n",
       " ('on', 'IN'),\n",
       " ('whether', 'IN'),\n",
       " ('the', 'DT'),\n",
       " ('process', 'NN'),\n",
       " ('will', 'MD'),\n",
       " ('be', 'VB'),\n",
       " ('a', 'DT'),\n",
       " ('.', '.')]"
      ]
     },
     "execution_count": 171,
     "metadata": {},
     "output_type": "execute_result"
    }
   ],
   "source": [
    "pos_tags"
   ]
  },
  {
   "cell_type": "code",
   "execution_count": null,
   "metadata": {},
   "outputs": [],
   "source": []
  }
 ],
 "metadata": {
  "kernelspec": {
   "display_name": "Python 3",
   "language": "python",
   "name": "python3"
  },
  "language_info": {
   "codemirror_mode": {
    "name": "ipython",
    "version": 3
   },
   "file_extension": ".py",
   "mimetype": "text/x-python",
   "name": "python",
   "nbconvert_exporter": "python",
   "pygments_lexer": "ipython3",
   "version": "3.7.1"
  }
 },
 "nbformat": 4,
 "nbformat_minor": 2
}
