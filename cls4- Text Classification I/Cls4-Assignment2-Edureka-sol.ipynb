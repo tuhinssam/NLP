{
 "cells": [
  {
   "cell_type": "markdown",
   "metadata": {},
   "source": [
    "# Problem Statement"
   ]
  },
  {
   "cell_type": "raw",
   "metadata": {},
   "source": [
    "The data for this assignment is taken from Kaggle. (https://www.kaggle.com/zynicide/wine-reviews)\n",
    "\n",
    "This is a subset of the original data which contains information such as Country , Description , \n",
    "Points and Designation of certain types of Wines . You have to use the perform the following functions on this file \n",
    "\n",
    "•\tRead the CSV file “Wine.csv”\n",
    "\n",
    "•\tUsing Pre-process File which you created in module 2 case study 1, call the ‘Refine’ function and get the pre-processed text for each ‘description’ in the csv file. Store it in a column named “Refined-Description”\n",
    "\n",
    "•\tUsing ‘CountVectorization’ function from ‘Vectorization’ python file created in case study 1of this module, vectorise all the rows in ‘Refined-Description’ column which you created in the above step. Store them in a column named “CountVectorizer”\n",
    "\n",
    "\n",
    "•\tUsing ‘TF-IDFVectorization’ function from ‘Vectorization’ python file created in case study 1 of this module, vectorise all the rows in ‘Refined-Description’ column and store the results in ‘TF-IDF Vectorizer Column”\n",
    "\n",
    "•\tSave changes to the CSV file. \n",
    "\n"
   ]
  },
  {
   "cell_type": "code",
   "execution_count": 1,
   "metadata": {
    "collapsed": true
   },
   "outputs": [],
   "source": [
    "#Read the CSV file “Wine.csv”\n",
    "\n",
    "import pandas as pd\n",
    "df=pd.read_csv(\"Wine.csv\")"
   ]
  },
  {
   "cell_type": "raw",
   "metadata": {
    "collapsed": true
   },
   "source": [
    "Using Pre-process File which you created in module 2 case study 1, call the ‘Refine’ function and get the pre-processed text for each ‘description’ in the csv file. Store it in a column named “Refined-Description”"
   ]
  },
  {
   "cell_type": "code",
   "execution_count": 7,
   "metadata": {
    "collapsed": true
   },
   "outputs": [],
   "source": [
    "import sys\n",
    "reload(sys)\n",
    "sys.setdefaultencoding('UTF8')"
   ]
  },
  {
   "cell_type": "code",
   "execution_count": 8,
   "metadata": {},
   "outputs": [],
   "source": [
    "from PreProcess import *"
   ]
  },
  {
   "cell_type": "code",
   "execution_count": 9,
   "metadata": {},
   "outputs": [],
   "source": [
    "df['Refined-Description']=map(lambda x:Refine(x),df['description'])"
   ]
  },
  {
   "cell_type": "raw",
   "metadata": {},
   "source": [
    "Using ‘CountVectorization’ function from ‘Vectorization’ python file created in case study 1of this module, vectorise all the rows in ‘Refined-Description’ column which you created in the above step. Store them in a column named “CountVectorizer”"
   ]
  },
  {
   "cell_type": "code",
   "execution_count": 10,
   "metadata": {
    "collapsed": true
   },
   "outputs": [],
   "source": [
    "from Vectorization import *"
   ]
  },
  {
   "cell_type": "code",
   "execution_count": 14,
   "metadata": {},
   "outputs": [],
   "source": [
    "df['CountVectorizer']=CountVectorization(df['Refined-Description'])"
   ]
  },
  {
   "cell_type": "raw",
   "metadata": {},
   "source": [
    "Using ‘TF-IDFVectorization’ function from ‘Vectorization’ python file created in case study 1 of this module, vectorise all the rows in ‘Refined-Description’ column and store the results in ‘TF-IDF Vectorizer Column”"
   ]
  },
  {
   "cell_type": "code",
   "execution_count": 16,
   "metadata": {},
   "outputs": [],
   "source": [
    "df['TF_IDFVectorizer']=TFIDFVectorization(df['Refined-Description'])"
   ]
  },
  {
   "cell_type": "code",
   "execution_count": 18,
   "metadata": {},
   "outputs": [],
   "source": [
    "df.to_csv('Wine.csv',index=False)"
   ]
  },
  {
   "cell_type": "code",
   "execution_count": 24,
   "metadata": {},
   "outputs": [],
   "source": [
    "df2=df.drop(['Refined-Description','CountVectorizer','TF_IDFVectorizer'],axis=1)"
   ]
  },
  {
   "cell_type": "code",
   "execution_count": 26,
   "metadata": {},
   "outputs": [],
   "source": [
    "df2.to_csv('Wines.csv',index=False)"
   ]
  }
 ],
 "metadata": {
  "kernelspec": {
   "display_name": "Python 2",
   "language": "python",
   "name": "python2"
  },
  "language_info": {
   "codemirror_mode": {
    "name": "ipython",
    "version": 2
   },
   "file_extension": ".py",
   "mimetype": "text/x-python",
   "name": "python",
   "nbconvert_exporter": "python",
   "pygments_lexer": "ipython2",
   "version": "2.7.12"
  }
 },
 "nbformat": 4,
 "nbformat_minor": 2
}
