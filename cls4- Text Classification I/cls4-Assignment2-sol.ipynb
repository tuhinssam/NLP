{
 "cells": [
  {
   "cell_type": "markdown",
   "metadata": {},
   "source": [
    "1. Write a program to input three sentences from user and creates the corpusExample: Let’s say these 3 are your strings:S1=” India won the match”S2=” England won the cricket match”S3=” Australia won the final match”Then Corpus (list of union of all words from all strings) is: [India, England, Australia, won, the, match, cricket, final]Create a function named “MakeCorpus” which will take list of string as an input and will return a list having union of all words. Save this function in a python file named “Corpus”. This can be used for future applications"
   ]
  },
  {
   "cell_type": "code",
   "execution_count": 2,
   "metadata": {},
   "outputs": [
    {
     "name": "stdout",
     "output_type": "stream",
     "text": [
      "Enter string1: India won the match\n"
     ]
    }
   ],
   "source": [
    "s1 = input(\"Enter string1: \")"
   ]
  },
  {
   "cell_type": "code",
   "execution_count": 3,
   "metadata": {},
   "outputs": [
    {
     "name": "stdout",
     "output_type": "stream",
     "text": [
      "Enter string2: England won the cricket match\n"
     ]
    }
   ],
   "source": [
    "s2 = input(\"Enter string2: \")"
   ]
  },
  {
   "cell_type": "code",
   "execution_count": 4,
   "metadata": {},
   "outputs": [
    {
     "name": "stdout",
     "output_type": "stream",
     "text": [
      "Enter string3: Australia won the final match\n"
     ]
    }
   ],
   "source": [
    "s3 = input(\"Enter string3: \")"
   ]
  },
  {
   "cell_type": "code",
   "execution_count": 10,
   "metadata": {},
   "outputs": [
    {
     "data": {
      "text/plain": [
       "{'Australia', 'England', 'India', 'cricket', 'final', 'match', 'the', 'won'}"
      ]
     },
     "execution_count": 10,
     "metadata": {},
     "output_type": "execute_result"
    }
   ],
   "source": [
    "from nltk import word_tokenize\n",
    "def MakeCorpus(s1,s2,s3):\n",
    "    s = set(word_tokenize(s1)).union(set(word_tokenize(s2))).union(set(word_tokenize(s3)))\n",
    "    return s\n",
    "strlist = [s1,s2,s3]\n",
    "MakeCorpus(s1,s2,s3)\n",
    "    "
   ]
  },
  {
   "cell_type": "markdown",
   "metadata": {},
   "source": [
    "2. Write a program to input three sentences from user and convert them into vectors. Use presence and absence of words to build the vectors.Example: Let’s say these 3 are your strings:S1=” India won the match”S2=” England won the cricket match”S3=” Australia won the final match”Then Corpus (list of union of all words from all strings) is: [India, England, Australia, won, the, match, cricket, final]So, S1 will be [1,0,0,1,1,1,0,0] S2 will be [0,1,0,1,1,1,1,0]S3 will be [0,0,1,1,1,1,0,1]Create a functionnamed “PresenceAbsenceVectorization” which will take list of string as an input and will return a list of vectors. Save this function ina python file named “Vectorization”. This can be used for future applications"
   ]
  },
  {
   "cell_type": "code",
   "execution_count": 8,
   "metadata": {},
   "outputs": [],
   "source": [
    "import pandas as pd\n",
    "import numpy as np\n",
    "from sklearn.feature_extraction.text import CountVectorizer\n",
    "\n",
    "def Vectorizer(strlist):\n",
    "    count_vect = CountVectorizer()\n",
    "    x_values = count_vect.fit_transform(strlist)\n",
    "    x_columns = count_vect.get_feature_names()\n",
    "    df = pd.DataFrame(x_values.toarray(), columns = x_columns)\n",
    "    return df"
   ]
  },
  {
   "cell_type": "code",
   "execution_count": 9,
   "metadata": {},
   "outputs": [
    {
     "data": {
      "text/html": [
       "<div>\n",
       "<style scoped>\n",
       "    .dataframe tbody tr th:only-of-type {\n",
       "        vertical-align: middle;\n",
       "    }\n",
       "\n",
       "    .dataframe tbody tr th {\n",
       "        vertical-align: top;\n",
       "    }\n",
       "\n",
       "    .dataframe thead th {\n",
       "        text-align: right;\n",
       "    }\n",
       "</style>\n",
       "<table border=\"1\" class=\"dataframe\">\n",
       "  <thead>\n",
       "    <tr style=\"text-align: right;\">\n",
       "      <th></th>\n",
       "      <th>australia</th>\n",
       "      <th>cricket</th>\n",
       "      <th>england</th>\n",
       "      <th>final</th>\n",
       "      <th>india</th>\n",
       "      <th>match</th>\n",
       "      <th>the</th>\n",
       "      <th>won</th>\n",
       "    </tr>\n",
       "  </thead>\n",
       "  <tbody>\n",
       "    <tr>\n",
       "      <th>0</th>\n",
       "      <td>0</td>\n",
       "      <td>0</td>\n",
       "      <td>0</td>\n",
       "      <td>0</td>\n",
       "      <td>1</td>\n",
       "      <td>1</td>\n",
       "      <td>1</td>\n",
       "      <td>1</td>\n",
       "    </tr>\n",
       "    <tr>\n",
       "      <th>1</th>\n",
       "      <td>0</td>\n",
       "      <td>1</td>\n",
       "      <td>1</td>\n",
       "      <td>0</td>\n",
       "      <td>0</td>\n",
       "      <td>1</td>\n",
       "      <td>1</td>\n",
       "      <td>1</td>\n",
       "    </tr>\n",
       "    <tr>\n",
       "      <th>2</th>\n",
       "      <td>1</td>\n",
       "      <td>0</td>\n",
       "      <td>0</td>\n",
       "      <td>1</td>\n",
       "      <td>0</td>\n",
       "      <td>1</td>\n",
       "      <td>1</td>\n",
       "      <td>1</td>\n",
       "    </tr>\n",
       "  </tbody>\n",
       "</table>\n",
       "</div>"
      ],
      "text/plain": [
       "   australia  cricket  england  final  india  match  the  won\n",
       "0          0        0        0      0      1      1    1    1\n",
       "1          0        1        1      0      0      1    1    1\n",
       "2          1        0        0      1      0      1    1    1"
      ]
     },
     "execution_count": 9,
     "metadata": {},
     "output_type": "execute_result"
    }
   ],
   "source": [
    "Vectorizer([s1,s2,s3])"
   ]
  },
  {
   "cell_type": "code",
   "execution_count": null,
   "metadata": {},
   "outputs": [],
   "source": []
  }
 ],
 "metadata": {
  "kernelspec": {
   "display_name": "Python 3",
   "language": "python",
   "name": "python3"
  },
  "language_info": {
   "codemirror_mode": {
    "name": "ipython",
    "version": 3
   },
   "file_extension": ".py",
   "mimetype": "text/x-python",
   "name": "python",
   "nbconvert_exporter": "python",
   "pygments_lexer": "ipython3",
   "version": "3.7.1"
  }
 },
 "nbformat": 4,
 "nbformat_minor": 2
}
