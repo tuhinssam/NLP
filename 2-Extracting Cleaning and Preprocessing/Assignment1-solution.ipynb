{
 "cells": [
  {
   "cell_type": "markdown",
   "metadata": {},
   "source": [
    "1.Write a program to enter a string from user and perform following tasks\n",
    "•Write a python functionnamed “Tokenize”which returnsthe tokenized string\n",
    "•Print tokens along with the frequency of each tokenusing the above function\n",
    "•Print the 5 least occurring tokens \n",
    "\n",
    "2.Write a program to enter a string from user and perform following tasks.\n",
    "•Write a python functionnamed “RemoveStopWords”which returns the string after removing stop words\n",
    "•Count frequency ofeach stop word present in a string using the above function\n",
    "•Plot a bar graph depicting stop wordsand their frequencies \n",
    "\n",
    "3.Write a program to enter a string from user and perform following tasks\n",
    "•Write a python functionnamed “Lemmatize”which returns a string after lemmatizing the string.\n",
    "•Write a python functionnamed “Stemmed” which returns a string after stemming the string. (Use any stemmer of your preference)\n",
    "•Print all the words along with their lemmatized and stemmed form using theabove functions\n",
    "•Save these results in a csv file having 3 columns:Original WordLemmatized FormStemmed Form\n",
    "    \n",
    "4.Create a python file named “PreProcess” and perform the following tasks.\n",
    "•Copy the function “Tokenize” in this file from question 1\n",
    "•Copy thefunction “RemoveStopWords” in this file from question 2\n",
    "•Copy the function “Lemmatize” in this file from question 3Create a function named “Refine” which accepts a string and call the above 3 functions in the same order i.e. first Tokenize then RemoveStopWords then Lemmatize.Remember:>Inputted string will be input to Tokenize Function> Tokenized String will be input to RemoveStopWords function> StopWordsRemoved string will be input to Lemmatize functionSave this python file as PreProcess and you can use this for upcoming assignments.\n"
   ]
  },
  {
   "cell_type": "code",
   "execution_count": 73,
   "metadata": {},
   "outputs": [],
   "source": [
    "from nltk.probability import FreqDist\n",
    "from nltk.tokenize import word_tokenize\n",
    "import pandas as pd\n",
    "import numpy as np\n",
    "import matplotlib.pyplot as plt\n",
    "import seaborn as sns"
   ]
  },
  {
   "cell_type": "code",
   "execution_count": 42,
   "metadata": {},
   "outputs": [
    {
     "name": "stdout",
     "output_type": "stream",
     "text": [
      "Enter a string to analyse:Write a program to enter a string from user and perform following tasks •Write a python functionnamed “Tokenize”which returnsthe tokenized string •Print tokens along with the frequency of each tokenusing the above function •Print the 5 least occurring tokens \n"
     ]
    }
   ],
   "source": [
    "userinput = input(\"Enter a string to analyse:\")"
   ]
  },
  {
   "cell_type": "code",
   "execution_count": 162,
   "metadata": {},
   "outputs": [],
   "source": [
    "def Tokenize(userinput):\n",
    "    word_tokens = word_tokenize(userinput)\n",
    "    print(\"Number of Tokens: \",len(word_tokens))\n",
    "    \n",
    "    print(\"Frequency Distributions:\")\n",
    "    fdist = FreqDist()\n",
    "    for token in word_tokens:\n",
    "        fdist[token.lower()] +=1\n",
    "        \n",
    "    #print freq distributions   \n",
    "    for freq in fdist:\n",
    "        print(freq, fdist[freq])\n",
    "    print()\n",
    "    print(\"get 5 least frequent words:\")   \n",
    "    #get 5 least frequent words\n",
    "    print(fdist.most_common()[-5:])\n",
    "    \n",
    "    return word_tokens"
   ]
  },
  {
   "cell_type": "code",
   "execution_count": 163,
   "metadata": {},
   "outputs": [
    {
     "name": "stdout",
     "output_type": "stream",
     "text": [
      "Number of Tokens:  42\n",
      "Frequency Distributions:\n",
      "write 1\n",
      "a 3\n",
      "program 1\n",
      "to 1\n",
      "enter 1\n",
      "string 2\n",
      "from 1\n",
      "user 1\n",
      "and 1\n",
      "perform 1\n",
      "following 1\n",
      "tasks 1\n",
      "•write 1\n",
      "python 1\n",
      "functionnamed 1\n",
      "“ 1\n",
      "tokenize 1\n",
      "” 1\n",
      "which 1\n",
      "returnsthe 1\n",
      "tokenized 1\n",
      "•print 2\n",
      "tokens 2\n",
      "along 1\n",
      "with 1\n",
      "the 3\n",
      "frequency 1\n",
      "of 1\n",
      "each 1\n",
      "tokenusing 1\n",
      "above 1\n",
      "function 1\n",
      "5 1\n",
      "least 1\n",
      "occurring 1\n",
      "\n",
      "get 5 least frequent words:\n",
      "[('above', 1), ('function', 1), ('5', 1), ('least', 1), ('occurring', 1)]\n"
     ]
    }
   ],
   "source": [
    "tokens = Tokenize(userinput)  "
   ]
  },
  {
   "cell_type": "markdown",
   "metadata": {},
   "source": [
    "2.Write a program to enter a string from user and perform following tasks.\n",
    "•Write a python functionnamed “RemoveStopWords”which returns the string after removing stop words\n",
    "•Count frequency ofeach stop word present in a string using the above function\n",
    "•Plot a bar graph depicting stop wordsand their frequencies "
   ]
  },
  {
   "cell_type": "code",
   "execution_count": 55,
   "metadata": {},
   "outputs": [],
   "source": [
    "import re"
   ]
  },
  {
   "cell_type": "code",
   "execution_count": 60,
   "metadata": {},
   "outputs": [
    {
     "name": "stdout",
     "output_type": "stream",
     "text": [
      "Enter a string:Overall 7 years of Information Technology and Services experience with extensive experience in Robotic Process Automation using UiPath RPA Tools.  Experience in developing and managing RPA solutions using Robotic Enterprise Framework (REFramework), a framework for high quality automation delivery.  Experience in automating Field Service for Utility and Telecommunication Customers using Automation Agents.  Worked with Infosys Ltd. as a Senior Associate Consultant from December, 2015 to Now  Worked in Ericsson India Global Services Pvt Ltd as a Solution Integrator from November 2012 to December, 2015 (3 Years 2 Months). \n"
     ]
    }
   ],
   "source": [
    "inpstr2 = input(\"Enter a string:\")"
   ]
  },
  {
   "cell_type": "code",
   "execution_count": 77,
   "metadata": {},
   "outputs": [],
   "source": [
    "def RemoveStopWords(inpstr2):\n",
    "    punctuations = re.compile(r'[-.?!,:;()|0-9]')\n",
    "    post_punc = []\n",
    "    stopwords =[]\n",
    "    stopword_counts = []\n",
    "    fdist = FreqDist()\n",
    "    for word_token in word_tokenize(inpstr2):\n",
    "        word = punctuations.sub(\"\", word_token)\n",
    "        if word_token != word:\n",
    "            fdist[word_token]+=1\n",
    "        if len(word)>0:\n",
    "            post_punc.append(word)\n",
    "    for stpword in fdist:\n",
    "        print(stpword, fdist[stpword])\n",
    "        stopwords.append(stpword)\n",
    "        stopword_counts.append(fdist[stpword])\n",
    "    plt.bar(stopwords,stopword_counts)\n",
    "    return \" \".join(post_punc) "
   ]
  },
  {
   "cell_type": "code",
   "execution_count": 78,
   "metadata": {},
   "outputs": [
    {
     "name": "stdout",
     "output_type": "stream",
     "text": [
      "7 1\n",
      ". 4\n",
      "( 2\n",
      ") 2\n",
      ", 3\n",
      "Ltd. 1\n",
      "2015 2\n",
      "2012 1\n",
      "3 1\n",
      "2 1\n"
     ]
    },
    {
     "data": {
      "text/plain": [
       "'Overall years of Information Technology and Services experience with extensive experience in Robotic Process Automation using UiPath RPA Tools \\uf0d8 Experience in developing and managing RPA solutions using Robotic Enterprise Framework REFramework a framework for high quality automation delivery \\uf0d8 Experience in automating Field Service for Utility and Telecommunication Customers using Automation Agents \\uf0d8 Worked with Infosys Ltd as a Senior Associate Consultant from December to Now \\uf0d8 Worked in Ericsson India Global Services Pvt Ltd as a Solution Integrator from November to December Years Months'"
      ]
     },
     "execution_count": 78,
     "metadata": {},
     "output_type": "execute_result"
    },
    {
     "data": {
      "image/png": "[encoded data removed]",
      "text/plain": [
       "<Figure size 432x288 with 1 Axes>"
      ]
     },
     "metadata": {
      "needs_background": "light"
     },
     "output_type": "display_data"
    }
   ],
   "source": [
    "RemoveStopWords(inpstr2)"
   ]
  },
  {
   "cell_type": "markdown",
   "metadata": {},
   "source": [
    "3.Write a program to enter a string from user and perform following tasks\n",
    "•Write a python functionnamed “Lemmatize”which returns a string after lemmatizing the string.\n",
    "•Write a python functionnamed “Stemmed” which returns a string after stemming the string. (Use any stemmer of your preference)\n",
    "•Print all the words along with their lemmatized and stemmed form using theabove functions\n",
    "•Save these results in a csv file having 3 columns:Original WordLemmatized FormStemmed Form"
   ]
  },
  {
   "cell_type": "code",
   "execution_count": 104,
   "metadata": {},
   "outputs": [],
   "source": [
    "from nltk.stem import wordnet\n",
    "from nltk.stem import WordNetLemmatizer\n",
    "from nltk import pos_tag"
   ]
  },
  {
   "cell_type": "code",
   "execution_count": 146,
   "metadata": {},
   "outputs": [
    {
     "name": "stdout",
     "output_type": "stream",
     "text": [
      "Enter input string: Write a program to enter\n"
     ]
    }
   ],
   "source": [
    "inpstr3 = input(\"Enter input string: \")"
   ]
  },
  {
   "cell_type": "code",
   "execution_count": 173,
   "metadata": {},
   "outputs": [],
   "source": [
    "def get_wordnet_pos(treebank_tag):\n",
    "        \"\"\"\n",
    "        return WORDNET POS compliance to WORDENT lemmatization (a,n,r,v) \n",
    "        \"\"\"\n",
    "        #if treebank_tag.startswith('J'):\n",
    "            #return wordnet.ADJ\n",
    "        #elif treebank_tag.startswith('V'):\n",
    "            #return wordnet.VERB\n",
    "        if treebank_tag.startswith('N'):\n",
    "            return wordnet.NOUN\n",
    "        #elif treebank_tag.startswith('R'):\n",
    "            #return wordnet.ADV\n",
    "        else:\n",
    "            # As default pos in lemmatization is Noun\n",
    "            return wordnet.NOUN"
   ]
  },
  {
   "cell_type": "code",
   "execution_count": 151,
   "metadata": {},
   "outputs": [],
   "source": [
    "def Lemmatize(inpstr3):\n",
    "    word_lem = WordNetLemmatizer()\n",
    "    for word_token in word_tokenize(inpstr3):\n",
    "        postagged = pos_tag([word_token])\n",
    "        print(postagged[0][1])\n",
    "        posval = get_wordnet_pos(postagged[0][1])\n",
    "        print(word_token + \": \"+ word_lem.lemmatize(word_token, posval)) "
   ]
  },
  {
   "cell_type": "code",
   "execution_count": 152,
   "metadata": {},
   "outputs": [
    {
     "name": "stdout",
     "output_type": "stream",
     "text": [
      "VB\n",
      "Write: Write\n",
      "DT\n",
      "a: a\n",
      "NN\n",
      "program: program\n",
      "TO\n",
      "to: to\n",
      "NN\n",
      "enter: enter\n"
     ]
    }
   ],
   "source": [
    "Lemmatize(inpstr3)"
   ]
  },
  {
   "cell_type": "code",
   "execution_count": 157,
   "metadata": {},
   "outputs": [],
   "source": [
    "from nltk.stem import PorterStemmer\n",
    "def Stemmed(inpstr3):\n",
    "    ps = PorterStemmer()\n",
    "    for word in word_tokenize(inpstr3):\n",
    "        print(word+\": \"+ps.stem(word))"
   ]
  },
  {
   "cell_type": "code",
   "execution_count": 158,
   "metadata": {},
   "outputs": [
    {
     "name": "stdout",
     "output_type": "stream",
     "text": [
      "Write: write\n",
      "a: a\n",
      "program: program\n",
      "to: to\n",
      "enter: enter\n"
     ]
    }
   ],
   "source": [
    "Stemmed(inpstr3)"
   ]
  },
  {
   "cell_type": "code",
   "execution_count": 160,
   "metadata": {},
   "outputs": [],
   "source": [
    "def ExportToCSV(inpstr3):\n",
    "    word_lem = WordNetLemmatizer()\n",
    "    ps = PorterStemmer()\n",
    "    word_lst = []\n",
    "    stemed_lst =[]\n",
    "    lemm_lst = []\n",
    "    for word_token in word_tokenize(inpstr3):\n",
    "        word_lst.append(word_token)\n",
    "        stemed_lst.append(ps.stem(word_token))\n",
    "        postagged = pos_tag([word_token])\n",
    "        #print(postagged[0][1])\n",
    "        posval = get_wordnet_pos(postagged[0][1])\n",
    "        #print(word_token + \": \"+ word_lem.lemmatize(word_token, posval))\n",
    "        lemm_lst.append(word_lem.lemmatize(word_token, posval))\n",
    "    data = {'Word':word_lst, \"Stemmed\": stemed_lst, \"Lemmitized\": lemm_lst}\n",
    "    df = pd.DataFrame(data)\n",
    "    df.to_csv(\"file1.csv\")\n",
    "    "
   ]
  },
  {
   "cell_type": "code",
   "execution_count": 161,
   "metadata": {},
   "outputs": [],
   "source": [
    "ExportToCSV(inpstr3)"
   ]
  },
  {
   "cell_type": "markdown",
   "metadata": {},
   "source": [
    "4.Create a python file named “PreProcess” and perform the following tasks.\n",
    ">Copy the function “Tokenize” in this file from question 1\n",
    ">Copy thefunction “RemoveStopWords” in this file from question 2\n",
    ">Copy the function “Lemmatize” in this file from question 3Create a function named “Refine” which accepts a string and call the above 3 functions in the same order i.e. first Tokenize then RemoveStopWords then Lemmatize.Remember:>Inputted string will be input to Tokenize Function> Tokenized String will be input to RemoveStopWords function> StopWordsRemoved string will be input to Lemmatize functionSave this python file as PreProcess and you can use this for upcoming assignments."
   ]
  },
  {
   "cell_type": "code",
   "execution_count": 174,
   "metadata": {},
   "outputs": [],
   "source": [
    "def Tokenize(userinput):\n",
    "    word_tokens = word_tokenize(userinput)\n",
    "    print(\"Number of Tokens: \",len(word_tokens))\n",
    "    \n",
    "    print(\"Frequency Distributions:\")\n",
    "    fdist = FreqDist()\n",
    "    for token in word_tokens:\n",
    "        fdist[token.lower()] +=1\n",
    "        \n",
    "    #print freq distributions   \n",
    "    for freq in fdist:\n",
    "        print(freq, fdist[freq])\n",
    "    print()\n",
    "    print(\"get 5 least frequent words:\")   \n",
    "    #get 5 least frequent words\n",
    "    print(fdist.most_common()[-5:])\n",
    "    \n",
    "    return word_tokens\n",
    "\n",
    "def RemoveStopWords(word_tokens):\n",
    "    punctuations = re.compile(r'[-.?!,:;()|0-9]')\n",
    "    post_punc = []\n",
    "    stopwords =[]\n",
    "    stopword_counts = []\n",
    "    fdist = FreqDist()\n",
    "    for word_token in word_tokens:\n",
    "        word = punctuations.sub(\"\", word_token)\n",
    "        if word_token != word:\n",
    "            fdist[word_token]+=1\n",
    "        if len(word)>0:\n",
    "            post_punc.append(word)\n",
    "    for stpword in fdist:\n",
    "        print(stpword, fdist[stpword])\n",
    "        stopwords.append(stpword)\n",
    "        stopword_counts.append(fdist[stpword])\n",
    "    plt.bar(stopwords,stopword_counts)\n",
    "    return \" \".join(post_punc) \n",
    "\n",
    "def Lemmatize(inpstr3):\n",
    "    word_lem = WordNetLemmatizer()\n",
    "    for word_token in word_tokenize(inpstr3):\n",
    "        postagged = pos_tag([word_token])\n",
    "        print(postagged[0][1])\n",
    "        posval = get_wordnet_pos(postagged[0][1])\n",
    "        print(word_token + \": \"+ word_lem.lemmatize(word_token, posval)) \n",
    "\n",
    "def Refine():\n",
    "    userinput = input(\"Enter input string: \")\n",
    "    word_tokens = Tokenize(userinput)\n",
    "    strwostopwords = RemoveStopWords(word_tokens)\n",
    "    Lemmatize(strwostopwords)"
   ]
  },
  {
   "cell_type": "code",
   "execution_count": 175,
   "metadata": {},
   "outputs": [
    {
     "name": "stdout",
     "output_type": "stream",
     "text": [
      "Enter input string: Copy the function “Lemmatize” in this file from question 3Create a function named “Refine” which accepts a string and call the above 3 functions in the same order i.e. first Tokenize then RemoveStopWords then Lemmatize.Remember:>Inputted string will be input to Tokenize Function> Tokenized String will be input to RemoveStopWords function> StopWordsRemoved string will be input to Lemmatize functionSave this python file as PreProcess and you can use this for upcoming assignments.\n",
      "Number of Tokens:  82\n",
      "Frequency Distributions:\n",
      "copy 1\n",
      "the 3\n",
      "function 4\n",
      "“ 2\n",
      "lemmatize 2\n",
      "” 2\n",
      "in 2\n",
      "this 3\n",
      "file 2\n",
      "from 1\n",
      "question 1\n",
      "3create 1\n",
      "a 2\n",
      "named 1\n",
      "refine 1\n",
      "which 1\n",
      "accepts 1\n",
      "string 4\n",
      "and 2\n",
      "call 1\n",
      "above 1\n",
      "3 1\n",
      "functions 1\n",
      "same 1\n",
      "order 1\n",
      "i.e 1\n",
      ". 2\n",
      "first 1\n",
      "tokenize 2\n",
      "then 2\n",
      "removestopwords 2\n",
      "lemmatize.remember 1\n",
      ": 1\n",
      "> 3\n",
      "inputted 1\n",
      "will 3\n",
      "be 3\n",
      "input 3\n",
      "to 3\n",
      "tokenized 1\n",
      "stopwordsremoved 1\n",
      "functionsave 1\n",
      "python 1\n",
      "as 1\n",
      "preprocess 1\n",
      "you 1\n",
      "can 1\n",
      "use 1\n",
      "for 1\n",
      "upcoming 1\n",
      "assignments 1\n",
      "\n",
      "get 5 least frequent words:\n",
      "[('can', 1), ('use', 1), ('for', 1), ('upcoming', 1), ('assignments', 1)]\n",
      "3Create 1\n",
      "3 1\n",
      "i.e 1\n",
      ". 2\n",
      "Lemmatize.Remember 1\n",
      ": 1\n",
      "NN\n",
      "Copy: Copy\n",
      "DT\n",
      "the: the\n",
      "NN\n",
      "function: function\n",
      "NN\n",
      "“: “\n",
      "VB\n",
      "Lemmatize: Lemmatize\n",
      "NN\n",
      "”: ”\n",
      "IN\n",
      "in: in\n",
      "DT\n",
      "this: this\n",
      "NN\n",
      "file: file\n",
      "IN\n",
      "from: from\n",
      "NN\n",
      "question: question\n",
      "NN\n",
      "Create: Create\n",
      "DT\n",
      "a: a\n",
      "NN\n",
      "function: function\n",
      "VBN\n",
      "named: named\n",
      "NN\n",
      "“: “\n",
      "NN\n",
      "Refine: Refine\n",
      "NN\n",
      "”: ”\n",
      "WDT\n",
      "which: which\n",
      "NNS\n",
      "accepts: accepts\n",
      "DT\n",
      "a: a\n",
      "NN\n",
      "string: string\n",
      "CC\n",
      "and: and\n",
      "NN\n",
      "call: call\n",
      "DT\n",
      "the: the\n",
      "IN\n",
      "above: above\n",
      "NNS\n",
      "functions: function\n",
      "IN\n",
      "in: in\n",
      "DT\n",
      "the: the\n",
      "JJ\n",
      "same: same\n",
      "NN\n",
      "order: order\n",
      "NN\n",
      "ie: ie\n",
      "RB\n",
      "first: first\n",
      "VB\n",
      "Tokenize: Tokenize\n",
      "RB\n",
      "then: then\n",
      "NNS\n",
      "RemoveStopWords: RemoveStopWords\n",
      "RB\n",
      "then: then\n",
      "NNP\n",
      "LemmatizeRemember: LemmatizeRemember\n",
      "NN\n",
      ">: >\n",
      "VBN\n",
      "Inputted: Inputted\n",
      "NN\n",
      "string: string\n",
      "MD\n",
      "will: will\n",
      "VB\n",
      "be: be\n",
      "NN\n",
      "input: input\n",
      "TO\n",
      "to: to\n",
      "VB\n",
      "Tokenize: Tokenize\n",
      "NN\n",
      "Function: Function\n",
      "NN\n",
      ">: >\n",
      "VBN\n",
      "Tokenized: Tokenized\n",
      "VBG\n",
      "String: String\n",
      "MD\n",
      "will: will\n",
      "VB\n",
      "be: be\n",
      "NN\n",
      "input: input\n",
      "TO\n",
      "to: to\n",
      "NNS\n",
      "RemoveStopWords: RemoveStopWords\n",
      "NN\n",
      "function: function\n",
      "NN\n",
      ">: >\n",
      "VBN\n",
      "StopWordsRemoved: StopWordsRemoved\n",
      "NN\n",
      "string: string\n",
      "MD\n",
      "will: will\n",
      "VB\n",
      "be: be\n",
      "NN\n",
      "input: input\n",
      "TO\n",
      "to: to\n",
      "VB\n",
      "Lemmatize: Lemmatize\n",
      "NN\n",
      "functionSave: functionSave\n",
      "DT\n",
      "this: this\n",
      "NN\n",
      "python: python\n",
      "NN\n",
      "file: file\n",
      "IN\n",
      "as: a\n",
      "NN\n",
      "PreProcess: PreProcess\n",
      "CC\n",
      "and: and\n",
      "PRP\n",
      "you: you\n",
      "MD\n",
      "can: can\n",
      "NN\n",
      "use: use\n",
      "DT\n",
      "this: this\n",
      "IN\n",
      "for: for\n",
      "VBG\n",
      "upcoming: upcoming\n",
      "NNS\n",
      "assignments: assignment\n"
     ]
    },
    {
     "data": {
      "image/png": "[encoded data removed]",
      "text/plain": [
       "<Figure size 432x288 with 1 Axes>"
      ]
     },
     "metadata": {
      "needs_background": "light"
     },
     "output_type": "display_data"
    }
   ],
   "source": [
    "Refine()"
   ]
  },
  {
   "cell_type": "code",
   "execution_count": null,
   "metadata": {},
   "outputs": [],
   "source": []
  }
 ],
 "metadata": {
  "kernelspec": {
   "display_name": "Python 3",
   "language": "python",
   "name": "python3"
  },
  "language_info": {
   "codemirror_mode": {
    "name": "ipython",
    "version": 3
   },
   "file_extension": ".py",
   "mimetype": "text/x-python",
   "name": "python",
   "nbconvert_exporter": "python",
   "pygments_lexer": "ipython3",
   "version": "3.7.1"
  }
 },
 "nbformat": 4,
 "nbformat_minor": 2
}
