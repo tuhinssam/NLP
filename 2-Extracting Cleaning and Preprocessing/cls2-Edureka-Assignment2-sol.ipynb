{
 "cells": [
  {
   "cell_type": "markdown",
   "metadata": {},
   "source": [
    "### Question 1"
   ]
  },
  {
   "cell_type": "raw",
   "metadata": {},
   "source": [
    "Read the file “Brexit.docx” and write a function in Python named “GetNGrams” which takes a string and a number ‘n’ as input and returns n-grams from the string."
   ]
  },
  {
   "cell_type": "code",
   "execution_count": 16,
   "metadata": {},
   "outputs": [],
   "source": [
    "#Reading file and content from user \n",
    "import docx\n",
    "document = docx.Document('Brexit.docx')\n",
    "content=[]\n",
    "for each in document.paragraphs:\n",
    "    content.append(each.text)\n",
    "content=\" \".join(content)\n",
    "\n",
    "#NGram Function\n",
    "import nltk\n",
    "def GetNGrams(string,n):\n",
    "    tokens=nltk.tokenize.word_tokenize(string)\n",
    "    return list(nltk.ngrams(tokens,n))"
   ]
  },
  {
   "cell_type": "markdown",
   "metadata": {},
   "source": [
    "### Question 2"
   ]
  },
  {
   "cell_type": "raw",
   "metadata": {},
   "source": [
    "Read the file “Brexit.docx” and write python functions which take a string as an input and returns:\n",
    "•\tNumber of Nouns (all forms of noun). Take function name as “NounsCount”\n",
    "•\tNumber of Pronouns (all forms). Take function name as “PronounsCount”\n",
    "•\tNumber of Adjectives (all forms). Take function name as “AdjectivesCount”\n",
    "•\tNumber of Verbs (all forms). Take function name as “VerbsCount”\n",
    "•\tNumber of Adverbs (all forms). Take function name as “AdverbsCount”\n"
   ]
  },
  {
   "cell_type": "code",
   "execution_count": 28,
   "metadata": {},
   "outputs": [],
   "source": [
    "def GetPOSTags(string):\n",
    "    tokens=nltk.word_tokenize(string)\n",
    "    pos_tags=nltk.pos_tag(tokens)\n",
    "    return pos_tags"
   ]
  },
  {
   "cell_type": "code",
   "execution_count": 50,
   "metadata": {
    "collapsed": true
   },
   "outputs": [],
   "source": [
    "#Number of Nouns\n",
    "def NounsCount(string):\n",
    "    POSTags=GetPOSTags(string)\n",
    "    allForms=['NN','NNP','NNS','NNPS']\n",
    "    count=0\n",
    "    for word,tag in POSTags:\n",
    "        if tag in allForms:\n",
    "            count+=1\n",
    "    return count\n",
    "\n",
    "#Number of Pronouns    \n",
    "def PronounsCount(string):\n",
    "    POSTags=GetPOSTags(string)\n",
    "    allForms=['PRP','PRP$']\n",
    "    count=0\n",
    "    for word,tag in POSTags:\n",
    "        if tag in allForms:\n",
    "            count+=1\n",
    "    return count\n",
    "\n",
    "#Number of Verbs    \n",
    "def VerbsCount(string):\n",
    "    POSTags=GetPOSTags(string)\n",
    "    allForms=['VB','VBP','VBZ','VBG','VBD','VBN']\n",
    "    count=0\n",
    "    for word,tag in POSTags:\n",
    "        if tag in allForms:\n",
    "            count+=1\n",
    "    return count\n",
    "\n",
    "#Number of Adjectives    \n",
    "def AdjectivesCount(string):\n",
    "    POSTags=GetPOSTags(string)\n",
    "    allForms=['JJ','JJR','JJS']\n",
    "    count=0\n",
    "    for word,tag in POSTags:\n",
    "        if tag in allForms:\n",
    "            count+=1\n",
    "    return count\n",
    "\n",
    "#Number of Adverbs    \n",
    "def AdverbsCount(string):\n",
    "    POSTags=GetPOSTags(string)\n",
    "    allForms=['RB','RBR']\n",
    "    count=0\n",
    "    for word,tag in POSTags:\n",
    "        if tag in allForms:\n",
    "            count+=1\n",
    "    return count"
   ]
  },
  {
   "cell_type": "code",
   "execution_count": 52,
   "metadata": {},
   "outputs": [
    {
     "data": {
      "image/png": "[encoded data removed]",
      "text/plain": [
       "<matplotlib.figure.Figure at 0x104d57f0>"
      ]
     },
     "metadata": {},
     "output_type": "display_data"
    }
   ],
   "source": [
    "#Plotting a pie chart\n",
    "\n",
    "nouns=NounsCount(content)\n",
    "pronouns=PronounsCount(content)\n",
    "adjectives=AdjectivesCount(content)\n",
    "adverbs=AdverbsCount(content)\n",
    "verbs=VerbsCount(content)\n",
    "allTags=[nouns,pronouns,adverbs,adjectives,verbs]\n",
    "labels=['NounsCount','PronounsCount','AdverbsCount','AdjectivesCount','VerbsCount']\n",
    "\n",
    "import matplotlib.pyplot as plt\n",
    "plt.figure(figsize=(5,5))\n",
    "plt.pie(allTags,labels=labels)\n",
    "plt.show()"
   ]
  },
  {
   "cell_type": "markdown",
   "metadata": {},
   "source": [
    "### Question 3"
   ]
  },
  {
   "cell_type": "raw",
   "metadata": {},
   "source": [
    "Read the file “Brexit.docx” and write python functions which take a string as an input and returns:\n",
    "•\tNumber of geo-Political entities present in the file. Take function name as “GeoPoliticalCount”\n",
    "•\tNumber of Persons present in the file. Take function name as “PersonsCount”\n",
    "•\tNumbers of Organizations mentioned in the file. Take function name as “OrganizationsCount”\n",
    "\n"
   ]
  },
  {
   "cell_type": "code",
   "execution_count": 88,
   "metadata": {},
   "outputs": [],
   "source": [
    "# Run nltk.download('maxent_ne_chunker') and nltk.download('words') to use 'NE Chunk'\n",
    "import nltk\n",
    "from nltk import ne_chunk\n",
    "def GetNERTags(string):\n",
    "    tokens=nltk.word_tokenize(string)\n",
    "    POSTags=nltk.pos_tag(tokens)\n",
    "    NER=ne_chunk(POSTags)\n",
    "    return NER"
   ]
  },
  {
   "cell_type": "code",
   "execution_count": 89,
   "metadata": {
    "collapsed": true
   },
   "outputs": [],
   "source": [
    "#Number of GeoPolitical entities \n",
    "def GeoPoliticalCount(string):\n",
    "    NER=GetNERTags(string)\n",
    "    count=0\n",
    "    for each in NER:\n",
    "        if hasattr(each, 'label') and each.label()==\"GPE\":\n",
    "            count+=1\n",
    "    return count\n",
    "\n",
    "#Number of Persons   \n",
    "def PersonsCount(string):\n",
    "    NER=GetNERTags(string)\n",
    "    count=0\n",
    "    for each in NER:\n",
    "        if hasattr(each, 'label') and each.label()==\"PERSON\":\n",
    "            count+=1\n",
    "    return count\n",
    "\n",
    "#Number of Organizations\n",
    "def OrganizationCount(string):\n",
    "    NER=GetNERTags(string)\n",
    "    count=0\n",
    "    for each in NER:\n",
    "        if hasattr(each, 'label') and each.label()==\"ORGANIZATION\":\n",
    "            count+=1\n",
    "    return count\n"
   ]
  },
  {
   "cell_type": "markdown",
   "metadata": {},
   "source": [
    "### Question 4"
   ]
  },
  {
   "cell_type": "raw",
   "metadata": {},
   "source": [
    "Answer the following questions:\n",
    "•\tMost frequent bi-gram from the data\n",
    "•\tMost frequent Noun\n",
    "•\tMost frequent GeoPolitical Entity\n",
    "•\tMost frequent person\n"
   ]
  },
  {
   "cell_type": "code",
   "execution_count": 100,
   "metadata": {},
   "outputs": [
    {
     "data": {
      "text/plain": [
       "[((u',', u'the'), 7)]"
      ]
     },
     "execution_count": 100,
     "metadata": {},
     "output_type": "execute_result"
    }
   ],
   "source": [
    "#Most frequent bi-gram from the data\n",
    "from collections import Counter\n",
    "bigrams=GetNGrams(content,2)\n",
    "c=Counter(bigrams)\n",
    "c.most_common(1)"
   ]
  },
  {
   "cell_type": "code",
   "execution_count": 106,
   "metadata": {},
   "outputs": [
    {
     "data": {
      "text/plain": [
       "[(u'UK', 10)]"
      ]
     },
     "execution_count": 106,
     "metadata": {},
     "output_type": "execute_result"
    }
   ],
   "source": [
    "#Most frequent Noun Entity\n",
    "from collections import Counter\n",
    "import nltk\n",
    "\n",
    "tokens=nltk.word_tokenize(content)\n",
    "pos_tags=nltk.pos_tag(tokens)\n",
    "allFormsOfNoun=['NN','NNP','NNS','NNPS']\n",
    "allNouns=[]\n",
    "for word,tag in pos_tags:\n",
    "    if tag in allFormsOfNoun:\n",
    "        allNouns.append((word))\n",
    "c=Counter(allNouns)\n",
    "c.most_common(1)"
   ]
  },
  {
   "cell_type": "code",
   "execution_count": 111,
   "metadata": {},
   "outputs": [
    {
     "data": {
      "text/plain": [
       "[(u'EU', 6)]"
      ]
     },
     "execution_count": 111,
     "metadata": {},
     "output_type": "execute_result"
    }
   ],
   "source": [
    "#Most frequent GeoPolitical Entity\n",
    "from collections import Counter\n",
    "import nltk\n",
    "\n",
    "#use the function created above\n",
    "from nltk import ne_chunk\n",
    "def GetNERTags(string):\n",
    "    tokens=nltk.word_tokenize(string)\n",
    "    POSTags=nltk.pos_tag(tokens)\n",
    "    NER=ne_chunk(POSTags)\n",
    "    return NER\n",
    "\n",
    "#Get it for content of the file\n",
    "NER=GetNERTags(content)\n",
    "GlobalPoliticalEntities=[]\n",
    "for each in NER:\n",
    "    if hasattr(each, 'label') and each.label()==\"GPE\":\n",
    "        GlobalPoliticalEntities.append(each[0][0])\n",
    "\n",
    "c=Counter(GlobalPoliticalEntities)\n",
    "c.most_common(1)"
   ]
  },
  {
   "cell_type": "code",
   "execution_count": 112,
   "metadata": {},
   "outputs": [
    {
     "data": {
      "text/plain": [
       "[(u'Brexit', 2)]"
      ]
     },
     "execution_count": 112,
     "metadata": {},
     "output_type": "execute_result"
    }
   ],
   "source": [
    "#Most frequent Person\n",
    "from collections import Counter\n",
    "import nltk\n",
    "\n",
    "#use the function created above\n",
    "from nltk import ne_chunk\n",
    "def GetNERTags(string):\n",
    "    tokens=nltk.word_tokenize(string)\n",
    "    POSTags=nltk.pos_tag(tokens)\n",
    "    NER=ne_chunk(POSTags)\n",
    "    return NER\n",
    "\n",
    "#Get it for content of the file\n",
    "NER=GetNERTags(content)\n",
    "PERSON=[]\n",
    "for each in NER:\n",
    "    if hasattr(each, 'label') and each.label()==\"PERSON\":\n",
    "        PERSON.append(each[0][0])\n",
    "\n",
    "c=Counter(PERSON)\n",
    "c.most_common(1)"
   ]
  }
 ],
 "metadata": {
  "kernelspec": {
   "display_name": "Python 3",
   "language": "python",
   "name": "python3"
  },
  "language_info": {
   "codemirror_mode": {
    "name": "ipython",
    "version": 3
   },
   "file_extension": ".py",
   "mimetype": "text/x-python",
   "name": "python",
   "nbconvert_exporter": "python",
   "pygments_lexer": "ipython3",
   "version": "3.7.1"
  }
 },
 "nbformat": 4,
 "nbformat_minor": 2
}
